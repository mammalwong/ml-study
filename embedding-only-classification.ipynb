{
 "cells": [
  {
   "cell_type": "code",
   "execution_count": 1,
   "metadata": {},
   "outputs": [
    {
     "name": "stderr",
     "output_type": "stream",
     "text": [
      "Using TensorFlow backend.\n"
     ]
    }
   ],
   "source": [
    "import numpy as np\n",
    "import matplotlib.pyplot as plt\n",
    "import keras\n",
    "import keras.backend as K"
   ]
  },
  {
   "cell_type": "code",
   "execution_count": 2,
   "metadata": {
    "collapsed": true
   },
   "outputs": [],
   "source": [
    "(X_train,Y_train),(X_test,Y_test) = keras.datasets.reuters.load_data()"
   ]
  },
  {
   "cell_type": "code",
   "execution_count": 3,
   "metadata": {},
   "outputs": [
    {
     "data": {
      "image/png": "[encoded data removed]",
      "text/plain": [
       "<matplotlib.figure.Figure at 0x7f7a07715be0>"
      ]
     },
     "metadata": {},
     "output_type": "display_data"
    }
   ],
   "source": [
    "data_input_len_quantile_x = np.linspace(0, 1, num=100)\n",
    "data_input_len_quantile_y = np.quantile(\n",
    "    [len(x) for x in X_train] + [len(x) for x in X_test], data_input_len_quantile_x)\n",
    "plt.plot(data_input_len_quantile_x, data_input_len_quantile_y)\n",
    "plt.show()"
   ]
  },
  {
   "cell_type": "code",
   "execution_count": 4,
   "metadata": {},
   "outputs": [
    {
     "data": {
      "text/plain": [
       "((8982, 256), (8982,), (2246, 256), (2246,))"
      ]
     },
     "execution_count": 4,
     "metadata": {},
     "output_type": "execute_result"
    }
   ],
   "source": [
    "X_train = keras.preprocessing.sequence.pad_sequences(X_train, maxlen=256, padding='post', truncating='post')\n",
    "X_test = keras.preprocessing.sequence.pad_sequences(X_test, maxlen=256, padding='post', truncating='post')\n",
    "Y_train = np.array(Y_train)\n",
    "Y_test = np.array(Y_test)\n",
    "X_train.shape, Y_train.shape, X_test.shape, Y_test.shape"
   ]
  },
  {
   "cell_type": "code",
   "execution_count": 5,
   "metadata": {},
   "outputs": [
    {
     "data": {
      "text/plain": [
       "30982"
      ]
     },
     "execution_count": 5,
     "metadata": {},
     "output_type": "execute_result"
    }
   ],
   "source": [
    "data_input_dim = max(np.max(X_train), np.max(X_test)) + 1\n",
    "data_input_dim"
   ]
  },
  {
   "cell_type": "code",
   "execution_count": 6,
   "metadata": {},
   "outputs": [
    {
     "data": {
      "text/plain": [
       "46"
      ]
     },
     "execution_count": 6,
     "metadata": {},
     "output_type": "execute_result"
    }
   ],
   "source": [
    "data_output_dim = max(np.max(Y_train), np.max(Y_test)) + 1\n",
    "data_output_dim"
   ]
  },
  {
   "cell_type": "code",
   "execution_count": 7,
   "metadata": {},
   "outputs": [
    {
     "name": "stdout",
     "output_type": "stream",
     "text": [
      "_________________________________________________________________\n",
      "Layer (type)                 Output Shape              Param #   \n",
      "=================================================================\n",
      "input_1 (InputLayer)         (None, None)              0         \n",
      "_________________________________________________________________\n",
      "embedding_1 (Embedding)      (None, None, 16)          495712    \n",
      "_________________________________________________________________\n",
      "lambda_1 (Lambda)            (None, 16)                0         \n",
      "_________________________________________________________________\n",
      "dense_1 (Dense)              (None, 46)                782       \n",
      "=================================================================\n",
      "Total params: 496,494\n",
      "Trainable params: 496,494\n",
      "Non-trainable params: 0\n",
      "_________________________________________________________________\n"
     ]
    }
   ],
   "source": [
    "X = X_inputs = keras.layers.Input((None,), dtype='int32')\n",
    "X = keras.layers.Embedding(data_input_dim, 16, mask_zero=True)(X)\n",
    "X = keras.layers.Lambda(lambda x: K.mean(x, axis=-2))(X)\n",
    "X = keras.layers.Dense(data_output_dim, activation='softmax')(X)\n",
    "M = keras.Model(X_inputs, X)\n",
    "M.compile('nadam', 'sparse_categorical_crossentropy', ['acc'])\n",
    "M.summary()"
   ]
  },
  {
   "cell_type": "code",
   "execution_count": 8,
   "metadata": {
    "scrolled": true
   },
   "outputs": [
    {
     "name": "stdout",
     "output_type": "stream",
     "text": [
      "Train on 8982 samples, validate on 2246 samples\n",
      "Epoch 1/50\n",
      "8982/8982 [==============================] - 3s 306us/step - loss: 3.0887 - acc: 0.3493 - val_loss: 2.3566 - val_acc: 0.3620\n",
      "Epoch 2/50\n",
      "8982/8982 [==============================] - 2s 181us/step - loss: 2.2725 - acc: 0.3520 - val_loss: 2.2272 - val_acc: 0.3660\n",
      "Epoch 3/50\n",
      "8982/8982 [==============================] - 2s 180us/step - loss: 2.1678 - acc: 0.3716 - val_loss: 2.1273 - val_acc: 0.3972\n",
      "Epoch 4/50\n",
      "8982/8982 [==============================] - 2s 182us/step - loss: 2.0590 - acc: 0.3926 - val_loss: 2.0183 - val_acc: 0.4154\n",
      "Epoch 5/50\n",
      "8982/8982 [==============================] - 2s 180us/step - loss: 1.9465 - acc: 0.4449 - val_loss: 1.9155 - val_acc: 0.4915\n",
      "Epoch 6/50\n",
      "8982/8982 [==============================] - 2s 181us/step - loss: 1.8364 - acc: 0.5176 - val_loss: 1.8188 - val_acc: 0.5414\n",
      "Epoch 7/50\n",
      "8982/8982 [==============================] - 2s 178us/step - loss: 1.7294 - acc: 0.5752 - val_loss: 1.7276 - val_acc: 0.5913\n",
      "Epoch 8/50\n",
      "8982/8982 [==============================] - 2s 180us/step - loss: 1.6270 - acc: 0.6202 - val_loss: 1.6445 - val_acc: 0.6282\n",
      "Epoch 9/50\n",
      "8982/8982 [==============================] - 2s 182us/step - loss: 1.5322 - acc: 0.6550 - val_loss: 1.5705 - val_acc: 0.6451\n",
      "Epoch 10/50\n",
      "8982/8982 [==============================] - 2s 179us/step - loss: 1.4478 - acc: 0.6713 - val_loss: 1.5061 - val_acc: 0.6638\n",
      "Epoch 11/50\n",
      "8982/8982 [==============================] - 2s 181us/step - loss: 1.3739 - acc: 0.6858 - val_loss: 1.4515 - val_acc: 0.6750\n",
      "Epoch 12/50\n",
      "8982/8982 [==============================] - 2s 180us/step - loss: 1.3088 - acc: 0.6969 - val_loss: 1.4038 - val_acc: 0.6799\n",
      "Epoch 13/50\n",
      "8982/8982 [==============================] - 2s 180us/step - loss: 1.2514 - acc: 0.7055 - val_loss: 1.3628 - val_acc: 0.6866\n",
      "Epoch 14/50\n",
      "8982/8982 [==============================] - 2s 183us/step - loss: 1.1992 - acc: 0.7162 - val_loss: 1.3265 - val_acc: 0.6879\n",
      "Epoch 15/50\n",
      "8982/8982 [==============================] - 2s 182us/step - loss: 1.1514 - acc: 0.7266 - val_loss: 1.2926 - val_acc: 0.6981\n",
      "Epoch 16/50\n",
      "8982/8982 [==============================] - 2s 180us/step - loss: 1.1066 - acc: 0.7415 - val_loss: 1.2624 - val_acc: 0.7070\n",
      "Epoch 17/50\n",
      "8982/8982 [==============================] - 2s 182us/step - loss: 1.0651 - acc: 0.7545 - val_loss: 1.2352 - val_acc: 0.7128\n",
      "Epoch 18/50\n",
      "8982/8982 [==============================] - 2s 181us/step - loss: 1.0258 - acc: 0.7654 - val_loss: 1.2094 - val_acc: 0.7208\n",
      "Epoch 19/50\n",
      "8982/8982 [==============================] - 2s 181us/step - loss: 0.9891 - acc: 0.7741 - val_loss: 1.1850 - val_acc: 0.7271\n",
      "Epoch 20/50\n",
      "8982/8982 [==============================] - 2s 183us/step - loss: 0.9541 - acc: 0.7828 - val_loss: 1.1633 - val_acc: 0.7324\n",
      "Epoch 21/50\n",
      "8982/8982 [==============================] - 2s 185us/step - loss: 0.9216 - acc: 0.7890 - val_loss: 1.1425 - val_acc: 0.7382\n",
      "Epoch 22/50\n",
      "8982/8982 [==============================] - 2s 179us/step - loss: 0.8905 - acc: 0.7949 - val_loss: 1.1237 - val_acc: 0.7444\n",
      "Epoch 23/50\n",
      "8982/8982 [==============================] - 2s 180us/step - loss: 0.8608 - acc: 0.8015 - val_loss: 1.1060 - val_acc: 0.7471\n",
      "Epoch 24/50\n",
      "8982/8982 [==============================] - 2s 181us/step - loss: 0.8326 - acc: 0.8069 - val_loss: 1.0887 - val_acc: 0.7516\n",
      "Epoch 25/50\n",
      "8982/8982 [==============================] - 2s 179us/step - loss: 0.8058 - acc: 0.8151 - val_loss: 1.0740 - val_acc: 0.7533\n",
      "Epoch 26/50\n",
      "8982/8982 [==============================] - 2s 182us/step - loss: 0.7797 - acc: 0.8218 - val_loss: 1.0597 - val_acc: 0.7565\n",
      "Epoch 27/50\n",
      "8982/8982 [==============================] - 2s 185us/step - loss: 0.7549 - acc: 0.8264 - val_loss: 1.0463 - val_acc: 0.7609\n",
      "Epoch 28/50\n",
      "8982/8982 [==============================] - 2s 183us/step - loss: 0.7310 - acc: 0.8324 - val_loss: 1.0335 - val_acc: 0.7649\n",
      "Epoch 29/50\n",
      "8982/8982 [==============================] - 2s 180us/step - loss: 0.7078 - acc: 0.8380 - val_loss: 1.0219 - val_acc: 0.7640\n",
      "Epoch 30/50\n",
      "8982/8982 [==============================] - 2s 182us/step - loss: 0.6856 - acc: 0.8425 - val_loss: 1.0111 - val_acc: 0.7685\n",
      "Epoch 31/50\n",
      "8982/8982 [==============================] - 2s 183us/step - loss: 0.6641 - acc: 0.8491 - val_loss: 1.0006 - val_acc: 0.7689\n",
      "Epoch 32/50\n",
      "8982/8982 [==============================] - 2s 179us/step - loss: 0.6432 - acc: 0.8544 - val_loss: 0.9914 - val_acc: 0.7743\n",
      "Epoch 33/50\n",
      "8982/8982 [==============================] - 2s 186us/step - loss: 0.6232 - acc: 0.8596 - val_loss: 0.9816 - val_acc: 0.7756\n",
      "Epoch 34/50\n",
      "8982/8982 [==============================] - 2s 179us/step - loss: 0.6038 - acc: 0.8647 - val_loss: 0.9728 - val_acc: 0.7778\n",
      "Epoch 35/50\n",
      "8982/8982 [==============================] - 2s 182us/step - loss: 0.5847 - acc: 0.8702 - val_loss: 0.9650 - val_acc: 0.7814\n",
      "Epoch 36/50\n",
      "8982/8982 [==============================] - 2s 182us/step - loss: 0.5665 - acc: 0.8750 - val_loss: 0.9579 - val_acc: 0.7836\n",
      "Epoch 37/50\n",
      "8982/8982 [==============================] - 2s 181us/step - loss: 0.5485 - acc: 0.8800 - val_loss: 0.9514 - val_acc: 0.7827\n",
      "Epoch 38/50\n",
      "8982/8982 [==============================] - 2s 182us/step - loss: 0.5313 - acc: 0.8828 - val_loss: 0.9463 - val_acc: 0.7863\n",
      "Epoch 39/50\n",
      "8982/8982 [==============================] - 2s 187us/step - loss: 0.5149 - acc: 0.8858 - val_loss: 0.9391 - val_acc: 0.7916\n",
      "Epoch 40/50\n",
      "8982/8982 [==============================] - 2s 180us/step - loss: 0.4988 - acc: 0.8892 - val_loss: 0.9337 - val_acc: 0.7925\n",
      "Epoch 41/50\n",
      "8982/8982 [==============================] - 2s 183us/step - loss: 0.4830 - acc: 0.8929 - val_loss: 0.9298 - val_acc: 0.7925\n",
      "Epoch 42/50\n",
      "8982/8982 [==============================] - 2s 184us/step - loss: 0.4676 - acc: 0.8963 - val_loss: 0.9250 - val_acc: 0.7934\n",
      "Epoch 43/50\n",
      "8982/8982 [==============================] - 2s 181us/step - loss: 0.4530 - acc: 0.8995 - val_loss: 0.9205 - val_acc: 0.7952\n",
      "Epoch 44/50\n",
      "8982/8982 [==============================] - 2s 183us/step - loss: 0.4387 - acc: 0.9028 - val_loss: 0.9177 - val_acc: 0.7943\n",
      "Epoch 45/50\n",
      "8982/8982 [==============================] - 2s 184us/step - loss: 0.4250 - acc: 0.9066 - val_loss: 0.9154 - val_acc: 0.7934\n",
      "Epoch 46/50\n",
      "8982/8982 [==============================] - 2s 186us/step - loss: 0.4116 - acc: 0.9093 - val_loss: 0.9114 - val_acc: 0.7974\n",
      "Epoch 47/50\n",
      "8982/8982 [==============================] - 2s 183us/step - loss: 0.3984 - acc: 0.9114 - val_loss: 0.9099 - val_acc: 0.7979\n",
      "Epoch 48/50\n",
      "8982/8982 [==============================] - 2s 183us/step - loss: 0.3862 - acc: 0.9151 - val_loss: 0.9084 - val_acc: 0.7992\n",
      "Epoch 49/50\n",
      "8982/8982 [==============================] - 2s 181us/step - loss: 0.3740 - acc: 0.9166 - val_loss: 0.9053 - val_acc: 0.8005\n",
      "Epoch 50/50\n",
      "8982/8982 [==============================] - 2s 182us/step - loss: 0.3623 - acc: 0.9203 - val_loss: 0.9044 - val_acc: 0.8010\n"
     ]
    },
    {
     "data": {
      "text/plain": [
       "<keras.callbacks.History at 0x7f7a077156d8>"
      ]
     },
     "execution_count": 8,
     "metadata": {},
     "output_type": "execute_result"
    }
   ],
   "source": [
    "M.fit(X_train, Y_train, validation_data=(X_test,Y_test), batch_size=64, epochs=50, callbacks=[\n",
    "    keras.callbacks.ReduceLROnPlateau(verbose=1)\n",
    "])"
   ]
  }
 ],
 "metadata": {
  "kernelspec": {
   "display_name": "ml",
   "language": "python",
   "name": "ml"
  },
  "language_info": {
   "codemirror_mode": {
    "name": "ipython",
    "version": 3
   },
   "file_extension": ".py",
   "mimetype": "text/x-python",
   "name": "python",
   "nbconvert_exporter": "python",
   "pygments_lexer": "ipython3",
   "version": "3.6.4"
  }
 },
 "nbformat": 4,
 "nbformat_minor": 2
}
