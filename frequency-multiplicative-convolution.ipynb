{
 "cells": [
  {
   "cell_type": "code",
   "execution_count": 1,
   "metadata": {},
   "outputs": [
    {
     "name": "stderr",
     "output_type": "stream",
     "text": [
      "Using TensorFlow backend.\n"
     ]
    }
   ],
   "source": [
    "import numpy as np\n",
    "import matplotlib.pyplot as plt\n",
    "import tensorflow as tf\n",
    "import keras\n",
    "import keras.backend as K"
   ]
  },
  {
   "cell_type": "code",
   "execution_count": 2,
   "metadata": {},
   "outputs": [],
   "source": [
    "(X_train, Y_train), (X_test, Y_test) = keras.datasets.mnist.load_data()\n",
    "X_train, X_test = X_train/255, X_test/255\n",
    "if len(X_train.shape) != 4:\n",
    "    X_train, X_test = X_train[:,:,:,np.newaxis], X_test[:,:,:,np.newaxis]"
   ]
  },
  {
   "cell_type": "code",
   "execution_count": 3,
   "metadata": {
    "collapsed": true
   },
   "outputs": [],
   "source": [
    "class FrequencyMultiplicative(keras.layers.Layer):\n",
    "    \n",
    "    def __init__(self, filters, **kwargs):\n",
    "        self.filters = filters\n",
    "        super(FrequencyMultiplicative, self).__init__(**kwargs)\n",
    "    \n",
    "    def build(self, input_shape):\n",
    "        self.kernel = self.add_weight(\n",
    "            shape=(1, self.filters, input_shape[3], input_shape[1], input_shape[2]),\n",
    "            initializer='he_uniform', name='kernel')\n",
    "        self.bias = self.add_weight(\n",
    "            shape=(self.filters,),\n",
    "            initializer='zeros', name='bias')\n",
    "        super(FrequencyMultiplicative, self).build(input_shape)\n",
    "    \n",
    "    def call(self, inputs):\n",
    "        x = inputs\n",
    "        x = K.permute_dimensions(x, (0,3,2,1))\n",
    "        x = tf.spectral.dct(x, norm='ortho')\n",
    "        x = K.permute_dimensions(x, (0,1,3,2))\n",
    "        x = tf.spectral.dct(x, norm='ortho')\n",
    "        x = K.permute_dimensions(x, (0,1,3,2))\n",
    "        x = K.expand_dims(x, axis=1)\n",
    "        x = x * self.kernel\n",
    "        x = K.sum(x, axis=2, keepdims=False)\n",
    "        x = K.permute_dimensions(x, (0,1,3,2))\n",
    "        x = tf.spectral.idct(x, norm='ortho')\n",
    "        x = K.permute_dimensions(x, (0,1,3,2))\n",
    "        x = tf.spectral.idct(x, norm='ortho')\n",
    "        x = K.permute_dimensions(x, (0,2,3,1))\n",
    "        x = x + self.bias\n",
    "        return x\n",
    "    \n",
    "    def compute_output_shape(self, input_shape):\n",
    "        return input_shape[:-1] + (self.filters,)"
   ]
  },
  {
   "cell_type": "code",
   "execution_count": 4,
   "metadata": {
    "scrolled": false
   },
   "outputs": [
    {
     "name": "stdout",
     "output_type": "stream",
     "text": [
      "_________________________________________________________________\n",
      "Layer (type)                 Output Shape              Param #   \n",
      "=================================================================\n",
      "input_1 (InputLayer)         (None, 28, 28, 1)         0         \n",
      "_________________________________________________________________\n",
      "batch_normalization_1 (Batch (None, 28, 28, 1)         4         \n",
      "_________________________________________________________________\n",
      "frequency_multiplicative_1 ( (None, 28, 28, 8)         6280      \n",
      "_________________________________________________________________\n",
      "batch_normalization_2 (Batch (None, 28, 28, 8)         32        \n",
      "_________________________________________________________________\n",
      "activation_1 (Activation)    (None, 28, 28, 8)         0         \n",
      "_________________________________________________________________\n",
      "average_pooling2d_1 (Average (None, 14, 14, 8)         0         \n",
      "_________________________________________________________________\n",
      "frequency_multiplicative_2 ( (None, 14, 14, 16)        25104     \n",
      "_________________________________________________________________\n",
      "batch_normalization_3 (Batch (None, 14, 14, 16)        64        \n",
      "_________________________________________________________________\n",
      "activation_2 (Activation)    (None, 14, 14, 16)        0         \n",
      "_________________________________________________________________\n",
      "average_pooling2d_2 (Average (None, 7, 7, 16)          0         \n",
      "_________________________________________________________________\n",
      "frequency_multiplicative_3 ( (None, 7, 7, 32)          25120     \n",
      "_________________________________________________________________\n",
      "batch_normalization_4 (Batch (None, 7, 7, 32)          128       \n",
      "_________________________________________________________________\n",
      "activation_3 (Activation)    (None, 7, 7, 32)          0         \n",
      "_________________________________________________________________\n",
      "flatten_1 (Flatten)          (None, 1568)              0         \n",
      "_________________________________________________________________\n",
      "dense_1 (Dense)              (None, 10)                15690     \n",
      "=================================================================\n",
      "Total params: 72,422\n",
      "Trainable params: 72,308\n",
      "Non-trainable params: 114\n",
      "_________________________________________________________________\n"
     ]
    }
   ],
   "source": [
    "X = X_input = keras.layers.Input((28, 28, 1))\n",
    "X = keras.layers.BatchNormalization()(X)\n",
    "X = FrequencyMultiplicative(8)(X)\n",
    "X = keras.layers.BatchNormalization()(X)\n",
    "X = keras.layers.Activation('relu')(X)\n",
    "X = keras.layers.AveragePooling2D()(X)\n",
    "X = FrequencyMultiplicative(16)(X)\n",
    "X = keras.layers.BatchNormalization()(X)\n",
    "X = keras.layers.Activation('relu')(X)\n",
    "X = keras.layers.AveragePooling2D()(X)\n",
    "X = FrequencyMultiplicative(32)(X)\n",
    "X = keras.layers.BatchNormalization()(X)\n",
    "X = keras.layers.Activation('relu')(X)\n",
    "X = keras.layers.Flatten()(X)\n",
    "X = keras.layers.Dense(10, activation='softmax')(X)\n",
    "M = keras.Model(X_input, X)\n",
    "M.compile('nadam', 'sparse_categorical_crossentropy', ['acc'])\n",
    "M.summary()"
   ]
  },
  {
   "cell_type": "code",
   "execution_count": 5,
   "metadata": {},
   "outputs": [],
   "source": [
    "datagen = keras.preprocessing.image.ImageDataGenerator(\n",
    "    shear_range=0.1,\n",
    "    zoom_range=0.1,\n",
    "    rotation_range=10,\n",
    "    width_shift_range=0.1,\n",
    "    height_shift_range=0.1)\n",
    "datagen.fit(X_train)"
   ]
  },
  {
   "cell_type": "code",
   "execution_count": 6,
   "metadata": {},
   "outputs": [
    {
     "name": "stdout",
     "output_type": "stream",
     "text": [
      "Epoch 1/30\n",
      "938/937 [==============================] - 65s 70ms/step - loss: 0.2345 - acc: 0.9270 - val_loss: 0.1758 - val_acc: 0.9406\n",
      "Epoch 2/30\n",
      "938/937 [==============================] - 63s 68ms/step - loss: 0.1150 - acc: 0.9644 - val_loss: 0.0605 - val_acc: 0.9790\n",
      "Epoch 3/30\n",
      "938/937 [==============================] - 63s 67ms/step - loss: 0.0892 - acc: 0.9721 - val_loss: 0.0462 - val_acc: 0.9839\n",
      "Epoch 4/30\n",
      "938/937 [==============================] - 65s 69ms/step - loss: 0.0755 - acc: 0.9761 - val_loss: 0.0473 - val_acc: 0.9839\n",
      "Epoch 5/30\n",
      "938/937 [==============================] - 64s 68ms/step - loss: 0.0649 - acc: 0.9786 - val_loss: 0.0416 - val_acc: 0.9863\n",
      "Epoch 6/30\n",
      "938/937 [==============================] - 65s 69ms/step - loss: 0.0587 - acc: 0.9806 - val_loss: 0.0326 - val_acc: 0.9882\n",
      "Epoch 7/30\n",
      "938/937 [==============================] - 64s 68ms/step - loss: 0.0556 - acc: 0.9829 - val_loss: 0.0334 - val_acc: 0.9895\n",
      "Epoch 8/30\n",
      "938/937 [==============================] - 64s 68ms/step - loss: 0.0518 - acc: 0.9840 - val_loss: 0.0480 - val_acc: 0.9850\n",
      "Epoch 9/30\n",
      "938/937 [==============================] - 65s 70ms/step - loss: 0.0482 - acc: 0.9850 - val_loss: 0.0310 - val_acc: 0.9902\n",
      "Epoch 10/30\n",
      "938/937 [==============================] - 64s 68ms/step - loss: 0.0438 - acc: 0.9856 - val_loss: 0.0278 - val_acc: 0.9912\n",
      "Epoch 11/30\n",
      "938/937 [==============================] - 65s 70ms/step - loss: 0.0438 - acc: 0.9862 - val_loss: 0.0400 - val_acc: 0.9871\n",
      "Epoch 12/30\n",
      "938/937 [==============================] - 66s 70ms/step - loss: 0.0419 - acc: 0.9866 - val_loss: 0.0314 - val_acc: 0.9898\n",
      "Epoch 13/30\n",
      "938/937 [==============================] - 66s 70ms/step - loss: 0.0396 - acc: 0.9872 - val_loss: 0.0321 - val_acc: 0.9902\n",
      "\n",
      "Epoch 00013: ReduceLROnPlateau reducing learning rate to 0.00020000000949949026.\n",
      "Epoch 14/30\n",
      "938/937 [==============================] - 67s 71ms/step - loss: 0.0283 - acc: 0.9908 - val_loss: 0.0215 - val_acc: 0.9929\n",
      "Epoch 15/30\n",
      "938/937 [==============================] - 66s 70ms/step - loss: 0.0253 - acc: 0.9918 - val_loss: 0.0216 - val_acc: 0.9930\n",
      "Epoch 16/30\n",
      "938/937 [==============================] - 65s 70ms/step - loss: 0.0243 - acc: 0.9928 - val_loss: 0.0210 - val_acc: 0.9925\n",
      "Epoch 17/30\n",
      "938/937 [==============================] - 65s 69ms/step - loss: 0.0232 - acc: 0.9924 - val_loss: 0.0213 - val_acc: 0.9929\n",
      "Epoch 18/30\n",
      "938/937 [==============================] - 67s 72ms/step - loss: 0.0234 - acc: 0.9924 - val_loss: 0.0201 - val_acc: 0.9931\n",
      "Epoch 19/30\n",
      "938/937 [==============================] - 65s 69ms/step - loss: 0.0217 - acc: 0.9933 - val_loss: 0.0200 - val_acc: 0.9933\n",
      "Epoch 20/30\n",
      "938/937 [==============================] - 66s 70ms/step - loss: 0.0217 - acc: 0.9929 - val_loss: 0.0200 - val_acc: 0.9931\n",
      "Epoch 21/30\n",
      "938/937 [==============================] - 66s 70ms/step - loss: 0.0199 - acc: 0.9937 - val_loss: 0.0198 - val_acc: 0.9933\n",
      "Epoch 22/30\n",
      "938/937 [==============================] - 67s 71ms/step - loss: 0.0196 - acc: 0.9940 - val_loss: 0.0199 - val_acc: 0.9929\n",
      "Epoch 23/30\n",
      "938/937 [==============================] - 66s 71ms/step - loss: 0.0197 - acc: 0.9939 - val_loss: 0.0192 - val_acc: 0.9935\n",
      "Epoch 24/30\n",
      "938/937 [==============================] - 66s 70ms/step - loss: 0.0194 - acc: 0.9938 - val_loss: 0.0203 - val_acc: 0.9930\n",
      "Epoch 25/30\n",
      "938/937 [==============================] - 66s 70ms/step - loss: 0.0184 - acc: 0.9943 - val_loss: 0.0201 - val_acc: 0.9929\n",
      "Epoch 26/30\n",
      "938/937 [==============================] - 66s 70ms/step - loss: 0.0189 - acc: 0.9943 - val_loss: 0.0207 - val_acc: 0.9923\n",
      "\n",
      "Epoch 00026: ReduceLROnPlateau reducing learning rate to 2.0000000949949027e-05.\n",
      "Epoch 27/30\n",
      "938/937 [==============================] - 65s 70ms/step - loss: 0.0175 - acc: 0.9944 - val_loss: 0.0199 - val_acc: 0.9932\n",
      "Epoch 28/30\n",
      "938/937 [==============================] - 67s 71ms/step - loss: 0.0174 - acc: 0.9945 - val_loss: 0.0198 - val_acc: 0.9930\n",
      "Epoch 29/30\n",
      "938/937 [==============================] - 65s 69ms/step - loss: 0.0183 - acc: 0.9944 - val_loss: 0.0196 - val_acc: 0.9930\n",
      "\n",
      "Epoch 00029: ReduceLROnPlateau reducing learning rate to 2.0000001313746906e-06.\n",
      "Epoch 30/30\n",
      "938/937 [==============================] - 66s 70ms/step - loss: 0.0160 - acc: 0.9952 - val_loss: 0.0195 - val_acc: 0.9932\n"
     ]
    },
    {
     "data": {
      "text/plain": [
       "<keras.callbacks.History at 0x7f1e4781d160>"
      ]
     },
     "execution_count": 6,
     "metadata": {},
     "output_type": "execute_result"
    }
   ],
   "source": [
    "M.fit_generator(\n",
    "    datagen.flow(X_train, Y_train, batch_size=64), \n",
    "    validation_data=(X_test, Y_test),\n",
    "    steps_per_epoch=len(X_train) / 64, epochs=30, callbacks=[\n",
    "    keras.callbacks.ReduceLROnPlateau(patience=3, verbose=1),\n",
    "])"
   ]
  }
 ],
 "metadata": {
  "kernelspec": {
   "display_name": "ml",
   "language": "python",
   "name": "ml"
  },
  "language_info": {
   "codemirror_mode": {
    "name": "ipython",
    "version": 3
   },
   "file_extension": ".py",
   "mimetype": "text/x-python",
   "name": "python",
   "nbconvert_exporter": "python",
   "pygments_lexer": "ipython3",
   "version": "3.6.4"
  }
 },
 "nbformat": 4,
 "nbformat_minor": 2
}
