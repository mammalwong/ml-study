{
 "cells": [
  {
   "cell_type": "code",
   "execution_count": 1,
   "metadata": {},
   "outputs": [
    {
     "name": "stderr",
     "output_type": "stream",
     "text": [
      "Using TensorFlow backend.\n"
     ]
    }
   ],
   "source": [
    "import numpy as np\n",
    "import matplotlib.pyplot as plt\n",
    "import tensorflow as tf\n",
    "import keras\n",
    "import keras.backend as K"
   ]
  },
  {
   "cell_type": "code",
   "execution_count": 2,
   "metadata": {
    "collapsed": true
   },
   "outputs": [],
   "source": [
    "(X_train, Y_train), (X_test, Y_test) = keras.datasets.mnist.load_data()\n",
    "X_train, X_test = X_train/255, X_test/255\n",
    "if len(X_train.shape) != 4:\n",
    "    X_train, X_test = X_train[:,:,:,np.newaxis], X_test[:,:,:,np.newaxis]"
   ]
  },
  {
   "cell_type": "code",
   "execution_count": 3,
   "metadata": {
    "collapsed": true
   },
   "outputs": [],
   "source": [
    "class FrequencyMultiplicative(keras.layers.Layer):\n",
    "    \n",
    "    def __init__(self, filters, freq_filters=None, **kwargs):\n",
    "        self.filters = filters\n",
    "        self.freq_filters = freq_filters\n",
    "        super(FrequencyMultiplicative, self).__init__(**kwargs)\n",
    "    \n",
    "    def build(self, input_shape):\n",
    "        if self.freq_filters is not None:\n",
    "            self.kernel_freq = self.add_weight(\n",
    "                shape=(1, input_shape[1], input_shape[2],self.freq_filters, input_shape[3]),\n",
    "                initializer='he_uniform', name='kernel_freq')\n",
    "        self.kernel = self.add_weight(\n",
    "            shape=(1, self.filters,\n",
    "                   input_shape[3] if self.freq_filters is None else self.freq_filters,\n",
    "                   input_shape[2], input_shape[1]),\n",
    "            initializer='he_uniform', name='kernel')\n",
    "        self.bias = self.add_weight(\n",
    "            shape=(self.filters,),\n",
    "            initializer='zeros', name='bias')\n",
    "        super(FrequencyMultiplicative, self).build(input_shape)\n",
    "    \n",
    "    def call(self, inputs):\n",
    "        x = inputs\n",
    "        if self.freq_filters is not None:\n",
    "            x = K.expand_dims(x, axis=-2)\n",
    "            x = x * self.kernel_freq\n",
    "            x = K.sum(x, axis=-1, keepdims=False)\n",
    "        x = K.permute_dimensions(x, (0,3,1,2))\n",
    "        x = tf.spectral.dct(x, norm='ortho')\n",
    "        x = K.permute_dimensions(x, (0,1,3,2))\n",
    "        x = tf.spectral.dct(x, norm='ortho')\n",
    "        x = K.expand_dims(x, axis=1)\n",
    "        x = x * self.kernel\n",
    "        x = K.sum(x, axis=2, keepdims=False)\n",
    "        x = tf.spectral.idct(x, norm='ortho')\n",
    "        x = K.permute_dimensions(x, (0,1,3,2))\n",
    "        x = tf.spectral.idct(x, norm='ortho')\n",
    "        x = K.permute_dimensions(x, (0,2,3,1))\n",
    "        x = x + self.bias\n",
    "        return x\n",
    "    \n",
    "    def compute_output_shape(self, input_shape):\n",
    "        return input_shape[:-1] + (self.filters,)"
   ]
  },
  {
   "cell_type": "code",
   "execution_count": 4,
   "metadata": {
    "scrolled": false
   },
   "outputs": [
    {
     "name": "stdout",
     "output_type": "stream",
     "text": [
      "__________________________________________________________________________________________________\n",
      "Layer (type)                    Output Shape         Param #     Connected to                     \n",
      "==================================================================================================\n",
      "input_1 (InputLayer)            (None, 28, 28, 1)    0                                            \n",
      "__________________________________________________________________________________________________\n",
      "batch_normalization_1 (BatchNor (None, 28, 28, 1)    4           input_1[0][0]                    \n",
      "__________________________________________________________________________________________________\n",
      "frequency_multiplicative_1 (Fre (None, 28, 28, 8)    6280        batch_normalization_1[0][0]      \n",
      "__________________________________________________________________________________________________\n",
      "batch_normalization_2 (BatchNor (None, 28, 28, 8)    32          frequency_multiplicative_1[0][0] \n",
      "__________________________________________________________________________________________________\n",
      "activation_1 (Activation)       (None, 28, 28, 8)    0           batch_normalization_2[0][0]      \n",
      "__________________________________________________________________________________________________\n",
      "average_pooling2d_1 (AveragePoo (None, 14, 14, 8)    0           activation_1[0][0]               \n",
      "__________________________________________________________________________________________________\n",
      "frequency_multiplicative_2 (Fre (None, 14, 14, 8)    12552       average_pooling2d_1[0][0]        \n",
      "__________________________________________________________________________________________________\n",
      "frequency_multiplicative_3 (Fre (None, 14, 14, 8)    25096       average_pooling2d_1[0][0]        \n",
      "__________________________________________________________________________________________________\n",
      "concatenate_1 (Concatenate)     (None, 14, 14, 16)   0           frequency_multiplicative_2[0][0] \n",
      "                                                                 frequency_multiplicative_3[0][0] \n",
      "__________________________________________________________________________________________________\n",
      "batch_normalization_3 (BatchNor (None, 14, 14, 16)   64          concatenate_1[0][0]              \n",
      "__________________________________________________________________________________________________\n",
      "activation_2 (Activation)       (None, 14, 14, 16)   0           batch_normalization_3[0][0]      \n",
      "__________________________________________________________________________________________________\n",
      "average_pooling2d_2 (AveragePoo (None, 7, 7, 16)     0           activation_2[0][0]               \n",
      "__________________________________________________________________________________________________\n",
      "frequency_multiplicative_4 (Fre (None, 7, 7, 32)     25120       average_pooling2d_2[0][0]        \n",
      "__________________________________________________________________________________________________\n",
      "batch_normalization_4 (BatchNor (None, 7, 7, 32)     128         frequency_multiplicative_4[0][0] \n",
      "__________________________________________________________________________________________________\n",
      "activation_3 (Activation)       (None, 7, 7, 32)     0           batch_normalization_4[0][0]      \n",
      "__________________________________________________________________________________________________\n",
      "flatten_1 (Flatten)             (None, 1568)         0           activation_3[0][0]               \n",
      "__________________________________________________________________________________________________\n",
      "dense_1 (Dense)                 (None, 10)           15690       flatten_1[0][0]                  \n",
      "==================================================================================================\n",
      "Total params: 84,966\n",
      "Trainable params: 84,852\n",
      "Non-trainable params: 114\n",
      "__________________________________________________________________________________________________\n"
     ]
    }
   ],
   "source": [
    "X = X_input = keras.layers.Input((28, 28, 1))\n",
    "X = keras.layers.BatchNormalization()(X)\n",
    "X = FrequencyMultiplicative(8)(X)\n",
    "X = keras.layers.BatchNormalization()(X)\n",
    "X = keras.layers.Activation('relu')(X)\n",
    "X = keras.layers.AveragePooling2D()(X)\n",
    "X1 = FrequencyMultiplicative(8)(X)\n",
    "X2 = FrequencyMultiplicative(8, freq_filters=8)(X)\n",
    "X = keras.layers.Concatenate(axis=-1)([X1,X2])\n",
    "X = keras.layers.BatchNormalization()(X)\n",
    "X = keras.layers.Activation('relu')(X)\n",
    "X = keras.layers.AveragePooling2D()(X)\n",
    "X = FrequencyMultiplicative(32)(X)\n",
    "X = keras.layers.BatchNormalization()(X)\n",
    "X = keras.layers.Activation('relu')(X)\n",
    "X = keras.layers.Flatten()(X)\n",
    "X = keras.layers.Dense(10, activation='softmax')(X)\n",
    "M = keras.Model(X_input, X)\n",
    "M.compile('nadam', 'sparse_categorical_crossentropy', ['acc'])\n",
    "M.summary()"
   ]
  },
  {
   "cell_type": "code",
   "execution_count": 5,
   "metadata": {
    "collapsed": true
   },
   "outputs": [],
   "source": [
    "datagen = keras.preprocessing.image.ImageDataGenerator(\n",
    "    shear_range=0.1,\n",
    "    zoom_range=0.1,\n",
    "    rotation_range=10,\n",
    "    width_shift_range=0.1,\n",
    "    height_shift_range=0.1)\n",
    "datagen.fit(X_train)"
   ]
  },
  {
   "cell_type": "code",
   "execution_count": null,
   "metadata": {},
   "outputs": [
    {
     "name": "stdout",
     "output_type": "stream",
     "text": [
      "Epoch 1/30\n",
      "938/937 [==============================] - 77s 82ms/step - loss: 0.2496 - acc: 0.9208 - val_loss: 1.1450 - val_acc: 0.7735\n",
      "Epoch 2/30\n",
      "938/937 [==============================] - 74s 79ms/step - loss: 0.1176 - acc: 0.9635 - val_loss: 0.7673 - val_acc: 0.7934\n",
      "Epoch 3/30\n",
      "245/937 [======>.......................] - ETA: 50s - loss: 0.1039 - acc: 0.9666"
     ]
    }
   ],
   "source": [
    "M.fit_generator(\n",
    "    datagen.flow(X_train, Y_train, batch_size=64), \n",
    "    validation_data=(X_test, Y_test),\n",
    "    steps_per_epoch=len(X_train) / 64, epochs=30, callbacks=[\n",
    "    keras.callbacks.ReduceLROnPlateau(patience=3, verbose=1),\n",
    "])"
   ]
  }
 ],
 "metadata": {
  "kernelspec": {
   "display_name": "ml",
   "language": "python",
   "name": "ml"
  },
  "language_info": {
   "codemirror_mode": {
    "name": "ipython",
    "version": 3
   },
   "file_extension": ".py",
   "mimetype": "text/x-python",
   "name": "python",
   "nbconvert_exporter": "python",
   "pygments_lexer": "ipython3",
   "version": "3.6.4"
  }
 },
 "nbformat": 4,
 "nbformat_minor": 2
}
