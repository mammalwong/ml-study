{
 "cells": [
  {
   "cell_type": "code",
   "execution_count": 69,
   "metadata": {},
   "outputs": [],
   "source": [
    "from sympy.abc import *\n",
    "from sympy import *\n",
    "init_printing()"
   ]
  },
  {
   "cell_type": "code",
   "execution_count": 72,
   "metadata": {},
   "outputs": [],
   "source": [
    "def P(l, m, x):\n",
    "    pmm = Number(1)\n",
    "    if m > 0:\n",
    "        somx2 = sqrt(1-x**2)\n",
    "        fact = Number(1)\n",
    "        for i in range(1, m+1):\n",
    "            pmm *= -fact * somx2\n",
    "            fact += 2\n",
    "    if l == m:\n",
    "        return pmm.simplify()\n",
    "    pmmp1 = x * (2*m+1) * pmm\n",
    "    if l == m+1:\n",
    "        return pmmp1.simplify()\n",
    "    pll = Number(0)\n",
    "    for ll in range(m+2, l+1):\n",
    "        pll = ((2*ll-1) * x * pmmp1 - (ll+m-1) * pmm) / (ll-m)\n",
    "        pmm = pmmp1\n",
    "        pmmp1 = pll\n",
    "    return pll.simplify()"
   ]
  },
  {
   "cell_type": "code",
   "execution_count": 83,
   "metadata": {},
   "outputs": [],
   "source": [
    "def K(l, m):\n",
    "    return sqrt(((2*l+1)/(4*pi))*(factorial(l-abs(m))/factorial(l+abs(m)))).simplify()"
   ]
  },
  {
   "cell_type": "code",
   "execution_count": 91,
   "metadata": {},
   "outputs": [],
   "source": [
    "def SH(l, m, theta, phi):\n",
    "    if m > 0:\n",
    "        return sqrt(2)*K(l,m)*cos(m*phi)*P(l,m,cos(theta))\n",
    "    elif m < 0:\n",
    "        return sqrt(2)*K(l,m)*sin(-m*phi)*P(l,-m,cos(theta))\n",
    "    else:\n",
    "        return K(l,m)*P(l,m,cos(theta))"
   ]
  },
  {
   "cell_type": "code",
   "execution_count": 110,
   "metadata": {},
   "outputs": [],
   "source": [
    "def polar_to_vec(theta, phi):\n",
    "    return cos(theta)*sin(phi), sin(theta)*sin(phi), cos(phi)\n",
    "def vec_to_polar(x, y, z):\n",
    "    return atan(y/x), acos(z)"
   ]
  },
  {
   "cell_type": "code",
   "execution_count": 125,
   "metadata": {},
   "outputs": [
    {
     "data": {
      "image/png": "[encoded data removed]",
      "text/latex": [
       "$$-0.173051297427275$$"
      ],
      "text/plain": [
       "-0.173051297427275"
      ]
     },
     "execution_count": 125,
     "metadata": {},
     "output_type": "execute_result"
    }
   ],
   "source": [
    "SH(9,2,theta,phi).evalf(subs={theta:1,phi:1})"
   ]
  }
 ],
 "metadata": {
  "kernelspec": {
   "display_name": "ml",
   "language": "python",
   "name": "ml"
  },
  "language_info": {
   "codemirror_mode": {
    "name": "ipython",
    "version": 3
   },
   "file_extension": ".py",
   "mimetype": "text/x-python",
   "name": "python",
   "nbconvert_exporter": "python",
   "pygments_lexer": "ipython3",
   "version": "3.6.5"
  }
 },
 "nbformat": 4,
 "nbformat_minor": 2
}
