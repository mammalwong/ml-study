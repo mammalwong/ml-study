{
 "cells": [
  {
   "cell_type": "code",
   "execution_count": 1,
   "metadata": {
    "collapsed": true
   },
   "outputs": [],
   "source": [
    "from sympy import *\n",
    "init_printing()"
   ]
  },
  {
   "cell_type": "code",
   "execution_count": 2,
   "metadata": {
    "collapsed": true
   },
   "outputs": [],
   "source": [
    "v = [Symbol(f'v_{{{i}}}') for i in range(10)]\n",
    "a = [Symbol(f'a_{{{i}}}') for i in range(10)]"
   ]
  },
  {
   "cell_type": "markdown",
   "metadata": {},
   "source": [
    "### toy function $f_1$"
   ]
  },
  {
   "cell_type": "code",
   "execution_count": 3,
   "metadata": {
    "collapsed": true
   },
   "outputs": [],
   "source": [
    "def f1(x, y, z):\n",
    "    return \\\n",
    "        x + y*2, \\\n",
    "        cos(z + y)"
   ]
  },
  {
   "cell_type": "code",
   "execution_count": 4,
   "metadata": {},
   "outputs": [
    {
     "data": {
      "text/latex": [
       "$$\\left[\\begin{matrix}1 & 2 & 0\\\\0 & - \\sin{\\left (v_{1} + v_{2} \\right )} & - \\sin{\\left (v_{1} + v_{2} \\right )}\\end{matrix}\\right]$$"
      ],
      "text/plain": [
       "⎡1           2                    0         ⎤\n",
       "⎢                                           ⎥\n",
       "⎣0  -sin(v_{1} + v_{2})  -sin(v_{1} + v_{2})⎦"
      ]
     },
     "execution_count": 4,
     "metadata": {},
     "output_type": "execute_result"
    }
   ],
   "source": [
    "Jf1 = Matrix(f1(*v[:3])).jacobian(v[:3]).applyfunc(simplify)\n",
    "Jf1"
   ]
  },
  {
   "cell_type": "markdown",
   "metadata": {},
   "source": [
    "### toy function $f_2$"
   ]
  },
  {
   "cell_type": "code",
   "execution_count": 5,
   "metadata": {
    "collapsed": true
   },
   "outputs": [],
   "source": [
    "def f2(x, y):\n",
    "    return \\\n",
    "        x**2 + y**2, \\\n",
    "        x * y, \\\n",
    "        x / y"
   ]
  },
  {
   "cell_type": "code",
   "execution_count": 6,
   "metadata": {
    "scrolled": true
   },
   "outputs": [
    {
     "data": {
      "text/latex": [
       "$$\\left[\\begin{matrix}2 v_{0} & 2 v_{1}\\\\v_{1} & v_{0}\\\\\\frac{1}{v_{1}} & - \\frac{v_{0}}{v_{1}^{2}}\\end{matrix}\\right]$$"
      ],
      "text/plain": [
       "⎡2⋅v_{0}  2⋅v_{1}⎤\n",
       "⎢                ⎥\n",
       "⎢ v_{1}    v_{0} ⎥\n",
       "⎢                ⎥\n",
       "⎢   1     -v_{0} ⎥\n",
       "⎢ ─────   ───────⎥\n",
       "⎢ v_{1}         2⎥\n",
       "⎣          v_{1} ⎦"
      ]
     },
     "execution_count": 6,
     "metadata": {},
     "output_type": "execute_result"
    }
   ],
   "source": [
    "Jf2 = Matrix(f2(*v[:2])).jacobian(v[:2]).applyfunc(simplify)\n",
    "Jf2"
   ]
  },
  {
   "cell_type": "markdown",
   "metadata": {},
   "source": [
    "### toy function $f_3$"
   ]
  },
  {
   "cell_type": "code",
   "execution_count": 7,
   "metadata": {
    "collapsed": true
   },
   "outputs": [],
   "source": [
    "def f3(x, y, z):\n",
    "    return x + y - z,"
   ]
  },
  {
   "cell_type": "code",
   "execution_count": 8,
   "metadata": {
    "scrolled": true
   },
   "outputs": [
    {
     "data": {
      "text/latex": [
       "$$\\left[\\begin{matrix}1 & 1 & -1\\end{matrix}\\right]$$"
      ],
      "text/plain": [
       "[1  1  -1]"
      ]
     },
     "execution_count": 8,
     "metadata": {},
     "output_type": "execute_result"
    }
   ],
   "source": [
    "Jf3 = Matrix(f3(*v[:3])).jacobian(v[:3]).applyfunc(simplify)\n",
    "Jf3"
   ]
  },
  {
   "cell_type": "markdown",
   "metadata": {},
   "source": [
    "### toy function $f = f_3 \\circ f_2 \\circ f_1$"
   ]
  },
  {
   "cell_type": "code",
   "execution_count": 9,
   "metadata": {},
   "outputs": [
    {
     "data": {
      "image/png": "[encoded data removed]",
      "text/latex": [
       "$$\\left ( \\frac{- v_{0} - 2 v_{1} + \\left(\\left(v_{0} + 2 v_{1}\\right)^{2} + \\left(v_{0} + 2 v_{1}\\right) \\cos{\\left (v_{1} + v_{2} \\right )} + \\cos^{2}{\\left (v_{1} + v_{2} \\right )}\\right) \\cos{\\left (v_{1} + v_{2} \\right )}}{\\cos{\\left (v_{1} + v_{2} \\right )}}\\right )$$"
      ],
      "text/plain": [
       "⎛                   ⎛                 2                                       \n",
       "⎜-v_{0} - 2⋅v_{1} + ⎝(v_{0} + 2⋅v_{1})  + (v_{0} + 2⋅v_{1})⋅cos(v_{1} + v_{2})\n",
       "⎜─────────────────────────────────────────────────────────────────────────────\n",
       "⎝                                                   cos(v_{1} + v_{2})        \n",
       "\n",
       "      2               ⎞                    ⎞\n",
       " + cos (v_{1} + v_{2})⎠⋅cos(v_{1} + v_{2}) ⎟\n",
       "──────────────────────────────────────────,⎟\n",
       "                                           ⎠"
      ]
     },
     "execution_count": 9,
     "metadata": {},
     "output_type": "execute_result"
    }
   ],
   "source": [
    "f = tuple(f_.simplify() for f_ in f3(*f2(*f1(*v[:3]))))\n",
    "f"
   ]
  },
  {
   "cell_type": "markdown",
   "metadata": {},
   "source": [
    "### compute $J_f$ from $f$"
   ]
  },
  {
   "cell_type": "code",
   "execution_count": 10,
   "metadata": {},
   "outputs": [
    {
     "data": {
      "text/latex": [
       "$$\\left[\\begin{matrix}2 v_{0} + 4 v_{1} + \\cos{\\left (v_{1} + v_{2} \\right )} - \\frac{1}{\\cos{\\left (v_{1} + v_{2} \\right )}}\\\\\\frac{- \\frac{5 v_{0} \\sin{\\left (v_{1} + v_{2} \\right )}}{4} - \\frac{v_{0} \\sin{\\left (3 v_{1} + 3 v_{2} \\right )}}{4} + 2 v_{0} \\cos{\\left (2 v_{1} + 2 v_{2} \\right )} + 2 v_{0} - \\frac{5 v_{1} \\sin{\\left (v_{1} + v_{2} \\right )}}{2} - \\frac{v_{1} \\sin{\\left (3 v_{1} + 3 v_{2} \\right )}}{2} + 4 v_{1} \\cos{\\left (2 v_{1} + 2 v_{2} \\right )} + 4 v_{1} - \\frac{\\sin{\\left (2 v_{1} + 2 v_{2} \\right )}}{2} - \\frac{\\sin{\\left (4 v_{1} + 4 v_{2} \\right )}}{4} - \\frac{\\cos{\\left (v_{1} + v_{2} \\right )}}{2} + \\frac{\\cos{\\left (3 v_{1} + 3 v_{2} \\right )}}{2}}{\\cos^{2}{\\left (v_{1} + v_{2} \\right )}}\\\\- \\frac{\\left(v_{0} \\cos^{2}{\\left (v_{1} + v_{2} \\right )} + v_{0} + 2 v_{1} \\cos^{2}{\\left (v_{1} + v_{2} \\right )} + 2 v_{1} + 2 \\cos^{3}{\\left (v_{1} + v_{2} \\right )}\\right) \\sin{\\left (v_{1} + v_{2} \\right )}}{\\cos^{2}{\\left (v_{1} + v_{2} \\right )}}\\end{matrix}\\right]$$"
      ],
      "text/plain": [
       "⎡                                                                             \n",
       "⎢                                                                             \n",
       "⎢                                                                             \n",
       "⎢                                                                             \n",
       "⎢  5⋅v_{0}⋅sin(v_{1} + v_{2})   v_{0}⋅sin(3⋅v_{1} + 3⋅v_{2})                  \n",
       "⎢- ────────────────────────── - ──────────────────────────── + 2⋅v_{0}⋅cos(2⋅v\n",
       "⎢              4                             4                                \n",
       "⎢─────────────────────────────────────────────────────────────────────────────\n",
       "⎢                                                                             \n",
       "⎢                                                                             \n",
       "⎢                                                                             \n",
       "⎢                                                                             \n",
       "⎢                                                                             \n",
       "⎢                                                                             \n",
       "⎢                                                                             \n",
       "⎣                                                                             \n",
       "\n",
       "                                                                              \n",
       "                                            2⋅v_{0} + 4⋅v_{1} + cos(v_{1} + v_\n",
       "                                                                              \n",
       "                                                                              \n",
       "                            5⋅v_{1}⋅sin(v_{1} + v_{2})   v_{1}⋅sin(3⋅v_{1} + 3\n",
       "_{1} + 2⋅v_{2}) + 2⋅v_{0} - ────────────────────────── - ─────────────────────\n",
       "                                        2                             2       \n",
       "──────────────────────────────────────────────────────────────────────────────\n",
       "                                                                   2          \n",
       "                                                                cos (v_{1} + v\n",
       "                                                                              \n",
       "              ⎛         2                                     2               \n",
       "             -⎝v_{0}⋅cos (v_{1} + v_{2}) + v_{0} + 2⋅v_{1}⋅cos (v_{1} + v_{2})\n",
       "             ─────────────────────────────────────────────────────────────────\n",
       "                                                                  2           \n",
       "                                                               cos (v_{1} + v_\n",
       "\n",
       "               1                                                              \n",
       "{2}) - ──────────────────                                                     \n",
       "       cos(v_{1} + v_{2})                                                     \n",
       "                                                                              \n",
       "⋅v_{2})                                              sin(2⋅v_{1} + 2⋅v_{2})   \n",
       "─────── + 4⋅v_{1}⋅cos(2⋅v_{1} + 2⋅v_{2}) + 4⋅v_{1} - ────────────────────── - \n",
       "                                                               2              \n",
       "──────────────────────────────────────────────────────────────────────────────\n",
       "                                                                              \n",
       "_{2})                                                                         \n",
       "                                                                              \n",
       "                  3               ⎞                                           \n",
       " + 2⋅v_{1} + 2⋅cos (v_{1} + v_{2})⎠⋅sin(v_{1} + v_{2})                        \n",
       "───────────────────────────────────────────────────────                       \n",
       "                                                                              \n",
       "{2})                                                                          \n",
       "\n",
       "                                                                    ⎤\n",
       "                                                                    ⎥\n",
       "                                                                    ⎥\n",
       "                                                                    ⎥\n",
       "sin(4⋅v_{1} + 4⋅v_{2})   cos(v_{1} + v_{2})   cos(3⋅v_{1} + 3⋅v_{2})⎥\n",
       "────────────────────── - ────────────────── + ──────────────────────⎥\n",
       "          4                      2                      2           ⎥\n",
       "────────────────────────────────────────────────────────────────────⎥\n",
       "                                                                    ⎥\n",
       "                                                                    ⎥\n",
       "                                                                    ⎥\n",
       "                                                                    ⎥\n",
       "                                                                    ⎥\n",
       "                                                                    ⎥\n",
       "                                                                    ⎥\n",
       "                                                                    ⎦"
      ]
     },
     "execution_count": 10,
     "metadata": {},
     "output_type": "execute_result"
    }
   ],
   "source": [
    "Jf = Matrix(f).jacobian(v[:3]).applyfunc(simplify)\n",
    "Jf.T"
   ]
  },
  {
   "cell_type": "markdown",
   "metadata": {},
   "source": [
    "### compute $J_f$ from $J_{f_3}(f_2(f_1(x)))J_{f_2}(f_1(x))J_{f_1}(x)$"
   ]
  },
  {
   "cell_type": "code",
   "execution_count": 11,
   "metadata": {},
   "outputs": [
    {
     "data": {
      "text/latex": [
       "$$\\left[\\begin{matrix}2 v_{0} + 4 v_{1} + \\cos{\\left (v_{1} + v_{2} \\right )} - \\frac{1}{\\cos{\\left (v_{1} + v_{2} \\right )}}\\\\\\frac{- \\left(v_{0} + 2 v_{1} + \\left(v_{0} + 2 v_{1} + 2 \\cos{\\left (v_{1} + v_{2} \\right )}\\right) \\cos^{2}{\\left (v_{1} + v_{2} \\right )}\\right) \\sin{\\left (v_{1} + v_{2} \\right )} + 2 \\left(2 v_{0} + 4 v_{1} + \\cos{\\left (v_{1} + v_{2} \\right )}\\right) \\cos^{2}{\\left (v_{1} + v_{2} \\right )} - 2 \\cos{\\left (v_{1} + v_{2} \\right )}}{\\cos^{2}{\\left (v_{1} + v_{2} \\right )}}\\\\- \\frac{\\left(v_{0} + 2 v_{1} + \\left(v_{0} + 2 v_{1} + 2 \\cos{\\left (v_{1} + v_{2} \\right )}\\right) \\cos^{2}{\\left (v_{1} + v_{2} \\right )}\\right) \\sin{\\left (v_{1} + v_{2} \\right )}}{\\cos^{2}{\\left (v_{1} + v_{2} \\right )}}\\end{matrix}\\right]$$"
      ],
      "text/plain": [
       "⎡                                                                             \n",
       "⎢                                                                 2⋅v_{0} + 4⋅\n",
       "⎢                                                                             \n",
       "⎢                                                                             \n",
       "⎢  ⎛                                                              2           \n",
       "⎢- ⎝v_{0} + 2⋅v_{1} + (v_{0} + 2⋅v_{1} + 2⋅cos(v_{1} + v_{2}))⋅cos (v_{1} + v_\n",
       "⎢─────────────────────────────────────────────────────────────────────────────\n",
       "⎢                                                                             \n",
       "⎢                                                                             \n",
       "⎢                                                                             \n",
       "⎢                                             ⎛                               \n",
       "⎢                                            -⎝v_{0} + 2⋅v_{1} + (v_{0} + 2⋅v_\n",
       "⎢                                            ─────────────────────────────────\n",
       "⎢                                                                             \n",
       "⎣                                                                             \n",
       "\n",
       "                                     1                                        \n",
       "v_{1} + cos(v_{1} + v_{2}) - ──────────────────                               \n",
       "                             cos(v_{1} + v_{2})                               \n",
       "                                                                              \n",
       "    ⎞                                                                    2    \n",
       "{2})⎠⋅sin(v_{1} + v_{2}) + 2⋅(2⋅v_{0} + 4⋅v_{1} + cos(v_{1} + v_{2}))⋅cos (v_{\n",
       "──────────────────────────────────────────────────────────────────────────────\n",
       "           2                                                                  \n",
       "        cos (v_{1} + v_{2})                                                   \n",
       "                                                                              \n",
       "                               2               ⎞                              \n",
       "{1} + 2⋅cos(v_{1} + v_{2}))⋅cos (v_{1} + v_{2})⎠⋅sin(v_{1} + v_{2})           \n",
       "────────────────────────────────────────────────────────────────────          \n",
       "           2                                                                  \n",
       "        cos (v_{1} + v_{2})                                                   \n",
       "\n",
       "                                  ⎤\n",
       "                                  ⎥\n",
       "                                  ⎥\n",
       "                                  ⎥\n",
       "                                  ⎥\n",
       "1} + v_{2}) - 2⋅cos(v_{1} + v_{2})⎥\n",
       "──────────────────────────────────⎥\n",
       "                                  ⎥\n",
       "                                  ⎥\n",
       "                                  ⎥\n",
       "                                  ⎥\n",
       "                                  ⎥\n",
       "                                  ⎥\n",
       "                                  ⎥\n",
       "                                  ⎦"
      ]
     },
     "execution_count": 11,
     "metadata": {},
     "output_type": "execute_result"
    }
   ],
   "source": [
    "Jf_2 = ( \\\n",
    "    Jf3.subs({v_:p_ for v_,p_ in zip(v, f2(*f1(*a[:3])))}) @ \\\n",
    "    Jf2.subs({v_:p_ for v_,p_ in zip(v, f1(*a[:3]))}) @ \\\n",
    "    Jf1.subs({v_:p_ for v_,p_ in zip(v, a[:3])})\n",
    ").subs({v_:p_ for v_,p_ in zip(a,v)}).applyfunc(simplify)\n",
    "Jf_2.T"
   ]
  },
  {
   "cell_type": "markdown",
   "metadata": {},
   "source": [
    "### sanity check the two differently computed $J_f$"
   ]
  },
  {
   "cell_type": "code",
   "execution_count": 12,
   "metadata": {},
   "outputs": [
    {
     "data": {
      "text/latex": [
       "$$\\left[\\begin{matrix}6.75834209964714 & 78.4423139431183 & 64.925629743824\\end{matrix}\\right]$$"
      ],
      "text/plain": [
       "[6.75834209964714  78.4423139431183  64.925629743824]"
      ]
     },
     "metadata": {},
     "output_type": "display_data"
    },
    {
     "data": {
      "text/latex": [
       "$$\\left[\\begin{matrix}6.75834209964714 & 78.4423139431183 & 64.925629743824\\end{matrix}\\right]$$"
      ],
      "text/plain": [
       "[6.75834209964714  78.4423139431183  64.925629743824]"
      ]
     },
     "metadata": {},
     "output_type": "display_data"
    }
   ],
   "source": [
    "display(Jf.subs({v_:p_ for v_,p_ in zip(v, [1,2,3])}).evalf())\n",
    "display(Jf_2.subs({v_:p_ for v_,p_ in zip(v, [1,2,3])}).evalf())"
   ]
  },
  {
   "cell_type": "markdown",
   "metadata": {},
   "source": [
    "### automatic differentiation sanity test"
   ]
  },
  {
   "cell_type": "code",
   "execution_count": 13,
   "metadata": {},
   "outputs": [
    {
     "data": {
      "text/latex": [
       "$$\\left[\\begin{matrix}1 & 0 & 0\\\\0 & 1 & 0\\\\0 & 0 & 1\\end{matrix}\\right]$$"
      ],
      "text/plain": [
       "⎡1  0  0⎤\n",
       "⎢       ⎥\n",
       "⎢0  1  0⎥\n",
       "⎢       ⎥\n",
       "⎣0  0  1⎦"
      ]
     },
     "metadata": {},
     "output_type": "display_data"
    },
    {
     "data": {
      "text/latex": [
       "$$\\left[\\begin{matrix}1.0 & 2.0 & 0\\\\0 & 0.958924274663138 & 0.958924274663138\\end{matrix}\\right]$$"
      ],
      "text/plain": [
       "⎡1.0         2.0                 0        ⎤\n",
       "⎢                                         ⎥\n",
       "⎣ 0   0.958924274663138  0.958924274663138⎦"
      ]
     },
     "metadata": {},
     "output_type": "display_data"
    },
    {
     "data": {
      "text/latex": [
       "$$\\left[\\begin{matrix}10.0 & 20.5440211108894 & 0.54402111088937\\\\0.283662185463226 & 5.36194574424214 & 4.79462137331569\\\\3.52532008581609 & -52.5363470879868 & -59.5869872596189\\end{matrix}\\right]$$"
      ],
      "text/plain": [
       "⎡      10.0         20.5440211108894   0.54402111088937 ⎤\n",
       "⎢                                                       ⎥\n",
       "⎢0.283662185463226  5.36194574424214   4.79462137331569 ⎥\n",
       "⎢                                                       ⎥\n",
       "⎣3.52532008581609   -52.5363470879868  -59.5869872596189⎦"
      ]
     },
     "metadata": {},
     "output_type": "display_data"
    },
    {
     "data": {
      "text/latex": [
       "$$\\left[\\begin{matrix}6.75834209964714 & 78.4423139431183 & 64.925629743824\\end{matrix}\\right]$$"
      ],
      "text/plain": [
       "[6.75834209964714  78.4423139431183  64.925629743824]"
      ]
     },
     "metadata": {},
     "output_type": "display_data"
    }
   ],
   "source": [
    "p = (1, 2, 3)\n",
    "grads = eye(3)\n",
    "display(grads)\n",
    "grads = Jf1.subs({v_:p_ for v_,p_ in zip(v, p)}).evalf() @ grads\n",
    "display(grads)\n",
    "p = f1(*p)\n",
    "grads = Jf2.subs({v_:p_ for v_,p_ in zip(v, p)}).evalf() @ grads\n",
    "display(grads)\n",
    "p = f2(*p)\n",
    "grads = Jf3.subs({v_:p_ for v_,p_ in zip(v, p)}).evalf() @ grads\n",
    "display(grads)"
   ]
  }
 ],
 "metadata": {
  "kernelspec": {
   "display_name": "ml",
   "language": "python",
   "name": "ml"
  },
  "language_info": {
   "codemirror_mode": {
    "name": "ipython",
    "version": 3
   },
   "file_extension": ".py",
   "mimetype": "text/x-python",
   "name": "python",
   "nbconvert_exporter": "python",
   "pygments_lexer": "ipython3",
   "version": "3.6.4"
  }
 },
 "nbformat": 4,
 "nbformat_minor": 2
}
