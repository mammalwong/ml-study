{
 "cells": [
  {
   "cell_type": "code",
   "execution_count": 1,
   "metadata": {},
   "outputs": [
    {
     "name": "stderr",
     "output_type": "stream",
     "text": [
      "Using TensorFlow backend.\n"
     ]
    }
   ],
   "source": [
    "import numpy as np\n",
    "import matplotlib.pyplot as plt\n",
    "import keras\n",
    "import keras.backend as K"
   ]
  },
  {
   "cell_type": "code",
   "execution_count": 2,
   "metadata": {
    "collapsed": true
   },
   "outputs": [],
   "source": [
    "(X_train,Y_train),(X_test,Y_test) = keras.datasets.mnist.load_data()\n",
    "X_train_new = np.zeros((X_train.shape[0],32,32))\n",
    "X_test_new = np.zeros((X_test.shape[0],32,32))\n",
    "X_train_new[:,2:-2,2:-2] = X_train\n",
    "X_test_new[:,2:-2,2:-2] = X_test\n",
    "X_train,X_test = X_train_new[...,np.newaxis],X_test_new[...,np.newaxis]\n",
    "X_train,X_test = X_train/255,X_test/255\n",
    "Y_train = keras.utils.to_categorical(Y_train, num_classes=10)\n",
    "Y_test = keras.utils.to_categorical(Y_test, num_classes=10)"
   ]
  },
  {
   "cell_type": "code",
   "execution_count": 3,
   "metadata": {
    "collapsed": true
   },
   "outputs": [],
   "source": [
    "class CapsuleConv2D(keras.layers.Layer):\n",
    "    \n",
    "    def __init__(self, channels, kernel_size, strides=(1,1),\n",
    "                 em_steps=3, temp_start=75., temp_end=25.,\n",
    "                 mat_size=(4,4), coord=False, **kwargs):\n",
    "        self.channels = channels\n",
    "        self.kernel_size = kernel_size\n",
    "        self.strides = strides\n",
    "        self.em_steps = em_steps\n",
    "        self.temp_start = temp_start\n",
    "        self.temp_end = temp_end\n",
    "        self.mat_size = mat_size\n",
    "        self.coord = coord\n",
    "        super().__init__(**kwargs)\n",
    "    \n",
    "    def build(self, input_shape):\n",
    "        self.kernel = self.add_weight(\n",
    "            shape=(self.kernel_size[0]*self.kernel_size[1]*input_shape[0][3],\n",
    "                   self.channels, *self.mat_size),\n",
    "            initializer=keras.initializers.TruncatedNormal(\n",
    "                mean=0., stddev=1.), name='kernel')\n",
    "        self.beta_a = self.add_weight(\n",
    "            shape=(self.channels,), constraint=keras.constraints.non_neg(),\n",
    "            initializer='zeros', name='beta_a')\n",
    "        self.beta_u = self.add_weight(\n",
    "            shape=(self.channels,), constraint=keras.constraints.non_neg(),\n",
    "            initializer='zeros', name='beta_u')\n",
    "        super().build(input_shape)\n",
    "    \n",
    "    def call(self, inputs):\n",
    "        input_shape = [i_.shape for i_ in inputs]\n",
    "        \n",
    "        poses, activations = inputs\n",
    "        input_channel_size = poses.shape[3]\n",
    "        \n",
    "        if self.coord:\n",
    "            coord_y = np.linspace(-1, 1, num=int(poses.shape[1]))\n",
    "            coord_y = np.repeat(coord_y[:,np.newaxis],int(poses.shape[2]),axis=1)\n",
    "            coord_x = np.linspace(-1, 1, num=int(poses.shape[2]))\n",
    "            coord_x = np.repeat(coord_x[np.newaxis,:],int(poses.shape[1]),axis=0)\n",
    "            coord = np.zeros((1,int(poses.shape[1]),int(poses.shape[2]),\n",
    "                1,int(poses.shape[4]),int(poses.shape[5])))\n",
    "            coord[:,:,:,0,0,-1] = coord_x\n",
    "            coord[:,:,:,0,1,-1] = coord_y\n",
    "            poses = poses + K.constant(coord)\n",
    "        \n",
    "        poses = K.reshape(poses, (\n",
    "            -1,*poses.shape[1:3],poses.shape[3]*poses.shape[4]*poses.shape[5]))\n",
    "        def conv_expand(x):\n",
    "            conv_data_size = x.shape[3]\n",
    "            conv_kernel = np.zeros((*self.kernel_size, conv_data_size,\n",
    "                                    self.kernel_size[0]*self.kernel_size[1]))\n",
    "            for i in range(self.kernel_size[0]):\n",
    "                for j in range(self.kernel_size[1]):\n",
    "                    conv_kernel[i,j,:,i*self.kernel_size[0]+j] = 1\n",
    "            x = K.depthwise_conv2d(x, K.constant(conv_kernel),\n",
    "                                       strides=self.strides, padding='same')\n",
    "            x = K.reshape(x, (-1,*x.shape[1:3],conv_data_size,\n",
    "                                     self.kernel_size[0]*self.kernel_size[1]))\n",
    "            x = K.permute_dimensions(x, (0,1,2,4,3))\n",
    "            return x\n",
    "        poses = conv_expand(poses)\n",
    "        activations = conv_expand(activations)\n",
    "        \n",
    "        poses = K.reshape(poses, (-1,*poses.shape[1:3],\n",
    "            self.kernel_size[0]*self.kernel_size[1]*input_channel_size,\n",
    "            1,input_shape[0][-2],input_shape[0][-1]))\n",
    "        poses = K.tile(poses, (1,1,1,1,self.channels,1,1))\n",
    "        kernel = K.reshape(self.kernel, (1,1,1,*self.kernel.shape))\n",
    "        kernel = K.tile(kernel, K.concatenate([\n",
    "            K.shape(poses)[:3],K.constant(np.ones((4,)),dtype='int32')]))\n",
    "        votes = kernel @ poses\n",
    "        votes = K.reshape(votes, (\n",
    "            -1,*votes.shape[1:5],self.mat_size[0]*input_shape[0][-1]))\n",
    "        \n",
    "        activations = K.reshape(activations, (-1,*activations.shape[1:3],\n",
    "            self.kernel_size[0]*self.kernel_size[1]*input_channel_size,1))\n",
    "        r = K.constant(1/self.channels, shape=(1,*votes.shape[1:5]))\n",
    "        r = K.tile(r, K.concatenate([\n",
    "            K.shape(votes)[:1],K.constant(np.ones((4,)),dtype='int32')]))\n",
    "        for t in range(self.em_steps):\n",
    "            inv_temp = self.temp_start*(1-(t/max(1,self.em_steps-1)))\n",
    "            inv_temp = inv_temp + self.temp_end*(t/max(1,self.em_steps-1))\n",
    "            inv_temp = 1/inv_temp\n",
    "            r = r * activations\n",
    "            r_expanded = K.expand_dims(r)\n",
    "            r_sum_i = K.expand_dims(K.sum(r, axis=3))\n",
    "            mu = K.sum(r_expanded*votes,axis=3)/r_sum_i\n",
    "            mu_diff_square = K.square(votes-K.expand_dims(mu,axis=3))\n",
    "            mu_diff_square = mu_diff_square + K.epsilon()\n",
    "            sigma_square = K.sum(r_expanded*mu_diff_square,axis=3)/r_sum_i\n",
    "            sigma = K.sqrt(sigma_square)\n",
    "            cost = K.reshape(self.beta_u,(1,1,1,self.channels,1))\n",
    "            cost = cost + K.log(sigma)\n",
    "            cost = cost * r_sum_i\n",
    "            cost_all_h = K.sum(cost,axis=-1)\n",
    "            # for numerical stability, change sigmoid to hard sigmoid\n",
    "            a = K.hard_sigmoid(inv_temp*(self.beta_a-cost_all_h))\n",
    "            if t+1 == self.em_steps: continue\n",
    "            # for numerical stability, change p from the paper to log p\n",
    "            log_p = mu_diff_square/K.expand_dims(2*sigma_square,axis=3)\n",
    "            log_p = -K.sum(log_p,axis=-1)\n",
    "            log_p = log_p - K.expand_dims(\n",
    "                K.sum((np.log(2*np.pi)/2)+K.log(sigma),axis=-1),axis=3)\n",
    "            # for numerical stability, compute r from log p instread of p\n",
    "            r = K.expand_dims(K.log(a+K.epsilon()),axis=3) + log_p\n",
    "            r = K.softmax(r,axis=-1)\n",
    "        \n",
    "        poses_new = K.reshape(mu,(\n",
    "            -1,*mu.shape[1:4],self.mat_size[0],input_shape[0][-1]))\n",
    "        activations_new = a\n",
    "        return [poses_new, activations_new]\n",
    "    \n",
    "    def compute_output_shape(self, input_shape):\n",
    "        return [(input_shape[0][0],\n",
    "                input_shape[0][1]//self.strides[0],\n",
    "                input_shape[0][2]//self.strides[1],self.channels,\n",
    "                self.mat_size[0],input_shape[0][-1]),(\n",
    "                input_shape[1][0],\n",
    "                input_shape[1][1]//self.strides[0],\n",
    "                input_shape[1][2]//self.strides[1],self.channels)]"
   ]
  },
  {
   "cell_type": "code",
   "execution_count": 4,
   "metadata": {
    "collapsed": true
   },
   "outputs": [],
   "source": [
    "X = X_input = keras.layers.Input(X_train.shape[1:])\n",
    "X = keras.layers.BatchNormalization()(X)\n",
    "X = keras.layers.Conv2D(32, (3,3), strides=(2,2), padding='same',\n",
    "    activation='relu', kernel_initializer='he_normal')(X)\n",
    "X = keras.layers.Conv2D(32, (3,3), strides=(1,1), padding='same',\n",
    "    activation='relu', kernel_initializer='he_normal')(X)\n",
    "X = keras.layers.Conv2D(64, (3,3), strides=(1,1), padding='same',\n",
    "    activation='relu', kernel_initializer='he_normal')(X)\n",
    "C = keras.Model(X_input, X)\n",
    "C.compile('nadam', 'mse', ['acc'])\n",
    "CF = keras.Model(X_input, X)\n",
    "CF.trainable = False\n",
    "CF.compile('nadam', 'mse', ['acc'])\n",
    "X = X_input = keras.layers.Input(X_train.shape[1:])\n",
    "X = C(X)\n",
    "X = keras.layers.Conv2D(4, (3,3), strides=(2,2), padding='same',\n",
    "    activation='relu', kernel_initializer='he_normal')(X)\n",
    "X = keras.layers.Conv2D(4, (3,3), strides=(2,2), padding='same',\n",
    "    activation='relu', kernel_initializer='he_normal')(X)\n",
    "X = keras.layers.Conv2D(4, (3,3), strides=(2,2), padding='same',\n",
    "    activation='relu', kernel_initializer='he_normal')(X)\n",
    "X = keras.layers.Flatten()(X)\n",
    "X = keras.layers.Dense(Y_train.shape[-1], activation='softmax')(X)\n",
    "CM = keras.Model(X_input, X)\n",
    "CM.compile('nadam', 'categorical_crossentropy', ['acc'])"
   ]
  },
  {
   "cell_type": "code",
   "execution_count": 5,
   "metadata": {},
   "outputs": [
    {
     "name": "stdout",
     "output_type": "stream",
     "text": [
      "Train on 60000 samples, validate on 10000 samples\n",
      "Epoch 1/5\n",
      "60000/60000 [==============================] - 31s 514us/step - loss: 0.3157 - acc: 0.8998 - val_loss: 0.0978 - val_acc: 0.9692\n",
      "Epoch 2/5\n",
      "60000/60000 [==============================] - 29s 481us/step - loss: 0.0996 - acc: 0.9696 - val_loss: 0.0934 - val_acc: 0.9717\n",
      "Epoch 3/5\n",
      "60000/60000 [==============================] - 29s 482us/step - loss: 0.0779 - acc: 0.9759 - val_loss: 0.0680 - val_acc: 0.9784\n",
      "Epoch 4/5\n",
      "60000/60000 [==============================] - 29s 483us/step - loss: 0.0628 - acc: 0.9803 - val_loss: 0.0595 - val_acc: 0.9799\n",
      "Epoch 5/5\n",
      "60000/60000 [==============================] - 29s 481us/step - loss: 0.0531 - acc: 0.9837 - val_loss: 0.0504 - val_acc: 0.9832\n"
     ]
    },
    {
     "data": {
      "text/plain": [
       "<keras.callbacks.History at 0x7fea1b9da518>"
      ]
     },
     "execution_count": 5,
     "metadata": {},
     "output_type": "execute_result"
    }
   ],
   "source": [
    "CM.fit(X_train, Y_train,\n",
    "      validation_data=(X_test, Y_test),\n",
    "      batch_size=32, epochs=5)"
   ]
  },
  {
   "cell_type": "code",
   "execution_count": 6,
   "metadata": {
    "scrolled": true
   },
   "outputs": [
    {
     "name": "stdout",
     "output_type": "stream",
     "text": [
      "__________________________________________________________________________________________________\n",
      "Layer (type)                    Output Shape         Param #     Connected to                     \n",
      "==================================================================================================\n",
      "input_3 (InputLayer)            (None, 32, 32, 1)    0                                            \n",
      "__________________________________________________________________________________________________\n",
      "model_2 (Model)                 (None, 16, 16, 64)   28068       input_3[0][0]                    \n",
      "__________________________________________________________________________________________________\n",
      "conv2d_7 (Conv2D)               (None, 16, 16, 32)   2080        model_2[1][0]                    \n",
      "__________________________________________________________________________________________________\n",
      "lambda_1 (Lambda)               (None, 16, 16, 4, 4, 0           conv2d_7[0][0]                   \n",
      "__________________________________________________________________________________________________\n",
      "conv2d_8 (Conv2D)               (None, 16, 16, 4)    260         model_2[1][0]                    \n",
      "__________________________________________________________________________________________________\n",
      "capsule_conv2d_1 (CapsuleConv2D [(None, 8, 8, 4, 4,  2312        lambda_1[0][0]                   \n",
      "                                                                 conv2d_8[0][0]                   \n",
      "__________________________________________________________________________________________________\n",
      "capsule_conv2d_2 (CapsuleConv2D [(None, 4, 4, 4, 4,  2312        capsule_conv2d_1[0][0]           \n",
      "                                                                 capsule_conv2d_1[0][1]           \n",
      "__________________________________________________________________________________________________\n",
      "capsule_conv2d_3 (CapsuleConv2D [(None, 2, 2, 4, 4,  2312        capsule_conv2d_2[0][0]           \n",
      "                                                                 capsule_conv2d_2[0][1]           \n",
      "__________________________________________________________________________________________________\n",
      "capsule_conv2d_4 (CapsuleConv2D [(None, 1, 1, 10, 4, 5780        capsule_conv2d_3[0][0]           \n",
      "                                                                 capsule_conv2d_3[0][1]           \n",
      "__________________________________________________________________________________________________\n",
      "flatten_2 (Flatten)             (None, 10)           0           capsule_conv2d_4[0][1]           \n",
      "__________________________________________________________________________________________________\n",
      "lambda_3 (Lambda)               (None, 10)           0           flatten_2[0][0]                  \n",
      "__________________________________________________________________________________________________\n",
      "lambda_2 (Lambda)               (None, 80)           0           capsule_conv2d_4[0][0]           \n",
      "                                                                 capsule_conv2d_4[0][1]           \n",
      "__________________________________________________________________________________________________\n",
      "dense_2 (Dense)                 (None, 64)           5184        lambda_2[0][0]                   \n",
      "__________________________________________________________________________________________________\n",
      "lambda_4 (Lambda)               (None, 10)           0           lambda_3[0][0]                   \n",
      "__________________________________________________________________________________________________\n",
      "concatenate_1 (Concatenate)     (None, 74)           0           dense_2[0][0]                    \n",
      "                                                                 lambda_4[0][0]                   \n",
      "__________________________________________________________________________________________________\n",
      "dense_3 (Dense)                 (None, 64)           4800        concatenate_1[0][0]              \n",
      "__________________________________________________________________________________________________\n",
      "softmax_1 (Softmax)             (None, 10)           0           lambda_3[0][0]                   \n",
      "__________________________________________________________________________________________________\n",
      "dense_4 (Dense)                 (None, 10)           650         dense_3[0][0]                    \n",
      "==================================================================================================\n",
      "Total params: 53,758\n",
      "Trainable params: 25,690\n",
      "Non-trainable params: 28,068\n",
      "__________________________________________________________________________________________________\n"
     ]
    }
   ],
   "source": [
    "X = X_input = keras.layers.Input(X_train.shape[1:])\n",
    "X = CF(X)\n",
    "X_pose = keras.layers.Conv2D(4*4*2, (1,1), padding='same', activation='tanh')(X)\n",
    "X_pose = keras.layers.Lambda(\n",
    "    lambda x: K.reshape(x, (-1,*x.shape[1:3],4,4,2)),\n",
    "    output_shape=(int(X_pose.shape[1]),int(X_pose.shape[2]),4,4,2))(X_pose)\n",
    "X = keras.layers.Conv2D(4, (1,1), padding='same', activation='sigmoid')(X)\n",
    "X_pose,X = CapsuleConv2D(4, (3,3), strides=(2,2))([X_pose,X])\n",
    "X_pose,X = CapsuleConv2D(4, (3,3), strides=(2,2))([X_pose,X])\n",
    "X_pose,X = CapsuleConv2D(4, (3,3), strides=(2,2))([X_pose,X])\n",
    "X_pose,X = CapsuleConv2D(Y_train.shape[-1], (3,3), strides=(2,2))([X_pose,X])\n",
    "X_pose = keras.layers.Lambda(\n",
    "    lambda x,d: K.stop_gradient(K.reshape(\n",
    "        x[0]*K.reshape(x[1],(-1,1,1,d,1,1)),\n",
    "        (-1,1*1*d*4*2))),\n",
    "    output_shape=(1*1*Y_train.shape[-1]*4*2,),\n",
    "    arguments={'d':Y_train.shape[-1]})([X_pose,X])\n",
    "X_pose = keras.layers.Dense(64, activation='tanh')(X_pose)\n",
    "X = keras.layers.Flatten()(X)\n",
    "X = keras.layers.Lambda(lambda x: K.print_tensor(x))(X)\n",
    "X_pose = keras.layers.Concatenate()([X_pose,keras.layers.Lambda(\n",
    "    lambda x: K.stop_gradient(x))(X)])\n",
    "X_pose = keras.layers.Dense(64, activation='tanh')(X_pose)\n",
    "X_pose = keras.layers.Dense(Y_train.shape[-1], activation='softmax')(X_pose)\n",
    "X = keras.layers.Softmax()(X)\n",
    "M = keras.Model(X_input, [X,X_pose])\n",
    "M_optimizer = keras.optimizers.SGD(momentum=0.9)\n",
    "M.compile(M_optimizer, 'categorical_crossentropy', ['acc'])\n",
    "M.summary()"
   ]
  },
  {
   "cell_type": "code",
   "execution_count": 7,
   "metadata": {
    "scrolled": true
   },
   "outputs": [
    {
     "name": "stdout",
     "output_type": "stream",
     "text": [
      "Train on 60000 samples, validate on 10000 samples\n",
      "Epoch 1/10\n",
      "60000/60000 [==============================] - 1106s 18ms/step - loss: 3.0708 - softmax_1_loss: 2.0778 - dense_4_loss: 0.9930 - softmax_1_acc: 0.6453 - dense_4_acc: 0.6563 - val_loss: 2.2413 - val_softmax_1_loss: 1.9468 - val_dense_4_loss: 0.2945 - val_softmax_1_acc: 0.9060 - val_dense_4_acc: 0.9146\n",
      "Epoch 2/10\n",
      "60000/60000 [==============================] - 1101s 18ms/step - loss: 2.1529 - softmax_1_loss: 1.9173 - dense_4_loss: 0.2356 - softmax_1_acc: 0.9339 - dense_4_acc: 0.9353 - val_loss: 2.0809 - val_softmax_1_loss: 1.8973 - val_dense_4_loss: 0.1836 - val_softmax_1_acc: 0.9493 - val_dense_4_acc: 0.9520\n",
      "Epoch 3/10\n",
      "60000/60000 [==============================] - 1097s 18ms/step - loss: 2.0492 - softmax_1_loss: 1.8886 - dense_4_loss: 0.1605 - softmax_1_acc: 0.9553 - dense_4_acc: 0.9560 - val_loss: 2.0204 - val_softmax_1_loss: 1.8786 - val_dense_4_loss: 0.1418 - val_softmax_1_acc: 0.9592 - val_dense_4_acc: 0.9619\n",
      "Epoch 4/10\n",
      "60000/60000 [==============================] - 1098s 18ms/step - loss: 2.0070 - softmax_1_loss: 1.8731 - dense_4_loss: 0.1338 - softmax_1_acc: 0.9622 - dense_4_acc: 0.9633 - val_loss: 1.9889 - val_softmax_1_loss: 1.8662 - val_dense_4_loss: 0.1227 - val_softmax_1_acc: 0.9666 - val_dense_4_acc: 0.9668\n",
      "Epoch 5/10\n",
      "60000/60000 [==============================] - 1102s 18ms/step - loss: 1.9813 - softmax_1_loss: 1.8632 - dense_4_loss: 0.1181 - softmax_1_acc: 0.9672 - dense_4_acc: 0.9677 - val_loss: 1.9735 - val_softmax_1_loss: 1.8578 - val_dense_4_loss: 0.1157 - val_softmax_1_acc: 0.9698 - val_dense_4_acc: 0.9685\n",
      "Epoch 6/10\n",
      "60000/60000 [==============================] - 1100s 18ms/step - loss: 1.9657 - softmax_1_loss: 1.8555 - dense_4_loss: 0.1102 - softmax_1_acc: 0.9696 - dense_4_acc: 0.9704 - val_loss: 2.2003 - val_softmax_1_loss: 1.8757 - val_dense_4_loss: 0.3246 - val_softmax_1_acc: 0.9382 - val_dense_4_acc: 0.9224\n",
      "Epoch 7/10\n",
      "60000/60000 [==============================] - 1101s 18ms/step - loss: 1.9522 - softmax_1_loss: 1.8490 - dense_4_loss: 0.1032 - softmax_1_acc: 0.9712 - dense_4_acc: 0.9717 - val_loss: 1.9561 - val_softmax_1_loss: 1.8466 - val_dense_4_loss: 0.1095 - val_softmax_1_acc: 0.9703 - val_dense_4_acc: 0.9699\n",
      "Epoch 8/10\n",
      "60000/60000 [==============================] - 1102s 18ms/step - loss: 1.9391 - softmax_1_loss: 1.8432 - dense_4_loss: 0.0959 - softmax_1_acc: 0.9730 - dense_4_acc: 0.9735 - val_loss: 1.9511 - val_softmax_1_loss: 1.8405 - val_dense_4_loss: 0.1106 - val_softmax_1_acc: 0.9706 - val_dense_4_acc: 0.9714\n",
      "Epoch 9/10\n",
      "60000/60000 [==============================] - 1101s 18ms/step - loss: 1.9340 - softmax_1_loss: 1.8373 - dense_4_loss: 0.0967 - softmax_1_acc: 0.9728 - dense_4_acc: 0.9736 - val_loss: 1.9306 - val_softmax_1_loss: 1.8313 - val_dense_4_loss: 0.0993 - val_softmax_1_acc: 0.9736 - val_dense_4_acc: 0.9753\n",
      "Epoch 10/10\n",
      "60000/60000 [==============================] - 1097s 18ms/step - loss: 1.9243 - softmax_1_loss: 1.8300 - dense_4_loss: 0.0943 - softmax_1_acc: 0.9737 - dense_4_acc: 0.9744 - val_loss: 1.9296 - val_softmax_1_loss: 1.8267 - val_dense_4_loss: 0.1029 - val_softmax_1_acc: 0.9709 - val_dense_4_acc: 0.9716\n"
     ]
    },
    {
     "data": {
      "text/plain": [
       "<keras.callbacks.History at 0x7fe9ba2d75f8>"
      ]
     },
     "execution_count": 7,
     "metadata": {},
     "output_type": "execute_result"
    }
   ],
   "source": [
    "M.fit(X_train, [Y_train,Y_train],\n",
    "      validation_data=(X_test, [Y_test,Y_test]),\n",
    "      batch_size=8, epochs=10)"
   ]
  }
 ],
 "metadata": {
  "kernelspec": {
   "display_name": "ml",
   "language": "python",
   "name": "ml"
  },
  "language_info": {
   "codemirror_mode": {
    "name": "ipython",
    "version": 3
   },
   "file_extension": ".py",
   "mimetype": "text/x-python",
   "name": "python",
   "nbconvert_exporter": "python",
   "pygments_lexer": "ipython3",
   "version": "3.6.4"
  }
 },
 "nbformat": 4,
 "nbformat_minor": 2
}
