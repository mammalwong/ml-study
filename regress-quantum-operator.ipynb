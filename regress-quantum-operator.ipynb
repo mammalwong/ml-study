{
 "cells": [
  {
   "cell_type": "code",
   "execution_count": 1,
   "metadata": {},
   "outputs": [
    {
     "name": "stderr",
     "output_type": "stream",
     "text": [
      "Using TensorFlow backend.\n"
     ]
    }
   ],
   "source": [
    "import numpy as np\n",
    "import matplotlib.pyplot as plt\n",
    "import keras\n",
    "import keras.backend as K\n",
    "import tensorflow as tf"
   ]
  },
  {
   "cell_type": "code",
   "execution_count": 2,
   "metadata": {},
   "outputs": [],
   "source": [
    "N = 1\n",
    "X_train,Y_train = [],[]\n",
    "a,b = np.random.randint(0, 2**N, size=(2,10000))\n",
    "c = a+b\n",
    "c = (a << N) | (c & (2**(2*N)-1))\n",
    "X_train = (a << N) | b\n",
    "Y_train = c"
   ]
  },
  {
   "cell_type": "code",
   "execution_count": 3,
   "metadata": {},
   "outputs": [],
   "source": [
    "class QuantumOperator(keras.layers.Layer):\n",
    "    \n",
    "    def __init__(self, qubits, unitary_loss_factor=1., prob_loss_factor=1., **kwargs):\n",
    "        self.dimension = 2**qubits\n",
    "        self.unitary_loss_factor = unitary_loss_factor\n",
    "        self.prob_loss_factor = prob_loss_factor\n",
    "        super(QuantumOperator, self).__init__(**kwargs)\n",
    "    \n",
    "    def build(self, input_shape):\n",
    "        self.operator_real = self.add_weight(\n",
    "            shape=(self.dimension, self.dimension),\n",
    "            initializer='glorot_normal', name='operator_real')\n",
    "        self.operator_imag = self.add_weight(\n",
    "            shape=(self.dimension, self.dimension),\n",
    "            initializer='glorot_normal', name='operator_imag')\n",
    "        super().build(input_shape)\n",
    "    \n",
    "    def call(self, inputs):\n",
    "        operator = tf.complex(self.operator_real, self.operator_imag)\n",
    "        forward = inputs @ operator\n",
    "        reverse = forward @ tf.conj(tf.transpose(operator))\n",
    "        prob = tf.square(tf.abs(forward))\n",
    "        self.add_loss(self.unitary_loss_factor/2 * K.mean(keras.losses.mse(\n",
    "            tf.real(inputs), tf.real(reverse))), inputs=inputs)\n",
    "        self.add_loss(self.unitary_loss_factor/2 * K.mean(keras.losses.mse(\n",
    "            tf.imag(inputs), tf.imag(reverse))), inputs=inputs)\n",
    "        self.add_loss(self.prob_loss_factor * K.mean(keras.losses.mse(\n",
    "            1., K.sum(prob, axis=-1))))\n",
    "        return prob\n",
    "    \n",
    "    def compute_output_shape(self, input_shape):\n",
    "        return (input_shape[0], self.dimension)"
   ]
  },
  {
   "cell_type": "code",
   "execution_count": 4,
   "metadata": {},
   "outputs": [
    {
     "name": "stdout",
     "output_type": "stream",
     "text": [
      "_________________________________________________________________\n",
      "Layer (type)                 Output Shape              Param #   \n",
      "=================================================================\n",
      "input_1 (InputLayer)         (None, 1)                 0         \n",
      "_________________________________________________________________\n",
      "lambda_1 (Lambda)            (None, 4)                 0         \n",
      "_________________________________________________________________\n",
      "quantum_operator_1 (QuantumO (None, 4)                 32        \n",
      "=================================================================\n",
      "Total params: 32\n",
      "Trainable params: 32\n",
      "Non-trainable params: 0\n",
      "_________________________________________________________________\n"
     ]
    }
   ],
   "source": [
    "X = X_input = keras.layers.Input((1,), dtype='int32')\n",
    "X = keras.layers.Lambda(lambda x: tf.complex(\n",
    "    K.squeeze(K.one_hot(K.cast(x, 'int32'), 2**(2*N)), axis=-2), 0.))(X)\n",
    "X_operator = QuantumOperator(2*N)\n",
    "X = X_operator(X)\n",
    "M = keras.Model(X_input, X)\n",
    "M_opt = keras.optimizers.SGD(momentum=0.9, nesterov=True)\n",
    "M.compile(M_opt, 'sparse_categorical_crossentropy')\n",
    "M.summary()"
   ]
  },
  {
   "cell_type": "code",
   "execution_count": 5,
   "metadata": {
    "scrolled": true
   },
   "outputs": [
    {
     "name": "stdout",
     "output_type": "stream",
     "text": [
      "Epoch 1/10\n",
      "10000/10000 [==============================] - 2s 168us/step - loss: 0.0476\n",
      "Epoch 2/10\n",
      "10000/10000 [==============================] - 1s 71us/step - loss: 3.5763e-07\n",
      "Epoch 3/10\n",
      "10000/10000 [==============================] - 1s 70us/step - loss: 3.5763e-07\n",
      "Epoch 4/10\n",
      "10000/10000 [==============================] - 1s 69us/step - loss: 3.5763e-07\n",
      "Epoch 5/10\n",
      "10000/10000 [==============================] - 1s 71us/step - loss: 3.5763e-07\n",
      "Epoch 6/10\n",
      "10000/10000 [==============================] - 1s 70us/step - loss: 3.5763e-07\n",
      "Epoch 7/10\n",
      "10000/10000 [==============================] - 1s 69us/step - loss: 3.5763e-07\n",
      "Epoch 8/10\n",
      "10000/10000 [==============================] - 1s 70us/step - loss: 3.5763e-07\n",
      "Epoch 9/10\n",
      "10000/10000 [==============================] - 1s 78us/step - loss: 3.5763e-07\n",
      "Epoch 10/10\n",
      "10000/10000 [==============================] - 1s 71us/step - loss: 3.5763e-07\n"
     ]
    },
    {
     "data": {
      "text/plain": [
       "<keras.callbacks.History at 0x7fa43801aa90>"
      ]
     },
     "execution_count": 5,
     "metadata": {},
     "output_type": "execute_result"
    }
   ],
   "source": [
    "M.fit(X_train, Y_train, epochs=10, callbacks=[\n",
    "    keras.callbacks.ReduceLROnPlateau('loss', patience=10, verbose=1)\n",
    "])"
   ]
  },
  {
   "cell_type": "code",
   "execution_count": 6,
   "metadata": {},
   "outputs": [],
   "source": [
    "operator = X_operator.get_weights()\n",
    "operator = operator[0].T + operator[1].T*1j"
   ]
  },
  {
   "cell_type": "code",
   "execution_count": 7,
   "metadata": {},
   "outputs": [
    {
     "data": {
      "image/png": "[encoded data removed]",
      "text/plain": [
       "<matplotlib.figure.Figure at 0x7fa4341d1668>"
      ]
     },
     "metadata": {},
     "output_type": "display_data"
    }
   ],
   "source": [
    "plt.figure(figsize=(12,3))\n",
    "plt.subplot(1,4,1)\n",
    "plt.imshow(np.real(operator))\n",
    "plt.colorbar()\n",
    "plt.subplot(1,4,2)\n",
    "plt.imshow(np.imag(operator))\n",
    "plt.colorbar()\n",
    "plt.subplot(1,4,3)\n",
    "plt.imshow(np.real(operator @ np.conj(operator.T)))\n",
    "plt.colorbar()\n",
    "plt.subplot(1,4,4)\n",
    "plt.imshow(np.real(np.conj(operator.T) @ operator))\n",
    "plt.colorbar()\n",
    "plt.show()"
   ]
  },
  {
   "cell_type": "code",
   "execution_count": 10,
   "metadata": {},
   "outputs": [
    {
     "data": {
      "image/png": "[encoded data removed]",
      "text/plain": [
       "<matplotlib.figure.Figure at 0x7fa3ec1c47b8>"
      ]
     },
     "metadata": {},
     "output_type": "display_data"
    },
    {
     "name": "stdout",
     "output_type": "stream",
     "text": [
      "max prob by the regressed operator: 3 , sum of prob: 1.0\n"
     ]
    }
   ],
   "source": [
    "i = np.random.randint(0,len(X_train))\n",
    "s = (operator @ keras.utils.to_categorical(X_train[i], num_classes=2**(2*N)))\n",
    "x = np.square(np.abs(np.conj(operator.T) @ s))\n",
    "y = np.square(np.abs(s))\n",
    "plt.figure(figsize=(12,3))\n",
    "plt.subplot(2,2,1)\n",
    "plt.title(f'{a[i]} + {b[i]} = {c[i]}')\n",
    "plt.bar(np.arange(2**(2*N)), y)\n",
    "plt.subplot(2,2,3)\n",
    "plt.bar(np.arange(2**(2*N)), keras.utils.to_categorical(Y_train[i], num_classes=2**(2*N)))\n",
    "plt.subplot(2,2,2)\n",
    "plt.title('reversed input')\n",
    "plt.bar(np.arange(2**(2*N)), x)\n",
    "plt.subplot(2,2,4)\n",
    "plt.bar(np.arange(2**(2*N)), keras.utils.to_categorical(X_train[i], num_classes=2**(2*N)))\n",
    "plt.show()\n",
    "print('max prob by the regressed operator:', np.argmax(y), ', sum of prob:', np.sum(y))"
   ]
  }
 ],
 "metadata": {
  "kernelspec": {
   "display_name": "ml",
   "language": "python",
   "name": "ml"
  },
  "language_info": {
   "codemirror_mode": {
    "name": "ipython",
    "version": 3
   },
   "file_extension": ".py",
   "mimetype": "text/x-python",
   "name": "python",
   "nbconvert_exporter": "python",
   "pygments_lexer": "ipython3",
   "version": "3.6.4"
  }
 },
 "nbformat": 4,
 "nbformat_minor": 2
}
