{
 "cells": [
  {
   "cell_type": "code",
   "execution_count": 1,
   "metadata": {},
   "outputs": [
    {
     "name": "stderr",
     "output_type": "stream",
     "text": [
      "Using TensorFlow backend.\n"
     ]
    }
   ],
   "source": [
    "import numpy as np\n",
    "import matplotlib.pyplot as plt\n",
    "import keras"
   ]
  },
  {
   "cell_type": "code",
   "execution_count": 2,
   "metadata": {
    "collapsed": true
   },
   "outputs": [],
   "source": [
    "(X_train,Y_train),(X_test,Y_test) = keras.datasets.cifar10.load_data()\n",
    "X_train = keras.applications.vgg19.preprocess_input(X_train, mode='tf')\n",
    "X_test = keras.applications.vgg19.preprocess_input(X_test, mode='tf')"
   ]
  },
  {
   "cell_type": "code",
   "execution_count": 3,
   "metadata": {},
   "outputs": [],
   "source": [
    "G = keras.applications.VGG19(include_top=False)\n",
    "G_outputs = [l.output for l in G.layers if isinstance(l, keras.layers.MaxPool2D)]\n",
    "G_outputs = [keras.layers.GlobalAvgPool2D()(l) for l in G_outputs]\n",
    "G_outputs = keras.layers.Concatenate()(G_outputs)\n",
    "G = keras.Model(G.input, G_outputs)\n",
    "G.trainable = False"
   ]
  },
  {
   "cell_type": "code",
   "execution_count": 4,
   "metadata": {},
   "outputs": [
    {
     "name": "stdout",
     "output_type": "stream",
     "text": [
      "50000/50000 [==============================] - 93s 2ms/step\n",
      "10000/10000 [==============================] - 19s 2ms/step\n"
     ]
    }
   ],
   "source": [
    "X_train_g = G.predict(X_train, batch_size=128, verbose=1)\n",
    "X_test_g = G.predict(X_test, batch_size=128, verbose=1)"
   ]
  },
  {
   "cell_type": "code",
   "execution_count": 5,
   "metadata": {},
   "outputs": [
    {
     "name": "stdout",
     "output_type": "stream",
     "text": [
      "_________________________________________________________________\n",
      "Layer (type)                 Output Shape              Param #   \n",
      "=================================================================\n",
      "input_2 (InputLayer)         (None, 1472)              0         \n",
      "_________________________________________________________________\n",
      "batch_normalization_1 (Batch (None, 1472)              2944      \n",
      "_________________________________________________________________\n",
      "dense_1 (Dense)              (None, 10)                14730     \n",
      "=================================================================\n",
      "Total params: 17,674\n",
      "Trainable params: 14,730\n",
      "Non-trainable params: 2,944\n",
      "_________________________________________________________________\n"
     ]
    }
   ],
   "source": [
    "X = X_input = keras.layers.Input(X_train_g.shape[1:])\n",
    "X = keras.layers.BatchNormalization(center=False, scale=False)(X)\n",
    "X = keras.layers.Dense(max(np.max(Y_train),np.max(Y_test))+1, activation='softmax')(X)\n",
    "M = keras.Model(X_input, X)\n",
    "M.compile('nadam', 'sparse_categorical_crossentropy', ['acc'])\n",
    "M.summary()"
   ]
  },
  {
   "cell_type": "code",
   "execution_count": 6,
   "metadata": {
    "scrolled": true
   },
   "outputs": [
    {
     "name": "stdout",
     "output_type": "stream",
     "text": [
      "Train on 50000 samples, validate on 10000 samples\n",
      "Epoch 1/50\n",
      "50000/50000 [==============================] - 2s 36us/step - loss: 0.9466 - acc: 0.6780 - val_loss: 0.8192 - val_acc: 0.7222\n",
      "Epoch 2/50\n",
      "50000/50000 [==============================] - 2s 31us/step - loss: 0.7337 - acc: 0.7474 - val_loss: 0.7603 - val_acc: 0.7464\n",
      "Epoch 3/50\n",
      "50000/50000 [==============================] - 2s 31us/step - loss: 0.6792 - acc: 0.7640 - val_loss: 0.7280 - val_acc: 0.7549\n",
      "Epoch 4/50\n",
      "50000/50000 [==============================] - 2s 31us/step - loss: 0.6549 - acc: 0.7721 - val_loss: 0.7357 - val_acc: 0.7564\n",
      "Epoch 5/50\n",
      "50000/50000 [==============================] - 2s 31us/step - loss: 0.6397 - acc: 0.7779 - val_loss: 0.7141 - val_acc: 0.7642\n",
      "Epoch 6/50\n",
      "50000/50000 [==============================] - 2s 31us/step - loss: 0.6256 - acc: 0.7838 - val_loss: 0.7275 - val_acc: 0.7612\n",
      "Epoch 7/50\n",
      "50000/50000 [==============================] - 2s 31us/step - loss: 0.6171 - acc: 0.7866 - val_loss: 0.7301 - val_acc: 0.7601\n",
      "\n",
      "Epoch 00007: ReduceLROnPlateau reducing learning rate to 0.00020000000949949026.\n",
      "Epoch 8/50\n",
      "50000/50000 [==============================] - 2s 31us/step - loss: 0.5346 - acc: 0.8140 - val_loss: 0.6733 - val_acc: 0.7772\n",
      "Epoch 9/50\n",
      "50000/50000 [==============================] - 2s 31us/step - loss: 0.5186 - acc: 0.8214 - val_loss: 0.6655 - val_acc: 0.7816\n",
      "Epoch 10/50\n",
      "50000/50000 [==============================] - 2s 32us/step - loss: 0.5187 - acc: 0.8195 - val_loss: 0.6698 - val_acc: 0.7801\n",
      "Epoch 11/50\n",
      "50000/50000 [==============================] - 2s 31us/step - loss: 0.5152 - acc: 0.8214 - val_loss: 0.6660 - val_acc: 0.7794\n",
      "\n",
      "Epoch 00011: ReduceLROnPlateau reducing learning rate to 2.0000000949949027e-05.\n",
      "Epoch 12/50\n",
      "50000/50000 [==============================] - 2s 31us/step - loss: 0.5041 - acc: 0.8249 - val_loss: 0.6630 - val_acc: 0.7810\n",
      "Epoch 13/50\n",
      "50000/50000 [==============================] - 2s 31us/step - loss: 0.5048 - acc: 0.8249 - val_loss: 0.6621 - val_acc: 0.7821\n",
      "Epoch 14/50\n",
      "50000/50000 [==============================] - 2s 31us/step - loss: 0.5044 - acc: 0.8260 - val_loss: 0.6617 - val_acc: 0.7828\n",
      "Epoch 15/50\n",
      "50000/50000 [==============================] - 2s 31us/step - loss: 0.5036 - acc: 0.8258 - val_loss: 0.6608 - val_acc: 0.7836\n",
      "Epoch 16/50\n",
      "50000/50000 [==============================] - 2s 31us/step - loss: 0.5021 - acc: 0.8248 - val_loss: 0.6617 - val_acc: 0.7822\n",
      "Epoch 17/50\n",
      "50000/50000 [==============================] - 2s 31us/step - loss: 0.5025 - acc: 0.8266 - val_loss: 0.6618 - val_acc: 0.7824\n",
      "\n",
      "Epoch 00017: ReduceLROnPlateau reducing learning rate to 2.0000001313746906e-06.\n",
      "Epoch 18/50\n",
      "50000/50000 [==============================] - 2s 31us/step - loss: 0.5022 - acc: 0.8262 - val_loss: 0.6610 - val_acc: 0.7821\n",
      "Epoch 19/50\n",
      "50000/50000 [==============================] - 2s 32us/step - loss: 0.5007 - acc: 0.8268 - val_loss: 0.6616 - val_acc: 0.7819\n",
      "\n",
      "Epoch 00019: ReduceLROnPlateau reducing learning rate to 2.000000222324161e-07.\n",
      "Epoch 20/50\n",
      "50000/50000 [==============================] - 2s 31us/step - loss: 0.5021 - acc: 0.8258 - val_loss: 0.6621 - val_acc: 0.7826\n",
      "Epoch 21/50\n",
      "50000/50000 [==============================] - 2s 31us/step - loss: 0.5006 - acc: 0.8274 - val_loss: 0.6622 - val_acc: 0.7818\n",
      "\n",
      "Epoch 00021: ReduceLROnPlateau reducing learning rate to 2.000000165480742e-08.\n",
      "Epoch 22/50\n",
      "50000/50000 [==============================] - 2s 31us/step - loss: 0.5010 - acc: 0.8275 - val_loss: 0.6613 - val_acc: 0.7825\n",
      "Epoch 23/50\n",
      "50000/50000 [==============================] - 2s 32us/step - loss: 0.5013 - acc: 0.8261 - val_loss: 0.6615 - val_acc: 0.7822\n",
      "\n",
      "Epoch 00023: ReduceLROnPlateau reducing learning rate to 2.000000165480742e-09.\n",
      "Epoch 24/50\n",
      "50000/50000 [==============================] - 2s 32us/step - loss: 0.5020 - acc: 0.8273 - val_loss: 0.6613 - val_acc: 0.7828\n",
      "Epoch 25/50\n",
      "50000/50000 [==============================] - 2s 31us/step - loss: 0.5008 - acc: 0.8273 - val_loss: 0.6621 - val_acc: 0.7825\n",
      "\n",
      "Epoch 00025: ReduceLROnPlateau reducing learning rate to 2.000000165480742e-10.\n",
      "Epoch 26/50\n",
      "50000/50000 [==============================] - 2s 31us/step - loss: 0.5012 - acc: 0.8274 - val_loss: 0.6617 - val_acc: 0.7829\n",
      "Epoch 27/50\n",
      "50000/50000 [==============================] - 2s 31us/step - loss: 0.5022 - acc: 0.8269 - val_loss: 0.6612 - val_acc: 0.7820\n",
      "\n",
      "Epoch 00027: ReduceLROnPlateau reducing learning rate to 2.000000165480742e-11.\n",
      "Epoch 28/50\n",
      "50000/50000 [==============================] - 2s 31us/step - loss: 0.4998 - acc: 0.8276 - val_loss: 0.6619 - val_acc: 0.7829\n",
      "Epoch 29/50\n",
      "50000/50000 [==============================] - 2s 33us/step - loss: 0.5011 - acc: 0.8280 - val_loss: 0.6616 - val_acc: 0.7828\n",
      "\n",
      "Epoch 00029: ReduceLROnPlateau reducing learning rate to 2.000000165480742e-12.\n",
      "Epoch 30/50\n",
      "50000/50000 [==============================] - 2s 31us/step - loss: 0.5008 - acc: 0.8272 - val_loss: 0.6614 - val_acc: 0.7825\n",
      "Epoch 31/50\n",
      "50000/50000 [==============================] - 2s 32us/step - loss: 0.5018 - acc: 0.8253 - val_loss: 0.6612 - val_acc: 0.7824\n",
      "\n",
      "Epoch 00031: ReduceLROnPlateau reducing learning rate to 2.000000208848829e-13.\n",
      "Epoch 32/50\n",
      "50000/50000 [==============================] - 2s 32us/step - loss: 0.5019 - acc: 0.8256 - val_loss: 0.6619 - val_acc: 0.7824\n",
      "Epoch 33/50\n",
      "50000/50000 [==============================] - 2s 32us/step - loss: 0.5015 - acc: 0.8274 - val_loss: 0.6614 - val_acc: 0.7825\n",
      "\n",
      "Epoch 00033: ReduceLROnPlateau reducing learning rate to 2.0000002359538835e-14.\n",
      "Epoch 34/50\n",
      "50000/50000 [==============================] - 2s 32us/step - loss: 0.5028 - acc: 0.8264 - val_loss: 0.6611 - val_acc: 0.7819\n",
      "Epoch 35/50\n",
      "50000/50000 [==============================] - 2s 33us/step - loss: 0.5027 - acc: 0.8263 - val_loss: 0.6612 - val_acc: 0.7822\n",
      "\n",
      "Epoch 00035: ReduceLROnPlateau reducing learning rate to 2.000000303716519e-15.\n",
      "Epoch 36/50\n",
      "50000/50000 [==============================] - 2s 32us/step - loss: 0.5021 - acc: 0.8270 - val_loss: 0.6613 - val_acc: 0.7827\n",
      "Epoch 37/50\n",
      "50000/50000 [==============================] - 2s 32us/step - loss: 0.5015 - acc: 0.8277 - val_loss: 0.6620 - val_acc: 0.7827\n",
      "\n",
      "Epoch 00037: ReduceLROnPlateau reducing learning rate to 2.0000002190132243e-16.\n",
      "Epoch 38/50\n",
      "50000/50000 [==============================] - 2s 32us/step - loss: 0.5038 - acc: 0.8259 - val_loss: 0.6618 - val_acc: 0.7821\n",
      "Epoch 39/50\n",
      "50000/50000 [==============================] - 2s 32us/step - loss: 0.5035 - acc: 0.8259 - val_loss: 0.6620 - val_acc: 0.7815\n",
      "\n",
      "Epoch 00039: ReduceLROnPlateau reducing learning rate to 2.0000001660736652e-17.\n",
      "Epoch 40/50\n",
      "50000/50000 [==============================] - 2s 32us/step - loss: 0.5015 - acc: 0.8251 - val_loss: 0.6613 - val_acc: 0.7826\n",
      "Epoch 41/50\n",
      "50000/50000 [==============================] - 2s 32us/step - loss: 0.5008 - acc: 0.8284 - val_loss: 0.6615 - val_acc: 0.7823\n",
      "\n",
      "Epoch 00041: ReduceLROnPlateau reducing learning rate to 2.0000001329864408e-18.\n",
      "Epoch 42/50\n",
      "50000/50000 [==============================] - 2s 33us/step - loss: 0.5019 - acc: 0.8260 - val_loss: 0.6615 - val_acc: 0.7819\n",
      "Epoch 43/50\n",
      "50000/50000 [==============================] - 2s 31us/step - loss: 0.5024 - acc: 0.8256 - val_loss: 0.6616 - val_acc: 0.7822\n",
      "\n",
      "Epoch 00043: ReduceLROnPlateau reducing learning rate to 2.00000009162741e-19.\n",
      "Epoch 44/50\n",
      "50000/50000 [==============================] - 2s 33us/step - loss: 0.5009 - acc: 0.8268 - val_loss: 0.6619 - val_acc: 0.7827\n",
      "Epoch 45/50\n",
      "50000/50000 [==============================] - 2s 31us/step - loss: 0.5026 - acc: 0.8273 - val_loss: 0.6616 - val_acc: 0.7830\n",
      "\n",
      "Epoch 00045: ReduceLROnPlateau reducing learning rate to 2.000000065778016e-20.\n",
      "Epoch 46/50\n",
      "50000/50000 [==============================] - 2s 32us/step - loss: 0.5006 - acc: 0.8274 - val_loss: 0.6613 - val_acc: 0.7823\n",
      "Epoch 47/50\n",
      "50000/50000 [==============================] - 2s 32us/step - loss: 0.5037 - acc: 0.8257 - val_loss: 0.6615 - val_acc: 0.7830\n",
      "\n",
      "Epoch 00047: ReduceLROnPlateau reducing learning rate to 2.0000000980897586e-21.\n",
      "Epoch 48/50\n",
      "50000/50000 [==============================] - 2s 34us/step - loss: 0.5012 - acc: 0.8278 - val_loss: 0.6616 - val_acc: 0.7824\n",
      "Epoch 49/50\n"
     ]
    },
    {
     "name": "stdout",
     "output_type": "stream",
     "text": [
      "50000/50000 [==============================] - 1s 30us/step - loss: 0.5006 - acc: 0.8279 - val_loss: 0.6620 - val_acc: 0.7825\n",
      "\n",
      "Epoch 00049: ReduceLROnPlateau reducing learning rate to 2.000000138479437e-22.\n",
      "Epoch 50/50\n",
      "50000/50000 [==============================] - 1s 30us/step - loss: 0.5007 - acc: 0.8273 - val_loss: 0.6619 - val_acc: 0.7821\n"
     ]
    },
    {
     "data": {
      "text/plain": [
       "<keras.callbacks.History at 0x7f468f428c50>"
      ]
     },
     "execution_count": 6,
     "metadata": {},
     "output_type": "execute_result"
    }
   ],
   "source": [
    "M.fit(\n",
    "    X_train_g, Y_train,\n",
    "    validation_data=(X_test_g,Y_test),\n",
    "    batch_size=128, epochs=50, callbacks=[\n",
    "    keras.callbacks.ReduceLROnPlateau(patience=2, verbose=1)\n",
    "])"
   ]
  },
  {
   "cell_type": "code",
   "execution_count": 7,
   "metadata": {},
   "outputs": [
    {
     "name": "stdout",
     "output_type": "stream",
     "text": [
      "_________________________________________________________________\n",
      "Layer (type)                 Output Shape              Param #   \n",
      "=================================================================\n",
      "input_3 (InputLayer)         (None, 32, 32, 3)         0         \n",
      "_________________________________________________________________\n",
      "model_1 (Model)              (None, 1472)              20024384  \n",
      "_________________________________________________________________\n",
      "model_2 (Model)              (None, 10)                17674     \n",
      "=================================================================\n",
      "Total params: 20,042,058\n",
      "Trainable params: 14,730\n",
      "Non-trainable params: 20,027,328\n",
      "_________________________________________________________________\n"
     ]
    }
   ],
   "source": [
    "X = X_input = keras.layers.Input(X_train.shape[1:])\n",
    "X = G(X)\n",
    "X = M(X)\n",
    "C = keras.Model(X_input, X)\n",
    "C.compile('nadam', 'sparse_categorical_crossentropy', ['acc'])\n",
    "C.summary()"
   ]
  },
  {
   "cell_type": "code",
   "execution_count": 8,
   "metadata": {},
   "outputs": [
    {
     "name": "stdout",
     "output_type": "stream",
     "text": [
      "10000/10000 [==============================] - 18s 2ms/step\n"
     ]
    },
    {
     "data": {
      "text/plain": [
       "[0.6618641731262207, 0.7821]"
      ]
     },
     "execution_count": 8,
     "metadata": {},
     "output_type": "execute_result"
    }
   ],
   "source": [
    "C.evaluate(X_test, Y_test, batch_size=128)"
   ]
  }
 ],
 "metadata": {
  "kernelspec": {
   "display_name": "ml",
   "language": "python",
   "name": "ml"
  },
  "language_info": {
   "codemirror_mode": {
    "name": "ipython",
    "version": 3
   },
   "file_extension": ".py",
   "mimetype": "text/x-python",
   "name": "python",
   "nbconvert_exporter": "python",
   "pygments_lexer": "ipython3",
   "version": "3.6.4"
  }
 },
 "nbformat": 4,
 "nbformat_minor": 2
}
