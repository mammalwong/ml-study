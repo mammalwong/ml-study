{
 "cells": [
  {
   "cell_type": "code",
   "execution_count": 1,
   "metadata": {},
   "outputs": [
    {
     "name": "stderr",
     "output_type": "stream",
     "text": [
      "Using TensorFlow backend.\n"
     ]
    }
   ],
   "source": [
    "import numpy as np\n",
    "import matplotlib.pyplot as plt\n",
    "import keras\n",
    "import torch\n",
    "import torch.nn as nn\n",
    "import torch.nn.functional as F\n",
    "import torchdiffeq\n",
    "import tqdm"
   ]
  },
  {
   "cell_type": "code",
   "execution_count": 2,
   "metadata": {},
   "outputs": [],
   "source": [
    "(X_train,Y_train),(X_test,Y_test) = keras.datasets.mnist.load_data()\n",
    "X_train,X_test = X_train[:,np.newaxis]/255,X_test[:,np.newaxis]/255"
   ]
  },
  {
   "cell_type": "code",
   "execution_count": 3,
   "metadata": {},
   "outputs": [],
   "source": [
    "class ODEFunc(nn.Module):\n",
    "    \n",
    "    def __init__(self, dim):\n",
    "        super().__init__()\n",
    "        self.conv1 = nn.Conv2d(dim+1,dim,3,padding=1)\n",
    "        self.conv2 = nn.Conv2d(dim,dim,3,padding=1)\n",
    "        self.conv3 = nn.Conv2d(dim,dim,3,padding=1)\n",
    "    \n",
    "    def forward(self, t, x):\n",
    "        t = t.expand(x.size()[:1] + (1,) + x.size()[2:])\n",
    "        x = torch.cat([x,t], dim=1)\n",
    "        x = self.conv1(x)\n",
    "        x = torch.relu(x)\n",
    "        x = self.conv2(x)\n",
    "        x = torch.relu(x)\n",
    "        x = self.conv3(x)\n",
    "        return x"
   ]
  },
  {
   "cell_type": "code",
   "execution_count": 4,
   "metadata": {},
   "outputs": [],
   "source": [
    "class ODEBlock(nn.Module):\n",
    "    \n",
    "    def __init__(self, dim, rtol=1e-4, atol=1e-4):\n",
    "        super().__init__()\n",
    "        self.func = ODEFunc(dim)\n",
    "        self.itime = torch.Tensor([0,1])\n",
    "        self.rtol = rtol\n",
    "        self.atol = atol\n",
    "    \n",
    "    def forward(self, x):\n",
    "        itime = self.itime.type_as(x)\n",
    "        return torchdiffeq.odeint_adjoint(\n",
    "            self.func, x, itime, rtol=self.rtol, atol=self.atol)[1]"
   ]
  },
  {
   "cell_type": "code",
   "execution_count": 5,
   "metadata": {},
   "outputs": [],
   "source": [
    "class Net(nn.Module):\n",
    "    \n",
    "    def __init__(self):\n",
    "        super().__init__()\n",
    "        self.norm0 = nn.BatchNorm2d(1)\n",
    "        self.conv1 = nn.Conv2d(1,8,7,padding=0)\n",
    "        self.norm1 = nn.BatchNorm2d(8)\n",
    "        self.conv2 = nn.Conv2d(8,16,7,padding=0)\n",
    "        self.norm2 = nn.BatchNorm2d(16)\n",
    "        self.ode3 = ODEBlock(16)\n",
    "        self.conv3 = nn.Conv2d(16,32,3,padding=1)\n",
    "        self.norm3 = nn.BatchNorm2d(32)\n",
    "        self.ode4 = ODEBlock(32)\n",
    "        self.conv4 = nn.Conv2d(32,64,3,padding=1)\n",
    "        self.norm4 = nn.BatchNorm2d(64)\n",
    "        self.ode5 = ODEBlock(64)\n",
    "        self.conv5 = nn.Conv2d(64,128,3,padding=1)\n",
    "        self.norm5 = nn.BatchNorm2d(128)\n",
    "        self.fc = nn.Linear(128,10)\n",
    "    \n",
    "    def forward(self, x):\n",
    "        x = self.norm0(x)\n",
    "        x = self.conv1(x)\n",
    "        x = self.norm1(x)\n",
    "        x = F.relu(x)\n",
    "        x = self.conv2(x)\n",
    "        x = self.norm2(x)\n",
    "        x = F.relu(x)\n",
    "        x = F.max_pool2d(x,2)\n",
    "        x = self.ode3(x)\n",
    "        x = self.conv3(x)\n",
    "        x = self.norm3(x)\n",
    "        x = F.relu(x)\n",
    "        x = F.max_pool2d(x,2)\n",
    "        x = self.ode4(x)\n",
    "        x = self.conv4(x)\n",
    "        x = self.norm4(x)\n",
    "        x = F.relu(x)\n",
    "        x = F.max_pool2d(x,2)\n",
    "        x = self.ode5(x)\n",
    "        x = self.conv5(x)\n",
    "        x = self.norm5(x)\n",
    "        x = F.relu(x)\n",
    "        x = F.max_pool2d(x,2)\n",
    "        x = x.view((-1,128))\n",
    "        x = self.fc(x)\n",
    "        x = F.softmax(x, dim=-1)\n",
    "        return x"
   ]
  },
  {
   "cell_type": "code",
   "execution_count": 6,
   "metadata": {},
   "outputs": [],
   "source": [
    "device = torch.device('cuda')\n",
    "data,test,label = X_train,X_test,Y_train\n",
    "data = torch.Tensor(data).to(device)\n",
    "test = torch.Tensor(test).to(device)\n",
    "label = torch.Tensor(label).to(device).type(torch.long)\n",
    "net = Net().to(device)\n",
    "los = nn.CrossEntropyLoss().to(device)\n",
    "opt = torch.optim.Adam(net.parameters())"
   ]
  },
  {
   "cell_type": "code",
   "execution_count": 7,
   "metadata": {},
   "outputs": [
    {
     "data": {
      "application/vnd.jupyter.widget-view+json": {
       "model_id": "dd2ecf1135ce4916ab3bc8024dfd7f74",
       "version_major": 2,
       "version_minor": 0
      },
      "text/plain": [
       "HBox(children=(IntProgress(value=0, max=469), HTML(value='')))"
      ]
     },
     "metadata": {},
     "output_type": "display_data"
    },
    {
     "name": "stdout",
     "output_type": "stream",
     "text": [
      "\n",
      "1.546300677094124\n"
     ]
    },
    {
     "data": {
      "application/vnd.jupyter.widget-view+json": {
       "model_id": "5d44e1cff530468e934ecfc3b3c0a597",
       "version_major": 2,
       "version_minor": 0
      },
      "text/plain": [
       "HBox(children=(IntProgress(value=0, max=469), HTML(value='')))"
      ]
     },
     "metadata": {},
     "output_type": "display_data"
    },
    {
     "name": "stdout",
     "output_type": "stream",
     "text": [
      "\n",
      "1.480781925766707\n"
     ]
    },
    {
     "data": {
      "application/vnd.jupyter.widget-view+json": {
       "model_id": "3cd502c5fa2a47e8a7a661f75ce1fe25",
       "version_major": 2,
       "version_minor": 0
      },
      "text/plain": [
       "HBox(children=(IntProgress(value=0, max=469), HTML(value='')))"
      ]
     },
     "metadata": {},
     "output_type": "display_data"
    },
    {
     "name": "stdout",
     "output_type": "stream",
     "text": [
      "\n",
      "1.4761413678939916\n"
     ]
    }
   ],
   "source": [
    "net = net.train()\n",
    "for _ in range(3):\n",
    "    loss_avg = 0\n",
    "    loss_cnt = 0\n",
    "    for batch_idx in tqdm.tqdm_notebook(range(0,data.shape[0],128)):\n",
    "        batch = data[batch_idx:batch_idx+128]\n",
    "        opt.zero_grad()\n",
    "        output = net(batch)\n",
    "        loss = los(output, label[batch_idx:batch_idx+128])\n",
    "        loss.backward()\n",
    "        opt.step()\n",
    "        loss_avg += loss.item()\n",
    "        loss_cnt += 1\n",
    "    print(loss_avg/loss_cnt)"
   ]
  },
  {
   "cell_type": "code",
   "execution_count": 8,
   "metadata": {
    "scrolled": true
   },
   "outputs": [
    {
     "data": {
      "application/vnd.jupyter.widget-view+json": {
       "model_id": "1f9a7acad81c459292265a36afc82a67",
       "version_major": 2,
       "version_minor": 0
      },
      "text/plain": [
       "HBox(children=(IntProgress(value=0, max=79), HTML(value='')))"
      ]
     },
     "metadata": {},
     "output_type": "display_data"
    },
    {
     "name": "stdout",
     "output_type": "stream",
     "text": [
      "\n"
     ]
    },
    {
     "data": {
      "text/plain": [
       "0.9867"
      ]
     },
     "execution_count": 8,
     "metadata": {},
     "output_type": "execute_result"
    }
   ],
   "source": [
    "net = net.eval()\n",
    "test_hit = 0\n",
    "for batch_idx in tqdm.tqdm_notebook(range(0,test.shape[0],128)):\n",
    "    batch = test[batch_idx:batch_idx+128]\n",
    "    pred = net(batch)\n",
    "    pred = torch.argmax(pred, dim=-1)\n",
    "    pred = pred.cpu().detach().numpy()\n",
    "    test_hit += np.sum(pred == Y_test[batch_idx:batch_idx+128])\n",
    "test_hit/Y_test.shape[0]"
   ]
  }
 ],
 "metadata": {
  "kernelspec": {
   "display_name": "ml",
   "language": "python",
   "name": "ml"
  },
  "language_info": {
   "codemirror_mode": {
    "name": "ipython",
    "version": 3
   },
   "file_extension": ".py",
   "mimetype": "text/x-python",
   "name": "python",
   "nbconvert_exporter": "python",
   "pygments_lexer": "ipython3",
   "version": "3.6.7"
  }
 },
 "nbformat": 4,
 "nbformat_minor": 2
}
