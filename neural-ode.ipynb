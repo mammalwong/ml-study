{
 "cells": [
  {
   "cell_type": "code",
   "execution_count": 1,
   "metadata": {},
   "outputs": [
    {
     "name": "stderr",
     "output_type": "stream",
     "text": [
      "Using TensorFlow backend.\n"
     ]
    }
   ],
   "source": [
    "import numpy as np\n",
    "import matplotlib.pyplot as plt\n",
    "import keras\n",
    "import torch\n",
    "import torch.nn as nn\n",
    "import torch.nn.functional as F\n",
    "import torchdiffeq\n",
    "import tqdm"
   ]
  },
  {
   "cell_type": "code",
   "execution_count": 2,
   "metadata": {},
   "outputs": [],
   "source": [
    "(X_train,Y_train),(X_test,Y_test) = keras.datasets.mnist.load_data()\n",
    "X_train,X_test = X_train[:,np.newaxis]/255,X_test[:,np.newaxis]/255"
   ]
  },
  {
   "cell_type": "code",
   "execution_count": 3,
   "metadata": {},
   "outputs": [],
   "source": [
    "class ODEFunc(nn.Module):\n",
    "    \n",
    "    def __init__(self, dim):\n",
    "        super().__init__()\n",
    "        self.conv1 = nn.Conv2d(dim+1,dim,3,padding=1)\n",
    "        self.conv2 = nn.Conv2d(dim,dim,3,padding=1)\n",
    "    \n",
    "    def forward(self, t, x):\n",
    "        t = t.expand(x.size()[:1] + (1,) + x.size()[2:])\n",
    "        x = torch.cat([x,t], dim=1)\n",
    "        x = self.conv1(x)\n",
    "        x = torch.tanh(x)\n",
    "        x = self.conv2(x)\n",
    "        x = torch.tanh(x)\n",
    "        return x"
   ]
  },
  {
   "cell_type": "code",
   "execution_count": 4,
   "metadata": {},
   "outputs": [],
   "source": [
    "class ODEBlock(nn.Module):\n",
    "    \n",
    "    def __init__(self, dim):\n",
    "        super().__init__()\n",
    "        self.func = ODEFunc(dim)\n",
    "        self.itime = torch.Tensor([0,1])\n",
    "    \n",
    "    def forward(self, x):\n",
    "        itime = self.itime.type_as(x)\n",
    "        return torchdiffeq.odeint_adjoint(\n",
    "            self.func, x, itime, rtol=1e-2, atol=1e-2)[1]"
   ]
  },
  {
   "cell_type": "code",
   "execution_count": 5,
   "metadata": {},
   "outputs": [],
   "source": [
    "class Net(nn.Module):\n",
    "    \n",
    "    def __init__(self):\n",
    "        super().__init__()\n",
    "        self.norm0 = nn.BatchNorm2d(1)\n",
    "        self.conv1 = nn.Conv2d(1,8,7,padding=0)\n",
    "        self.norm1 = nn.BatchNorm2d(8)\n",
    "        self.conv2 = nn.Conv2d(8,64,7,padding=0)\n",
    "        self.norm2 = nn.BatchNorm2d(64)\n",
    "        self.conv3 = ODEBlock(64)\n",
    "        self.norm3 = nn.BatchNorm2d(64)\n",
    "        self.conv4 = ODEBlock(64)\n",
    "        self.norm4 = nn.BatchNorm2d(64)\n",
    "        self.conv5 = ODEBlock(64)\n",
    "        self.norm5 = nn.BatchNorm2d(64)\n",
    "        self.fc = nn.Linear(64,10)\n",
    "    \n",
    "    def forward(self, x):\n",
    "        x = self.norm0(x)\n",
    "        x = self.conv1(x)\n",
    "        x = self.norm1(x)\n",
    "        x = F.relu(x)\n",
    "        x = self.conv2(x)\n",
    "        x = self.norm2(x)\n",
    "        x = F.relu(x)\n",
    "        x = F.max_pool2d(x,2)\n",
    "        x = self.conv3(x)\n",
    "        x = self.norm3(x)\n",
    "        x = F.relu(x)\n",
    "        x = F.max_pool2d(x,2)\n",
    "        x = self.conv4(x)\n",
    "        x = self.norm4(x)\n",
    "        x = F.relu(x)\n",
    "        x = F.max_pool2d(x,2)\n",
    "        x = self.conv5(x)\n",
    "        x = self.norm5(x)\n",
    "        x = F.relu(x)\n",
    "        x = F.max_pool2d(x,2)\n",
    "        x = x.view((-1,64))\n",
    "        x = self.fc(x)\n",
    "        x = F.softmax(x, dim=-1)\n",
    "        return x"
   ]
  },
  {
   "cell_type": "code",
   "execution_count": 6,
   "metadata": {},
   "outputs": [],
   "source": [
    "device = torch.device('cuda')\n",
    "data,test,label = X_train,X_test,Y_train\n",
    "data = torch.Tensor(data).to(device)\n",
    "test = torch.Tensor(test).to(device)\n",
    "label = torch.Tensor(label).to(device).type(torch.long)\n",
    "net = Net().to(device)\n",
    "los = nn.CrossEntropyLoss().to(device)\n",
    "opt = torch.optim.Adam(net.parameters())"
   ]
  },
  {
   "cell_type": "code",
   "execution_count": 7,
   "metadata": {},
   "outputs": [
    {
     "data": {
      "application/vnd.jupyter.widget-view+json": {
       "model_id": "e1e3e5191ef542b09955bca49abd8ae9",
       "version_major": 2,
       "version_minor": 0
      },
      "text/plain": [
       "HBox(children=(IntProgress(value=0, max=469), HTML(value='')))"
      ]
     },
     "metadata": {},
     "output_type": "display_data"
    },
    {
     "name": "stdout",
     "output_type": "stream",
     "text": [
      "\n",
      "1.5517927232835846\n"
     ]
    },
    {
     "data": {
      "application/vnd.jupyter.widget-view+json": {
       "model_id": "9b577f87929942e997f23639af9aa5c9",
       "version_major": 2,
       "version_minor": 0
      },
      "text/plain": [
       "HBox(children=(IntProgress(value=0, max=469), HTML(value='')))"
      ]
     },
     "metadata": {},
     "output_type": "display_data"
    },
    {
     "name": "stdout",
     "output_type": "stream",
     "text": [
      "\n",
      "1.4810676833968173\n"
     ]
    },
    {
     "data": {
      "application/vnd.jupyter.widget-view+json": {
       "model_id": "f416a86618d74c5d825a06ca1b0a8072",
       "version_major": 2,
       "version_minor": 0
      },
      "text/plain": [
       "HBox(children=(IntProgress(value=0, max=469), HTML(value='')))"
      ]
     },
     "metadata": {},
     "output_type": "display_data"
    },
    {
     "name": "stdout",
     "output_type": "stream",
     "text": [
      "\n",
      "1.4768741822191902\n"
     ]
    }
   ],
   "source": [
    "net = net.train()\n",
    "for _ in range(3):\n",
    "    loss_avg = 0\n",
    "    loss_cnt = 0\n",
    "    for batch_idx in tqdm.tqdm_notebook(range(0,data.shape[0],128)):\n",
    "        batch = data[batch_idx:batch_idx+128]\n",
    "        opt.zero_grad()\n",
    "        output = net(batch)\n",
    "        loss = los(output, label[batch_idx:batch_idx+128])\n",
    "        loss.backward()\n",
    "        opt.step()\n",
    "        loss_avg += loss.item()\n",
    "        loss_cnt += 1\n",
    "    print(loss_avg/loss_cnt)"
   ]
  },
  {
   "cell_type": "code",
   "execution_count": 8,
   "metadata": {
    "scrolled": true
   },
   "outputs": [
    {
     "data": {
      "application/vnd.jupyter.widget-view+json": {
       "model_id": "e66df90818d4404db313c0854b36cf8b",
       "version_major": 2,
       "version_minor": 0
      },
      "text/plain": [
       "HBox(children=(IntProgress(value=0, max=79), HTML(value='')))"
      ]
     },
     "metadata": {},
     "output_type": "display_data"
    },
    {
     "name": "stdout",
     "output_type": "stream",
     "text": [
      "\n"
     ]
    },
    {
     "data": {
      "text/plain": [
       "0.9857"
      ]
     },
     "execution_count": 8,
     "metadata": {},
     "output_type": "execute_result"
    }
   ],
   "source": [
    "net = net.eval()\n",
    "test_hit = 0\n",
    "for batch_idx in tqdm.tqdm_notebook(range(0,test.shape[0],128)):\n",
    "    batch = test[batch_idx:batch_idx+128]\n",
    "    pred = net(batch)\n",
    "    pred = torch.argmax(pred, dim=-1)\n",
    "    pred = pred.cpu().detach().numpy()\n",
    "    test_hit += np.sum(pred == Y_test[batch_idx:batch_idx+128])\n",
    "test_hit/Y_test.shape[0]"
   ]
  }
 ],
 "metadata": {
  "kernelspec": {
   "display_name": "ml",
   "language": "python",
   "name": "ml"
  },
  "language_info": {
   "codemirror_mode": {
    "name": "ipython",
    "version": 3
   },
   "file_extension": ".py",
   "mimetype": "text/x-python",
   "name": "python",
   "nbconvert_exporter": "python",
   "pygments_lexer": "ipython3",
   "version": "3.6.7"
  }
 },
 "nbformat": 4,
 "nbformat_minor": 2
}
