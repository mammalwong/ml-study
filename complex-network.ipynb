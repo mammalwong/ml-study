{
 "cells": [
  {
   "cell_type": "code",
   "execution_count": 1,
   "metadata": {},
   "outputs": [
    {
     "name": "stderr",
     "output_type": "stream",
     "text": [
      "Using TensorFlow backend.\n"
     ]
    }
   ],
   "source": [
    "import numpy as np\n",
    "import matplotlib.pyplot as plt\n",
    "import keras\n",
    "import keras.backend as K\n",
    "import tensorflow as tf"
   ]
  },
  {
   "cell_type": "code",
   "execution_count": 2,
   "metadata": {
    "collapsed": true
   },
   "outputs": [],
   "source": [
    "(X_train,Y_train),(X_test,Y_test) = keras.datasets.cifar10.load_data()\n",
    "X_train,X_test = X_train/255,X_test/255"
   ]
  },
  {
   "cell_type": "code",
   "execution_count": 3,
   "metadata": {
    "collapsed": true
   },
   "outputs": [],
   "source": [
    "class ComplexDense(keras.layers.Layer):\n",
    "    \n",
    "    def __init__(self, units, **kwargs):\n",
    "        self.units = units\n",
    "        super().__init__(**kwargs)\n",
    "    \n",
    "    def build(self, input_shape):\n",
    "        self.kernel_real = self.add_weight(\n",
    "            shape=(input_shape[1], self.units),\n",
    "            initializer='glorot_normal', name='kernel_real')\n",
    "        self.kernel_imag = self.add_weight(\n",
    "            shape=(input_shape[1], self.units),\n",
    "            initializer='glorot_normal', name='kernel_imag')\n",
    "        self.bias_real = self.add_weight(\n",
    "            shape=(self.units,),\n",
    "            initializer='zeros', name='bias_real')\n",
    "        self.bias_imag = self.add_weight(\n",
    "            shape=(self.units,),\n",
    "            initializer='zeros', name='bias_imag')\n",
    "        super().build(input_shape)\n",
    "    \n",
    "    def call(self, inputs):\n",
    "        kernel = tf.complex(self.kernel_real * 0.1, self.kernel_imag * 0.1)\n",
    "        bias = tf.complex(self.bias_real, self.bias_imag)\n",
    "        forward = inputs @ kernel + bias\n",
    "        forward = forward / tf.complex(K.clip(tf.abs(forward), 1., None), 0.)\n",
    "        return forward\n",
    "    \n",
    "    def compute_output_shape(self, input_shape):\n",
    "        return (input_shape[0],self.units)"
   ]
  },
  {
   "cell_type": "code",
   "execution_count": 4,
   "metadata": {},
   "outputs": [],
   "source": [
    "class ComplexConv2D(keras.layers.Layer):\n",
    "    \n",
    "    def __init__(self, channels, kernel_size, **kwargs):\n",
    "        self.channels = channels\n",
    "        self.kernel_size = kernel_size\n",
    "        super().__init__(**kwargs)\n",
    "    \n",
    "    def build(self, input_shape):\n",
    "        self.kernel_real = self.add_weight(\n",
    "            shape=(*self.kernel_size, input_shape[-1], self.channels),\n",
    "            initializer='glorot_normal', name='kernel_real')\n",
    "        self.kernel_imag = self.add_weight(\n",
    "            shape=(*self.kernel_size, input_shape[-1], self.channels),\n",
    "            initializer='glorot_normal', name='kernel_imag')\n",
    "        self.bias_real = self.add_weight(\n",
    "            shape=(self.channels,),\n",
    "            initializer='zeros', name='bias_real')\n",
    "        self.bias_imag = self.add_weight(\n",
    "            shape=(self.channels,),\n",
    "            initializer='zeros', name='bias_imag')\n",
    "        super().build(input_shape)\n",
    "    \n",
    "    def call(self, inputs):\n",
    "        a,b = tf.real(inputs), tf.imag(inputs)\n",
    "        c,d = self.kernel_real * 0.1, self.kernel_imag * 0.1\n",
    "        ac = tf.nn.conv2d(a, c, (1,1,1,1), 'SAME')\n",
    "        bd = tf.nn.conv2d(b, d, (1,1,1,1), 'SAME')\n",
    "        ad = tf.nn.conv2d(a, d, (1,1,1,1), 'SAME')\n",
    "        bc = tf.nn.conv2d(b, c, (1,1,1,1), 'SAME')\n",
    "        re = tf.nn.bias_add(ac - bd, self.bias_real)\n",
    "        im = tf.nn.bias_add(ad + bc, self.bias_imag)\n",
    "        forward = tf.complex(re, im)\n",
    "        forward = forward / tf.complex(K.clip(tf.abs(forward), 1., None), 0.)\n",
    "        return forward\n",
    "    \n",
    "    def compute_output_shape(self, input_shape):\n",
    "        return (*input_shape[:3],self.channels)"
   ]
  },
  {
   "cell_type": "code",
   "execution_count": 5,
   "metadata": {
    "collapsed": true
   },
   "outputs": [],
   "source": [
    "class ComplexPooling2D(keras.layers.Layer):\n",
    "    \n",
    "    def __init__(self, **kwargs):\n",
    "        super().__init__(**kwargs)\n",
    "    \n",
    "    def build(self, input_shape):\n",
    "        super().build(input_shape)\n",
    "    \n",
    "    def call(self, inputs):\n",
    "        re = tf.nn.avg_pool(tf.real(inputs), (1,2,2,1), (1,2,2,1), 'VALID')\n",
    "        im = tf.nn.avg_pool(tf.imag(inputs), (1,2,2,1), (1,2,2,1), 'VALID')\n",
    "        forward = tf.complex(re, im)\n",
    "        return forward\n",
    "    \n",
    "    def compute_output_shape(self, input_shape):\n",
    "        return (input_shape[0], input_shape[1]//2, input_shape[2]//2, input_shape[3])"
   ]
  },
  {
   "cell_type": "code",
   "execution_count": 6,
   "metadata": {},
   "outputs": [
    {
     "name": "stdout",
     "output_type": "stream",
     "text": [
      "_________________________________________________________________\n",
      "Layer (type)                 Output Shape              Param #   \n",
      "=================================================================\n",
      "input_1 (InputLayer)         (None, 32, 32, 3)         0         \n",
      "_________________________________________________________________\n",
      "lambda_1 (Lambda)            (None, 32, 32, 3)         0         \n",
      "_________________________________________________________________\n",
      "complex_conv2d_1 (ComplexCon (None, 32, 32, 16)        896       \n",
      "_________________________________________________________________\n",
      "complex_pooling2d_1 (Complex (None, 16, 16, 16)        0         \n",
      "_________________________________________________________________\n",
      "complex_conv2d_2 (ComplexCon (None, 16, 16, 32)        9280      \n",
      "_________________________________________________________________\n",
      "complex_pooling2d_2 (Complex (None, 8, 8, 32)          0         \n",
      "_________________________________________________________________\n",
      "complex_conv2d_3 (ComplexCon (None, 8, 8, 64)          36992     \n",
      "_________________________________________________________________\n",
      "complex_pooling2d_3 (Complex (None, 4, 4, 64)          0         \n",
      "_________________________________________________________________\n",
      "complex_conv2d_4 (ComplexCon (None, 4, 4, 128)         147712    \n",
      "_________________________________________________________________\n",
      "complex_pooling2d_4 (Complex (None, 2, 2, 128)         0         \n",
      "_________________________________________________________________\n",
      "flatten_1 (Flatten)          (None, 512)               0         \n",
      "_________________________________________________________________\n",
      "complex_dense_1 (ComplexDens (None, 256)               262656    \n",
      "_________________________________________________________________\n",
      "complex_dense_2 (ComplexDens (None, 128)               65792     \n",
      "_________________________________________________________________\n",
      "complex_dense_3 (ComplexDens (None, 10)                2580      \n",
      "_________________________________________________________________\n",
      "lambda_2 (Lambda)            (None, 10)                0         \n",
      "_________________________________________________________________\n",
      "softmax_1 (Softmax)          (None, 10)                0         \n",
      "=================================================================\n",
      "Total params: 525,908\n",
      "Trainable params: 525,908\n",
      "Non-trainable params: 0\n",
      "_________________________________________________________________\n"
     ]
    }
   ],
   "source": [
    "X = X_input = keras.layers.Input(X_train.shape[1:])\n",
    "X = keras.layers.Lambda(lambda x: tf.complex(x, 0.))(X)\n",
    "X = ComplexConv2D(16, (3,3))(X)\n",
    "X = ComplexPooling2D()(X)\n",
    "X = ComplexConv2D(32, (3,3))(X)\n",
    "X = ComplexPooling2D()(X)\n",
    "X = ComplexConv2D(64, (3,3))(X)\n",
    "X = ComplexPooling2D()(X)\n",
    "X = ComplexConv2D(128, (3,3))(X)\n",
    "X = ComplexPooling2D()(X)\n",
    "X = keras.layers.Flatten()(X)\n",
    "X = ComplexDense(256)(X)\n",
    "X = ComplexDense(128)(X)\n",
    "X = ComplexDense(np.max(Y_train)+1)(X)\n",
    "X = keras.layers.Lambda(lambda x: tf.abs(x))(X)\n",
    "X = keras.layers.Softmax()(X)\n",
    "M = keras.Model(X_input, X)\n",
    "M.compile('nadam', 'sparse_categorical_crossentropy', ['acc'])\n",
    "M.summary()"
   ]
  },
  {
   "cell_type": "code",
   "execution_count": 7,
   "metadata": {},
   "outputs": [
    {
     "name": "stdout",
     "output_type": "stream",
     "text": [
      "Train on 50000 samples, validate on 10000 samples\n",
      "Epoch 1/5\n",
      "50000/50000 [==============================] - 118s 2ms/step - loss: 2.1927 - acc: 0.1763 - val_loss: 2.0920 - val_acc: 0.2743\n",
      "Epoch 2/5\n",
      "50000/50000 [==============================] - 115s 2ms/step - loss: 2.0565 - acc: 0.2769 - val_loss: 2.0343 - val_acc: 0.3035\n",
      "Epoch 3/5\n",
      "50000/50000 [==============================] - 115s 2ms/step - loss: 2.0100 - acc: 0.3193 - val_loss: 2.0044 - val_acc: 0.3236\n",
      "Epoch 4/5\n",
      "50000/50000 [==============================] - 115s 2ms/step - loss: 1.9732 - acc: 0.3577 - val_loss: 1.9609 - val_acc: 0.3886\n",
      "Epoch 5/5\n",
      "50000/50000 [==============================] - 115s 2ms/step - loss: 1.9477 - acc: 0.3874 - val_loss: 1.9422 - val_acc: 0.3975\n"
     ]
    },
    {
     "data": {
      "text/plain": [
       "<keras.callbacks.History at 0x7f40caa290b8>"
      ]
     },
     "execution_count": 7,
     "metadata": {},
     "output_type": "execute_result"
    }
   ],
   "source": [
    "M.fit(X_train, Y_train, validation_data=(X_test,Y_test), batch_size=64, epochs=5, callbacks=[\n",
    "    keras.callbacks.ReduceLROnPlateau(patience=3, verbose=1)\n",
    "])"
   ]
  }
 ],
 "metadata": {
  "kernelspec": {
   "display_name": "ml",
   "language": "python",
   "name": "ml"
  },
  "language_info": {
   "codemirror_mode": {
    "name": "ipython",
    "version": 3
   },
   "file_extension": ".py",
   "mimetype": "text/x-python",
   "name": "python",
   "nbconvert_exporter": "python",
   "pygments_lexer": "ipython3",
   "version": "3.6.4"
  }
 },
 "nbformat": 4,
 "nbformat_minor": 2
}
