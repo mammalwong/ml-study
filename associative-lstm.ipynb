{
 "cells": [
  {
   "cell_type": "code",
   "execution_count": 1,
   "metadata": {},
   "outputs": [
    {
     "name": "stderr",
     "output_type": "stream",
     "text": [
      "Using TensorFlow backend.\n"
     ]
    }
   ],
   "source": [
    "import numpy as np\n",
    "import matplotlib.pyplot as plt\n",
    "import keras\n",
    "import keras.backend as K\n",
    "import tensorflow as tf"
   ]
  },
  {
   "cell_type": "code",
   "execution_count": 2,
   "metadata": {
    "collapsed": true
   },
   "outputs": [],
   "source": [
    "(X_train,Y_train),(X_test,Y_test) = keras.datasets.reuters.load_data()"
   ]
  },
  {
   "cell_type": "code",
   "execution_count": 3,
   "metadata": {},
   "outputs": [
    {
     "data": {
      "image/png": "[encoded data removed]",
      "text/plain": [
       "<matplotlib.figure.Figure at 0x7f4837b12c50>"
      ]
     },
     "metadata": {},
     "output_type": "display_data"
    }
   ],
   "source": [
    "data_input_len_quantile_x = np.linspace(0, 1, num=100)\n",
    "data_input_len_quantile_y = np.quantile(\n",
    "    [len(x) for x in X_train] + [len(x) for x in X_test], data_input_len_quantile_x)\n",
    "plt.plot(data_input_len_quantile_x, data_input_len_quantile_y)\n",
    "plt.show()"
   ]
  },
  {
   "cell_type": "code",
   "execution_count": 4,
   "metadata": {},
   "outputs": [
    {
     "data": {
      "text/plain": [
       "((8982, 64), (8982,), (2246, 64), (2246,))"
      ]
     },
     "execution_count": 4,
     "metadata": {},
     "output_type": "execute_result"
    }
   ],
   "source": [
    "X_train = keras.preprocessing.sequence.pad_sequences(X_train, maxlen=64, padding='post', truncating='post')\n",
    "X_test = keras.preprocessing.sequence.pad_sequences(X_test, maxlen=64, padding='post', truncating='post')\n",
    "Y_train = np.array(Y_train)\n",
    "Y_test = np.array(Y_test)\n",
    "X_train.shape, Y_train.shape, X_test.shape, Y_test.shape"
   ]
  },
  {
   "cell_type": "code",
   "execution_count": 5,
   "metadata": {},
   "outputs": [
    {
     "data": {
      "text/plain": [
       "30979"
      ]
     },
     "execution_count": 5,
     "metadata": {},
     "output_type": "execute_result"
    }
   ],
   "source": [
    "data_input_dim = max(np.max(X_train), np.max(X_test)) + 1\n",
    "data_input_dim"
   ]
  },
  {
   "cell_type": "code",
   "execution_count": 6,
   "metadata": {},
   "outputs": [
    {
     "data": {
      "text/plain": [
       "46"
      ]
     },
     "execution_count": 6,
     "metadata": {},
     "output_type": "execute_result"
    }
   ],
   "source": [
    "data_output_dim = max(np.max(Y_train), np.max(Y_test)) + 1\n",
    "data_output_dim"
   ]
  },
  {
   "cell_type": "code",
   "execution_count": 7,
   "metadata": {
    "collapsed": true
   },
   "outputs": [],
   "source": [
    "class AssoLSTMCell(keras.layers.Layer):\n",
    "    \n",
    "    def __init__(self,\n",
    "                 units,\n",
    "                 redundancy,\n",
    "                 enable_hidden_to_update=False,\n",
    "                 **kwargs):\n",
    "        if units % 2 != 0:\n",
    "            raise Exception('units is requried to be even')\n",
    "        self.units = units\n",
    "        self.redundancy = redundancy\n",
    "        self.enable_hidden_to_update = enable_hidden_to_update\n",
    "        self.state_size = units, units*redundancy\n",
    "        self.permuatation = self.__permuatation()\n",
    "        super().__init__(**kwargs)\n",
    "    \n",
    "    def __permuatation(self):\n",
    "        import numpy as np\n",
    "        space = np.arange(self.units//2)\n",
    "        perm = np.random.choice(space,size=(\n",
    "            self.redundancy,self.units//2),replace=True)\n",
    "        return perm\n",
    "    \n",
    "    def build(self, input_shape):\n",
    "        self.kernel = self.add_weight(\n",
    "            shape=(self.units+input_shape[-1], (self.units//2)*7),\n",
    "            initializer='glorot_normal', name='kernel')\n",
    "        self.bias = self.add_weight(\n",
    "            shape=((self.units//2)*7,),\n",
    "            initializer='zeros', name='bias')\n",
    "        self.kernel_update = self.add_weight(\n",
    "            shape=((\n",
    "                self.units if self.enable_hidden_to_update else 0\n",
    "                ) + input_shape[-1], self.units),\n",
    "            initializer='glorot_normal', name='kernel_update')\n",
    "        self.bias_update = self.add_weight(\n",
    "            shape=(self.units,),\n",
    "            initializer='zeros', name='bias_update')\n",
    "        super().build(input_shape)\n",
    "    \n",
    "    def call(self, inputs, states):\n",
    "        \n",
    "        def bound(x):\n",
    "            norm = K.sqrt(K.sum(K.square(x),axis=-1,keepdims=True))\n",
    "            norm = K.clip(norm, 1., None)\n",
    "            return x / norm\n",
    "        \n",
    "        def complex_mul(x, y):\n",
    "            return K.stack([\n",
    "                x[:,:,:,0]*y[:,:,:,0] - \\\n",
    "                x[:,:,:,1]*y[:,:,:,1],\n",
    "                x[:,:,:,0]*y[:,:,:,1] + \\\n",
    "                x[:,:,:,1]*y[:,:,:,0]], axis=-1)\n",
    "        \n",
    "        hidden, holographic = states\n",
    "        holographic = K.reshape(\n",
    "            holographic, (-1,self.redundancy,self.units//2,2))\n",
    "        \n",
    "        hidden = K.concatenate([inputs, hidden])\n",
    "        update = (hidden \\\n",
    "            if self.enable_hidden_to_update else inputs\n",
    "            ) @ self.kernel_update + self.bias_update\n",
    "        update = K.reshape(update, (-1,self.units//2,2))\n",
    "        update = bound(update)\n",
    "        gates = hidden @ self.kernel + self.bias\n",
    "        gates_f = gates[:,:self.units//2]\n",
    "        gates_f = K.expand_dims(gates_f)\n",
    "        gates_f = K.sigmoid(gates_f)\n",
    "        gates_i = gates[:,self.units//2:(self.units//2)*2]\n",
    "        gates_i = K.expand_dims(gates_i)\n",
    "        gates_i = K.sigmoid(gates_i)\n",
    "        gates_o = gates[:,(self.units//2)*2:(self.units//2)*3]\n",
    "        gates_o = K.expand_dims(gates_o)\n",
    "        gates_o = K.sigmoid(gates_o)\n",
    "        key_i = gates[:,(self.units//2)*3:(self.units//2)*5]\n",
    "        key_i = K.reshape(key_i, (-1,self.units//2,2))\n",
    "        key_i = bound(key_i)\n",
    "        key_o = gates[:,(self.units//2)*5:(self.units//2)*7]\n",
    "        key_o = K.reshape(key_o, (-1,self.units//2,2))\n",
    "        key_o = bound(key_o)\n",
    "        \n",
    "        perm = tf.constant(self.permuatation,dtype=tf.int32)\n",
    "        perm = tf.expand_dims(perm,axis=0)\n",
    "        perm = tf.tile(perm, (K.shape(inputs)[0],1,1))\n",
    "        perm = tf.stack([\n",
    "            tf.tile(tf.reshape(tf.range(\n",
    "                K.shape(inputs)[0]),(-1,1,1)),\n",
    "                    (1,self.redundancy,self.units//2)),\n",
    "            perm],axis=-1)\n",
    "        key_i = tf.gather_nd(key_i, perm)\n",
    "        key_o = tf.gather_nd(key_o, perm)\n",
    "        \n",
    "        update = gates_i * update\n",
    "        update = K.expand_dims(update,axis=1)\n",
    "        update = complex_mul(key_i, update)\n",
    "        holographic = K.expand_dims(gates_f,axis=1) * \\\n",
    "            holographic + update\n",
    "        \n",
    "        hidden = complex_mul(key_o, holographic)\n",
    "        hidden = K.mean(hidden, axis=1, keepdims=False)\n",
    "        hidden = bound(hidden) * gates_o\n",
    "        hidden = K.reshape(hidden, (-1,self.units))\n",
    "        \n",
    "        return hidden, [hidden, K.reshape(\n",
    "            holographic,(-1,self.redundancy*self.units))]\n",
    "    \n",
    "    def compute_output_shape(self, input_shape):\n",
    "        return (input_shape[0], self.units)"
   ]
  },
  {
   "cell_type": "code",
   "execution_count": 8,
   "metadata": {},
   "outputs": [
    {
     "name": "stdout",
     "output_type": "stream",
     "text": [
      "_________________________________________________________________\n",
      "Layer (type)                 Output Shape              Param #   \n",
      "=================================================================\n",
      "input_1 (InputLayer)         (None, None)              0         \n",
      "_________________________________________________________________\n",
      "embedding_1 (Embedding)      (None, None, 16)          495664    \n",
      "_________________________________________________________________\n",
      "rnn_1 (RNN)                  (None, 32)                6032      \n",
      "_________________________________________________________________\n",
      "dense_1 (Dense)              (None, 46)                1518      \n",
      "=================================================================\n",
      "Total params: 503,214\n",
      "Trainable params: 503,214\n",
      "Non-trainable params: 0\n",
      "_________________________________________________________________\n"
     ]
    }
   ],
   "source": [
    "X = X_inputs = keras.layers.Input((None,), dtype='int32')\n",
    "X = keras.layers.Embedding(data_input_dim, 16, mask_zero=True)(X)\n",
    "X = keras.layers.RNN(AssoLSTMCell(32, 16))(X)\n",
    "X = keras.layers.Dense(data_output_dim, activation='softmax')(X)\n",
    "M = keras.Model(X_inputs, X)\n",
    "M.compile('nadam', 'sparse_categorical_crossentropy', ['acc'])\n",
    "M.summary()"
   ]
  },
  {
   "cell_type": "code",
   "execution_count": 9,
   "metadata": {
    "scrolled": false
   },
   "outputs": [
    {
     "name": "stdout",
     "output_type": "stream",
     "text": [
      "Train on 8982 samples, validate on 2246 samples\n",
      "Epoch 1/50\n",
      "8982/8982 [==============================] - 33s 4ms/step - loss: 3.0105 - acc: 0.3103 - val_loss: 2.1919 - val_acc: 0.3642\n",
      "Epoch 2/50\n",
      "8982/8982 [==============================] - 30s 3ms/step - loss: 2.0172 - acc: 0.4158 - val_loss: 1.9131 - val_acc: 0.5178\n",
      "Epoch 3/50\n",
      "8982/8982 [==============================] - 30s 3ms/step - loss: 1.7233 - acc: 0.5327 - val_loss: 1.7453 - val_acc: 0.5441\n",
      "Epoch 4/50\n",
      "8982/8982 [==============================] - 30s 3ms/step - loss: 1.5712 - acc: 0.5538 - val_loss: 1.7249 - val_acc: 0.5454\n",
      "Epoch 5/50\n",
      "8982/8982 [==============================] - 30s 3ms/step - loss: 1.4739 - acc: 0.5684 - val_loss: 1.7134 - val_acc: 0.5650\n",
      "Epoch 6/50\n",
      "8982/8982 [==============================] - 30s 3ms/step - loss: 1.4078 - acc: 0.6011 - val_loss: 1.6757 - val_acc: 0.5744\n",
      "Epoch 7/50\n",
      "8982/8982 [==============================] - 30s 3ms/step - loss: 1.3525 - acc: 0.6209 - val_loss: 1.6580 - val_acc: 0.5819\n",
      "Epoch 8/50\n",
      "8982/8982 [==============================] - 30s 3ms/step - loss: 1.2819 - acc: 0.6492 - val_loss: 1.7114 - val_acc: 0.5699\n",
      "Epoch 9/50\n",
      "8982/8982 [==============================] - 30s 3ms/step - loss: 1.2121 - acc: 0.6741 - val_loss: 1.6611 - val_acc: 0.5984\n",
      "Epoch 10/50\n",
      "8982/8982 [==============================] - 30s 3ms/step - loss: 1.1410 - acc: 0.7153 - val_loss: 1.8487 - val_acc: 0.5828\n",
      "Epoch 11/50\n",
      "8982/8982 [==============================] - 30s 3ms/step - loss: 1.1006 - acc: 0.7286 - val_loss: 1.6472 - val_acc: 0.6202\n",
      "Epoch 12/50\n",
      "8982/8982 [==============================] - 30s 3ms/step - loss: 1.0242 - acc: 0.7465 - val_loss: 1.6469 - val_acc: 0.6260\n",
      "Epoch 13/50\n",
      "8982/8982 [==============================] - 30s 3ms/step - loss: 0.9730 - acc: 0.7568 - val_loss: 1.6369 - val_acc: 0.6443\n",
      "Epoch 14/50\n",
      "8982/8982 [==============================] - 30s 3ms/step - loss: 0.9410 - acc: 0.7641 - val_loss: 1.8378 - val_acc: 0.6144\n",
      "Epoch 15/50\n",
      "8982/8982 [==============================] - 30s 3ms/step - loss: 0.9096 - acc: 0.7704 - val_loss: 1.6276 - val_acc: 0.6287\n",
      "Epoch 16/50\n",
      "8982/8982 [==============================] - 30s 3ms/step - loss: 0.8654 - acc: 0.7771 - val_loss: 1.6802 - val_acc: 0.6207\n",
      "Epoch 17/50\n",
      "8982/8982 [==============================] - 30s 3ms/step - loss: 0.8377 - acc: 0.7807 - val_loss: 1.6667 - val_acc: 0.6358\n",
      "Epoch 18/50\n",
      "8982/8982 [==============================] - 30s 3ms/step - loss: 0.8129 - acc: 0.7864 - val_loss: 1.6932 - val_acc: 0.6278\n",
      "Epoch 19/50\n",
      "8982/8982 [==============================] - 30s 3ms/step - loss: 0.7926 - acc: 0.7916 - val_loss: 1.6753 - val_acc: 0.6349\n",
      "Epoch 20/50\n",
      "8982/8982 [==============================] - 30s 3ms/step - loss: 0.7736 - acc: 0.7978 - val_loss: 1.6993 - val_acc: 0.6514\n",
      "Epoch 21/50\n",
      "8982/8982 [==============================] - 30s 3ms/step - loss: 0.7555 - acc: 0.8032 - val_loss: 1.6936 - val_acc: 0.6514\n",
      "Epoch 22/50\n",
      "8982/8982 [==============================] - 30s 3ms/step - loss: 0.7390 - acc: 0.8042 - val_loss: 1.7090 - val_acc: 0.6402\n",
      "Epoch 23/50\n",
      "8982/8982 [==============================] - 30s 3ms/step - loss: 0.7229 - acc: 0.8088 - val_loss: 1.7419 - val_acc: 0.6465\n",
      "Epoch 24/50\n",
      "8982/8982 [==============================] - 30s 3ms/step - loss: 0.7079 - acc: 0.8105 - val_loss: 1.7189 - val_acc: 0.6443\n",
      "Epoch 25/50\n",
      "8982/8982 [==============================] - 31s 3ms/step - loss: 0.6921 - acc: 0.8142 - val_loss: 1.7534 - val_acc: 0.6500\n",
      "\n",
      "Epoch 00025: ReduceLROnPlateau reducing learning rate to 0.00020000000949949026.\n",
      "Epoch 26/50\n",
      "8982/8982 [==============================] - 30s 3ms/step - loss: 0.6631 - acc: 0.8224 - val_loss: 1.7399 - val_acc: 0.6451\n",
      "Epoch 27/50\n",
      "8982/8982 [==============================] - 30s 3ms/step - loss: 0.6570 - acc: 0.8234 - val_loss: 1.7431 - val_acc: 0.6429\n",
      "Epoch 28/50\n",
      "8982/8982 [==============================] - 30s 3ms/step - loss: 0.6534 - acc: 0.8238 - val_loss: 1.7459 - val_acc: 0.6460\n",
      "Epoch 29/50\n",
      "8982/8982 [==============================] - 30s 3ms/step - loss: 0.6504 - acc: 0.8238 - val_loss: 1.7527 - val_acc: 0.6492\n",
      "Epoch 30/50\n",
      "8982/8982 [==============================] - 30s 3ms/step - loss: 0.6478 - acc: 0.8232 - val_loss: 1.7558 - val_acc: 0.6465\n",
      "Epoch 31/50\n",
      "8982/8982 [==============================] - 30s 3ms/step - loss: 0.6450 - acc: 0.8235 - val_loss: 1.7607 - val_acc: 0.6469\n",
      "Epoch 32/50\n",
      "8982/8982 [==============================] - 30s 3ms/step - loss: 0.6424 - acc: 0.8240 - val_loss: 1.7661 - val_acc: 0.6451\n",
      "Epoch 33/50\n",
      "8982/8982 [==============================] - 30s 3ms/step - loss: 0.6398 - acc: 0.8248 - val_loss: 1.7693 - val_acc: 0.6469\n",
      "Epoch 34/50\n",
      "8982/8982 [==============================] - 30s 3ms/step - loss: 0.6373 - acc: 0.8234 - val_loss: 1.7774 - val_acc: 0.6469\n",
      "Epoch 35/50\n",
      "8982/8982 [==============================] - 30s 3ms/step - loss: 0.6349 - acc: 0.8249 - val_loss: 1.7800 - val_acc: 0.6483\n",
      "\n",
      "Epoch 00035: ReduceLROnPlateau reducing learning rate to 2.0000000949949027e-05.\n",
      "Epoch 36/50\n",
      "8982/8982 [==============================] - 30s 3ms/step - loss: 0.6311 - acc: 0.8279 - val_loss: 1.7794 - val_acc: 0.6487\n",
      "Epoch 37/50\n",
      "8982/8982 [==============================] - 30s 3ms/step - loss: 0.6306 - acc: 0.8270 - val_loss: 1.7796 - val_acc: 0.6492\n",
      "Epoch 38/50\n",
      "8982/8982 [==============================] - 30s 3ms/step - loss: 0.6303 - acc: 0.8270 - val_loss: 1.7803 - val_acc: 0.6492\n",
      "Epoch 39/50\n",
      "8982/8982 [==============================] - 30s 3ms/step - loss: 0.6300 - acc: 0.8271 - val_loss: 1.7808 - val_acc: 0.6492\n",
      "Epoch 40/50\n",
      "8982/8982 [==============================] - 30s 3ms/step - loss: 0.6297 - acc: 0.8273 - val_loss: 1.7814 - val_acc: 0.6492\n",
      "Epoch 41/50\n",
      "8982/8982 [==============================] - 30s 3ms/step - loss: 0.6294 - acc: 0.8273 - val_loss: 1.7817 - val_acc: 0.6496\n",
      "Epoch 42/50\n",
      "8982/8982 [==============================] - 30s 3ms/step - loss: 0.6291 - acc: 0.8272 - val_loss: 1.7824 - val_acc: 0.6496\n",
      "Epoch 43/50\n",
      "8982/8982 [==============================] - 31s 3ms/step - loss: 0.6289 - acc: 0.8272 - val_loss: 1.7827 - val_acc: 0.6500\n",
      "Epoch 44/50\n",
      "8982/8982 [==============================] - 30s 3ms/step - loss: 0.6286 - acc: 0.8268 - val_loss: 1.7836 - val_acc: 0.6496\n",
      "Epoch 45/50\n",
      "8982/8982 [==============================] - 30s 3ms/step - loss: 0.6283 - acc: 0.8271 - val_loss: 1.7841 - val_acc: 0.6496\n",
      "\n",
      "Epoch 00045: ReduceLROnPlateau reducing learning rate to 2.0000001313746906e-06.\n",
      "Epoch 46/50\n",
      "8982/8982 [==============================] - 30s 3ms/step - loss: 0.6279 - acc: 0.8277 - val_loss: 1.7841 - val_acc: 0.6496\n",
      "Epoch 47/50\n",
      "8982/8982 [==============================] - 30s 3ms/step - loss: 0.6278 - acc: 0.8275 - val_loss: 1.7842 - val_acc: 0.6500\n",
      "Epoch 48/50\n",
      "8982/8982 [==============================] - 30s 3ms/step - loss: 0.6278 - acc: 0.8277 - val_loss: 1.7843 - val_acc: 0.6500\n",
      "Epoch 49/50\n",
      "8982/8982 [==============================] - 30s 3ms/step - loss: 0.6278 - acc: 0.8275 - val_loss: 1.7844 - val_acc: 0.6500\n",
      "Epoch 50/50\n",
      "8982/8982 [==============================] - 30s 3ms/step - loss: 0.6277 - acc: 0.8275 - val_loss: 1.7844 - val_acc: 0.6500\n"
     ]
    },
    {
     "data": {
      "text/plain": [
       "<keras.callbacks.History at 0x7f4836328f60>"
      ]
     },
     "execution_count": 9,
     "metadata": {},
     "output_type": "execute_result"
    }
   ],
   "source": [
    "M.fit(X_train, Y_train, validation_data=(X_test,Y_test), batch_size=128, epochs=50, callbacks=[\n",
    "    keras.callbacks.ReduceLROnPlateau(verbose=1)\n",
    "])"
   ]
  }
 ],
 "metadata": {
  "kernelspec": {
   "display_name": "ml",
   "language": "python",
   "name": "ml"
  },
  "language_info": {
   "codemirror_mode": {
    "name": "ipython",
    "version": 3
   },
   "file_extension": ".py",
   "mimetype": "text/x-python",
   "name": "python",
   "nbconvert_exporter": "python",
   "pygments_lexer": "ipython3",
   "version": "3.6.4"
  }
 },
 "nbformat": 4,
 "nbformat_minor": 2
}
