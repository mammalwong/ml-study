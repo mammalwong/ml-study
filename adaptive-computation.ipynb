{
 "cells": [
  {
   "cell_type": "code",
   "execution_count": 1,
   "metadata": {},
   "outputs": [
    {
     "name": "stderr",
     "output_type": "stream",
     "text": [
      "Using TensorFlow backend.\n"
     ]
    }
   ],
   "source": [
    "import numpy as np\n",
    "import matplotlib.pyplot as plt\n",
    "import keras\n",
    "import keras.backend as K"
   ]
  },
  {
   "cell_type": "code",
   "execution_count": 2,
   "metadata": {
    "collapsed": true
   },
   "outputs": [],
   "source": [
    "(X_train,Y_train),(X_test,Y_test) = keras.datasets.reuters.load_data()"
   ]
  },
  {
   "cell_type": "code",
   "execution_count": 3,
   "metadata": {},
   "outputs": [
    {
     "data": {
      "image/png": "[encoded data removed]",
      "text/plain": [
       "<matplotlib.figure.Figure at 0x7f2c03194be0>"
      ]
     },
     "metadata": {},
     "output_type": "display_data"
    }
   ],
   "source": [
    "data_input_len_quantile_x = np.linspace(0, 1, num=100)\n",
    "data_input_len_quantile_y = np.quantile(\n",
    "    [len(x) for x in X_train] + [len(x) for x in X_test], data_input_len_quantile_x)\n",
    "plt.plot(data_input_len_quantile_x, data_input_len_quantile_y)\n",
    "plt.show()"
   ]
  },
  {
   "cell_type": "code",
   "execution_count": 4,
   "metadata": {},
   "outputs": [
    {
     "data": {
      "text/plain": [
       "((8982, 64), (8982,), (2246, 64), (2246,))"
      ]
     },
     "execution_count": 4,
     "metadata": {},
     "output_type": "execute_result"
    }
   ],
   "source": [
    "X_train = keras.preprocessing.sequence.pad_sequences(X_train, maxlen=64, padding='post', truncating='post')\n",
    "X_test = keras.preprocessing.sequence.pad_sequences(X_test, maxlen=64, padding='post', truncating='post')\n",
    "Y_train = np.array(Y_train)\n",
    "Y_test = np.array(Y_test)\n",
    "X_train.shape, Y_train.shape, X_test.shape, Y_test.shape"
   ]
  },
  {
   "cell_type": "code",
   "execution_count": 5,
   "metadata": {},
   "outputs": [
    {
     "data": {
      "text/plain": [
       "30979"
      ]
     },
     "execution_count": 5,
     "metadata": {},
     "output_type": "execute_result"
    }
   ],
   "source": [
    "data_input_dim = max(np.max(X_train), np.max(X_test)) + 1\n",
    "data_input_dim"
   ]
  },
  {
   "cell_type": "code",
   "execution_count": 6,
   "metadata": {},
   "outputs": [
    {
     "data": {
      "text/plain": [
       "46"
      ]
     },
     "execution_count": 6,
     "metadata": {},
     "output_type": "execute_result"
    }
   ],
   "source": [
    "data_output_dim = max(np.max(Y_train), np.max(Y_test)) + 1\n",
    "data_output_dim"
   ]
  },
  {
   "cell_type": "code",
   "execution_count": 7,
   "metadata": {
    "collapsed": true
   },
   "outputs": [],
   "source": [
    "class AdaptiveComputationLSTMCell(keras.layers.LSTMCell):\n",
    "    \n",
    "    def __init__(self, *args, substeps=8, **kwargs):\n",
    "        self.substeps = substeps\n",
    "        super().__init__(*args, **kwargs)\n",
    "        \n",
    "    def build(self, input_shape):\n",
    "        super().build(input_shape)\n",
    "        self.kernel_halt_c = self.add_weight(\n",
    "            shape=(self.units, 1),\n",
    "            initializer='glorot_normal', name='kernel_halt_c')\n",
    "        self.kernel_halt_inputs = self.add_weight(\n",
    "            shape=(input_shape[-1], 1),\n",
    "            initializer='glorot_normal', name='kernel_halt_inputs')\n",
    "        self.bias_halt = self.add_weight(\n",
    "            shape=(1,),\n",
    "            initializer='zeros', name='bias_halt')\n",
    "    \n",
    "    def call(self, inputs, states, **kwargs):\n",
    "        state_list = []\n",
    "        zero_inputs = K.zeros_like(inputs)\n",
    "        for i in range(self.substeps):\n",
    "            _,states = super().call(\n",
    "                inputs if i == 0 else zero_inputs,\n",
    "                states, **kwargs)\n",
    "            state_list.append(states)\n",
    "        halts = list(zip(*state_list))[1]\n",
    "        halts = K.stack(halts, axis=1)\n",
    "        halts = K.dot(halts, self.kernel_halt_c)\n",
    "        halts = halts + K.expand_dims(\n",
    "            inputs @ self.kernel_halt_inputs)\n",
    "        halts = halts + self.bias_halt\n",
    "        halts = K.softmax(halts, axis=1)\n",
    "        state_halted = []\n",
    "        for s in zip(*state_list):\n",
    "            s = K.stack(s, axis=1)\n",
    "            s = K.sum(s*halts, axis=1)\n",
    "            state_halted.append(s)\n",
    "        return state_halted[0], state_halted"
   ]
  },
  {
   "cell_type": "code",
   "execution_count": 8,
   "metadata": {},
   "outputs": [
    {
     "name": "stdout",
     "output_type": "stream",
     "text": [
      "_________________________________________________________________\n",
      "Layer (type)                 Output Shape              Param #   \n",
      "=================================================================\n",
      "input_1 (InputLayer)         (None, None)              0         \n",
      "_________________________________________________________________\n",
      "embedding_1 (Embedding)      (None, None, 32)          991328    \n",
      "_________________________________________________________________\n",
      "rnn_1 (RNN)                  (None, 16)                3185      \n",
      "_________________________________________________________________\n",
      "dense_1 (Dense)              (None, 46)                782       \n",
      "=================================================================\n",
      "Total params: 995,295\n",
      "Trainable params: 995,295\n",
      "Non-trainable params: 0\n",
      "_________________________________________________________________\n"
     ]
    }
   ],
   "source": [
    "X = X_inputs = keras.layers.Input((None,), dtype='int32')\n",
    "X = keras.layers.Embedding(data_input_dim, 32, mask_zero=True)(X)\n",
    "X = keras.layers.RNN(AdaptiveComputationLSTMCell(16, substeps=4))(X)\n",
    "X = keras.layers.Dense(data_output_dim, activation='softmax')(X)\n",
    "M = keras.Model(X_inputs, X)\n",
    "M.compile('nadam', 'sparse_categorical_crossentropy', ['acc'])\n",
    "M.summary()"
   ]
  },
  {
   "cell_type": "code",
   "execution_count": 9,
   "metadata": {
    "scrolled": true
   },
   "outputs": [
    {
     "name": "stdout",
     "output_type": "stream",
     "text": [
      "Train on 8982 samples, validate on 2246 samples\n",
      "Epoch 1/25\n",
      "8982/8982 [==============================] - 25s 3ms/step - loss: 2.7941 - acc: 0.3468 - val_loss: 2.4045 - val_acc: 0.3620\n",
      "Epoch 2/25\n",
      "8982/8982 [==============================] - 22s 2ms/step - loss: 2.3397 - acc: 0.3517 - val_loss: 2.2877 - val_acc: 0.3620\n",
      "Epoch 3/25\n",
      "8982/8982 [==============================] - 22s 2ms/step - loss: 2.1278 - acc: 0.4395 - val_loss: 2.0398 - val_acc: 0.5089\n",
      "Epoch 4/25\n",
      "8982/8982 [==============================] - 23s 3ms/step - loss: 1.8517 - acc: 0.5140 - val_loss: 1.8142 - val_acc: 0.5561\n",
      "Epoch 5/25\n",
      "8982/8982 [==============================] - 22s 2ms/step - loss: 1.6662 - acc: 0.5825 - val_loss: 1.7416 - val_acc: 0.5583\n",
      "Epoch 6/25\n",
      "8982/8982 [==============================] - 22s 2ms/step - loss: 1.5429 - acc: 0.6173 - val_loss: 1.6476 - val_acc: 0.5913\n",
      "Epoch 7/25\n",
      "8982/8982 [==============================] - 22s 2ms/step - loss: 1.4315 - acc: 0.6472 - val_loss: 1.6006 - val_acc: 0.6126\n",
      "Epoch 8/25\n",
      "8982/8982 [==============================] - 22s 2ms/step - loss: 1.3273 - acc: 0.6688 - val_loss: 1.5670 - val_acc: 0.6153\n",
      "Epoch 9/25\n",
      "8982/8982 [==============================] - 22s 2ms/step - loss: 1.2361 - acc: 0.6836 - val_loss: 1.6035 - val_acc: 0.5948\n",
      "Epoch 10/25\n",
      "8982/8982 [==============================] - 22s 2ms/step - loss: 1.3237 - acc: 0.6670 - val_loss: 1.5522 - val_acc: 0.6202\n",
      "Epoch 11/25\n",
      "8982/8982 [==============================] - 22s 2ms/step - loss: 1.1730 - acc: 0.6939 - val_loss: 1.5887 - val_acc: 0.6140\n",
      "Epoch 12/25\n",
      "8982/8982 [==============================] - 22s 2ms/step - loss: 1.0989 - acc: 0.7007 - val_loss: 1.5400 - val_acc: 0.6247\n",
      "Epoch 13/25\n",
      "8982/8982 [==============================] - 23s 3ms/step - loss: 1.0408 - acc: 0.7149 - val_loss: 1.5473 - val_acc: 0.6269\n",
      "Epoch 14/25\n",
      "8982/8982 [==============================] - 26s 3ms/step - loss: 0.9952 - acc: 0.7261 - val_loss: 1.5701 - val_acc: 0.6238\n",
      "Epoch 15/25\n",
      "8982/8982 [==============================] - 25s 3ms/step - loss: 0.9481 - acc: 0.7523 - val_loss: 1.7059 - val_acc: 0.6220\n",
      "Epoch 16/25\n",
      "8982/8982 [==============================] - 25s 3ms/step - loss: 0.9073 - acc: 0.7652 - val_loss: 1.5757 - val_acc: 0.6309\n",
      "Epoch 17/25\n",
      "8982/8982 [==============================] - 24s 3ms/step - loss: 0.8714 - acc: 0.7756 - val_loss: 1.5774 - val_acc: 0.6380\n",
      "Epoch 18/25\n",
      "8982/8982 [==============================] - 25s 3ms/step - loss: 0.8290 - acc: 0.7909 - val_loss: 1.6241 - val_acc: 0.6291\n",
      "Epoch 19/25\n",
      "8982/8982 [==============================] - 23s 3ms/step - loss: 0.7917 - acc: 0.8017 - val_loss: 1.6080 - val_acc: 0.6327\n",
      "Epoch 20/25\n",
      "8982/8982 [==============================] - 24s 3ms/step - loss: 0.7612 - acc: 0.8091 - val_loss: 1.6184 - val_acc: 0.6340\n",
      "Epoch 21/25\n",
      "8982/8982 [==============================] - 26s 3ms/step - loss: 0.7368 - acc: 0.8167 - val_loss: 1.7141 - val_acc: 0.6104\n",
      "Epoch 22/25\n",
      "8982/8982 [==============================] - 25s 3ms/step - loss: 0.7092 - acc: 0.8224 - val_loss: 1.6056 - val_acc: 0.6443\n",
      "\n",
      "Epoch 00022: ReduceLROnPlateau reducing learning rate to 0.00020000000949949026.\n",
      "Epoch 23/25\n",
      "8982/8982 [==============================] - 23s 3ms/step - loss: 0.6639 - acc: 0.8346 - val_loss: 1.6084 - val_acc: 0.6407\n",
      "Epoch 24/25\n",
      "8982/8982 [==============================] - 24s 3ms/step - loss: 0.6531 - acc: 0.8381 - val_loss: 1.6105 - val_acc: 0.6407\n",
      "Epoch 25/25\n",
      "8982/8982 [==============================] - 23s 3ms/step - loss: 0.6460 - acc: 0.8403 - val_loss: 1.6134 - val_acc: 0.6398\n"
     ]
    },
    {
     "data": {
      "text/plain": [
       "<keras.callbacks.History at 0x7f2c0208d588>"
      ]
     },
     "execution_count": 9,
     "metadata": {},
     "output_type": "execute_result"
    }
   ],
   "source": [
    "M.fit(X_train, Y_train, validation_data=(X_test,Y_test), batch_size=128, epochs=25, callbacks=[\n",
    "    keras.callbacks.ReduceLROnPlateau(verbose=1)\n",
    "])"
   ]
  }
 ],
 "metadata": {
  "kernelspec": {
   "display_name": "ml",
   "language": "python",
   "name": "ml"
  },
  "language_info": {
   "codemirror_mode": {
    "name": "ipython",
    "version": 3
   },
   "file_extension": ".py",
   "mimetype": "text/x-python",
   "name": "python",
   "nbconvert_exporter": "python",
   "pygments_lexer": "ipython3",
   "version": "3.6.4"
  }
 },
 "nbformat": 4,
 "nbformat_minor": 2
}
