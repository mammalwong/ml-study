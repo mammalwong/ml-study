{
 "cells": [
  {
   "cell_type": "code",
   "execution_count": 1,
   "metadata": {
    "collapsed": true
   },
   "outputs": [],
   "source": [
    "import numpy as np\n",
    "import matplotlib.pyplot as plt\n",
    "from sympy import *\n",
    "init_printing()"
   ]
  },
  {
   "cell_type": "code",
   "execution_count": 2,
   "metadata": {
    "collapsed": true
   },
   "outputs": [],
   "source": [
    "p = symbols('p:3', real=True)\n",
    "v = symbols('v:3', real=True)\n",
    "a = symbols('a:3', real=True)\n",
    "t = symbols('t', real=True)\n",
    "o = symbols('o:6', real=True)"
   ]
  },
  {
   "cell_type": "code",
   "execution_count": 3,
   "metadata": {},
   "outputs": [
    {
     "data": {
      "text/latex": [
       "$$\\left[\\begin{matrix}\\frac{a_{0} t^{2}}{2} + p_{0} + t v_{0}\\\\\\frac{a_{1} t^{2}}{2} + p_{1} + t v_{1}\\\\\\frac{a_{2} t^{2}}{2} + p_{2} + t v_{2}\\\\\\tanh{\\left (a_{0} t + v_{0} \\right )}\\\\\\tanh{\\left (a_{1} t + v_{1} \\right )}\\\\\\tanh{\\left (a_{2} t + v_{2} \\right )}\\end{matrix}\\right]$$"
      ],
      "text/plain": [
       "⎡    2            ⎤\n",
       "⎢a₀⋅t             ⎥\n",
       "⎢───── + p₀ + t⋅v₀⎥\n",
       "⎢  2              ⎥\n",
       "⎢                 ⎥\n",
       "⎢    2            ⎥\n",
       "⎢a₁⋅t             ⎥\n",
       "⎢───── + p₁ + t⋅v₁⎥\n",
       "⎢  2              ⎥\n",
       "⎢                 ⎥\n",
       "⎢    2            ⎥\n",
       "⎢a₂⋅t             ⎥\n",
       "⎢───── + p₂ + t⋅v₂⎥\n",
       "⎢  2              ⎥\n",
       "⎢                 ⎥\n",
       "⎢ tanh(a₀⋅t + v₀) ⎥\n",
       "⎢                 ⎥\n",
       "⎢ tanh(a₁⋅t + v₁) ⎥\n",
       "⎢                 ⎥\n",
       "⎣ tanh(a₂⋅t + v₂) ⎦"
      ]
     },
     "execution_count": 3,
     "metadata": {},
     "output_type": "execute_result"
    }
   ],
   "source": [
    "model = Matrix([\n",
    "    p[0] + v[0]*t + (a[0]*t**2)/2,\n",
    "    p[1] + v[1]*t + (a[1]*t**2)/2,\n",
    "    p[2] + v[2]*t + (a[2]*t**2)/2,\n",
    "    tanh(v[0] + a[0]*t),\n",
    "    tanh(v[1] + a[1]*t),\n",
    "    tanh(v[2] + a[2]*t),\n",
    "])\n",
    "model"
   ]
  },
  {
   "cell_type": "code",
   "execution_count": 4,
   "metadata": {},
   "outputs": [
    {
     "data": {
      "text/latex": [
       "$$\\left[\\begin{matrix}1 & 0 & 0 & t & 0 & 0\\\\0 & 1 & 0 & 0 & t & 0\\\\0 & 0 & 1 & 0 & 0 & t\\\\0 & 0 & 0 & - \\tanh^{2}{\\left (a_{0} t + v_{0} \\right )} + 1 & 0 & 0\\\\0 & 0 & 0 & 0 & - \\tanh^{2}{\\left (a_{1} t + v_{1} \\right )} + 1 & 0\\\\0 & 0 & 0 & 0 & 0 & - \\tanh^{2}{\\left (a_{2} t + v_{2} \\right )} + 1\\end{matrix}\\right]$$"
      ],
      "text/plain": [
       "⎡1  0  0            t                       0                       0         \n",
       "⎢                                                                             \n",
       "⎢0  1  0            0                       t                       0         \n",
       "⎢                                                                             \n",
       "⎢0  0  1            0                       0                       t         \n",
       "⎢                                                                             \n",
       "⎢               2                                                             \n",
       "⎢0  0  0  - tanh (a₀⋅t + v₀) + 1            0                       0         \n",
       "⎢                                                                             \n",
       "⎢                                       2                                     \n",
       "⎢0  0  0            0             - tanh (a₁⋅t + v₁) + 1            0         \n",
       "⎢                                                                             \n",
       "⎢                                                               2             \n",
       "⎣0  0  0            0                       0             - tanh (a₂⋅t + v₂) +\n",
       "\n",
       "  ⎤\n",
       "  ⎥\n",
       "  ⎥\n",
       "  ⎥\n",
       "  ⎥\n",
       "  ⎥\n",
       "  ⎥\n",
       "  ⎥\n",
       "  ⎥\n",
       "  ⎥\n",
       "  ⎥\n",
       "  ⎥\n",
       "  ⎥\n",
       " 1⎦"
      ]
     },
     "execution_count": 4,
     "metadata": {},
     "output_type": "execute_result"
    }
   ],
   "source": [
    "J_model = model.jacobian((*p,*v))\n",
    "J_model"
   ]
  },
  {
   "cell_type": "code",
   "execution_count": 5,
   "metadata": {},
   "outputs": [
    {
     "data": {
      "text/latex": [
       "$$\\left[\\begin{matrix}o_{0}\\\\o_{1}\\\\o_{2}\\end{matrix}\\right]$$"
      ],
      "text/plain": [
       "⎡o₀⎤\n",
       "⎢  ⎥\n",
       "⎢o₁⎥\n",
       "⎢  ⎥\n",
       "⎣o₂⎦"
      ]
     },
     "execution_count": 5,
     "metadata": {},
     "output_type": "execute_result"
    }
   ],
   "source": [
    "observe = Matrix(o[:3])\n",
    "observe"
   ]
  },
  {
   "cell_type": "code",
   "execution_count": 6,
   "metadata": {},
   "outputs": [
    {
     "data": {
      "text/latex": [
       "$$\\left[\\begin{matrix}1 & 0 & 0 & 0 & 0 & 0\\\\0 & 1 & 0 & 0 & 0 & 0\\\\0 & 0 & 1 & 0 & 0 & 0\\end{matrix}\\right]$$"
      ],
      "text/plain": [
       "⎡1  0  0  0  0  0⎤\n",
       "⎢                ⎥\n",
       "⎢0  1  0  0  0  0⎥\n",
       "⎢                ⎥\n",
       "⎣0  0  1  0  0  0⎦"
      ]
     },
     "execution_count": 6,
     "metadata": {},
     "output_type": "execute_result"
    }
   ],
   "source": [
    "J_observe = observe.jacobian(o)\n",
    "J_observe"
   ]
  },
  {
   "cell_type": "code",
   "execution_count": 7,
   "metadata": {
    "collapsed": true
   },
   "outputs": [],
   "source": [
    "lambda_model = lambdify((*p,*v,*a,t), model)\n",
    "lambda_J_model = lambdify((*p,*v,*a,t), J_model)\n",
    "lambda_observe = lambdify(o, observe)\n",
    "lambda_J_observe = lambdify(o, J_observe)"
   ]
  },
  {
   "cell_type": "code",
   "execution_count": 8,
   "metadata": {
    "collapsed": true
   },
   "outputs": [],
   "source": [
    "def ekf(state, covar, control, measure, q=1e-3, r=1e-3):\n",
    "    predict_state = lambda_model(*state[:,0], *control[:,0])\n",
    "    F = lambda_J_model(*state[:,0], *control[:,0])\n",
    "    Q = np.random.randn(*[F.shape[0]]*2) * q\n",
    "    predict_covar = F @ covar @ F.T + Q\n",
    "    residual_state = measure - lambda_observe(*predict_state[:,0])\n",
    "    H = lambda_J_observe(*predict_state[:,0])\n",
    "    R = np.random.randn(*[H.shape[0]]*2) * r\n",
    "    PHt = predict_covar @ H.T\n",
    "    residual_covar = H @ PHt + R\n",
    "    try:\n",
    "        kalman_gain = PHt @ np.linalg.inv(residual_covar)\n",
    "    except:\n",
    "        return state, covar\n",
    "    updated_state = predict_state + kalman_gain @ residual_state\n",
    "    updated_covar = (np.identity(F.shape[0]) - (kalman_gain @ H)) @ predict_covar\n",
    "    return updated_state, updated_covar"
   ]
  },
  {
   "cell_type": "code",
   "execution_count": 9,
   "metadata": {},
   "outputs": [
    {
     "data": {
      "image/png": "[encoded data removed]",
      "text/plain": [
       "<matplotlib.figure.Figure at 0x7f5b0c500a90>"
      ]
     },
     "metadata": {},
     "output_type": "display_data"
    }
   ],
   "source": [
    "state_real = np.random.randn(6)[:,np.newaxis] * 10\n",
    "state_real[0,0] = abs(state_real[0,0])\n",
    "state_esti = np.array([0,0,0,0,0,0])[:,np.newaxis]\n",
    "covar_esti = np.identity(state_esti.shape[0]) * 1e3\n",
    "control = np.array([0,0,0,1e-2])[:,np.newaxis]\n",
    "states = []\n",
    "for i in range(100):\n",
    "    control[:3,0] += np.random.randn(3)\n",
    "    state_real = lambda_model(*state_real[:,0], *control[:,0])\n",
    "    measure = lambda_observe(*state_real[:,0])\n",
    "    measure += np.random.randn(*measure.shape) * 1e-3\n",
    "    state_esti, covar_esti = ekf(state_esti, covar_esti, control, measure)\n",
    "    states.append(np.concatenate([state_real, state_esti], axis=-1))\n",
    "states = np.array(states)\n",
    "plt.figure(figsize=(16,3))\n",
    "plt.subplot(131)\n",
    "plt.ylim(-1,1)\n",
    "plt.plot(states[:,3])\n",
    "plt.subplot(132)\n",
    "plt.ylim(-1,1)\n",
    "plt.plot(states[:,4])\n",
    "plt.subplot(133)\n",
    "plt.ylim(-1,1)\n",
    "plt.plot(states[:,5])\n",
    "plt.show()"
   ]
  }
 ],
 "metadata": {
  "kernelspec": {
   "display_name": "ml",
   "language": "python",
   "name": "ml"
  },
  "language_info": {
   "codemirror_mode": {
    "name": "ipython",
    "version": 3
   },
   "file_extension": ".py",
   "mimetype": "text/x-python",
   "name": "python",
   "nbconvert_exporter": "python",
   "pygments_lexer": "ipython3",
   "version": "3.6.4"
  }
 },
 "nbformat": 4,
 "nbformat_minor": 2
}
