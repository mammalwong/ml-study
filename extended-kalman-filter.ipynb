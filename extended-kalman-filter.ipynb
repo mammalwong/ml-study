{
 "cells": [
  {
   "cell_type": "code",
   "execution_count": 1,
   "metadata": {
    "collapsed": true
   },
   "outputs": [],
   "source": [
    "import numpy as np\n",
    "import matplotlib.pyplot as plt\n",
    "from sympy import *\n",
    "init_printing()"
   ]
  },
  {
   "cell_type": "code",
   "execution_count": 2,
   "metadata": {
    "collapsed": true
   },
   "outputs": [],
   "source": [
    "p = symbols('p:3', real=True)\n",
    "v = symbols('v:3', real=True)\n",
    "f = symbols('f:3', real=True)\n",
    "m = symbols('m', real=True)\n",
    "t = symbols('t', real=True)\n",
    "o = symbols('o:7', real=True)"
   ]
  },
  {
   "cell_type": "code",
   "execution_count": 3,
   "metadata": {},
   "outputs": [
    {
     "data": {
      "text/latex": [
       "$$\\left[\\begin{matrix}m\\\\\\frac{f_{0} t^{2}}{2 m} + p_{0} + t v_{0}\\\\\\frac{f_{1} t^{2}}{2 m} + p_{1} + t v_{1}\\\\\\frac{f_{2} t^{2}}{2 m} + p_{2} + t v_{2}\\\\\\frac{f_{0} t}{m} + v_{0}\\\\\\frac{f_{1} t}{m} + v_{1}\\\\\\frac{f_{2} t}{m} + v_{2}\\end{matrix}\\right]$$"
      ],
      "text/plain": [
       "⎡        m        ⎤\n",
       "⎢                 ⎥\n",
       "⎢    2            ⎥\n",
       "⎢f₀⋅t             ⎥\n",
       "⎢───── + p₀ + t⋅v₀⎥\n",
       "⎢ 2⋅m             ⎥\n",
       "⎢                 ⎥\n",
       "⎢    2            ⎥\n",
       "⎢f₁⋅t             ⎥\n",
       "⎢───── + p₁ + t⋅v₁⎥\n",
       "⎢ 2⋅m             ⎥\n",
       "⎢                 ⎥\n",
       "⎢    2            ⎥\n",
       "⎢f₂⋅t             ⎥\n",
       "⎢───── + p₂ + t⋅v₂⎥\n",
       "⎢ 2⋅m             ⎥\n",
       "⎢                 ⎥\n",
       "⎢    f₀⋅t         ⎥\n",
       "⎢    ──── + v₀    ⎥\n",
       "⎢     m           ⎥\n",
       "⎢                 ⎥\n",
       "⎢    f₁⋅t         ⎥\n",
       "⎢    ──── + v₁    ⎥\n",
       "⎢     m           ⎥\n",
       "⎢                 ⎥\n",
       "⎢    f₂⋅t         ⎥\n",
       "⎢    ──── + v₂    ⎥\n",
       "⎣     m           ⎦"
      ]
     },
     "execution_count": 3,
     "metadata": {},
     "output_type": "execute_result"
    }
   ],
   "source": [
    "a = [f_ / m for f_ in f]\n",
    "model = Matrix([\n",
    "    m,\n",
    "    p[0] + v[0]*t + (a[0]*t**2)/2,\n",
    "    p[1] + v[1]*t + (a[1]*t**2)/2,\n",
    "    p[2] + v[2]*t + (a[2]*t**2)/2,\n",
    "    v[0] + a[0]*t,\n",
    "    v[1] + a[1]*t,\n",
    "    v[2] + a[2]*t,\n",
    "])\n",
    "model"
   ]
  },
  {
   "cell_type": "code",
   "execution_count": 4,
   "metadata": {
    "scrolled": true
   },
   "outputs": [
    {
     "data": {
      "text/latex": [
       "$$\\left[\\begin{matrix}1 & 0 & 0 & 0 & 0 & 0 & 0\\\\- \\frac{f_{0} t^{2}}{2 m^{2}} & 1 & 0 & 0 & t & 0 & 0\\\\- \\frac{f_{1} t^{2}}{2 m^{2}} & 0 & 1 & 0 & 0 & t & 0\\\\- \\frac{f_{2} t^{2}}{2 m^{2}} & 0 & 0 & 1 & 0 & 0 & t\\\\- \\frac{f_{0} t}{m^{2}} & 0 & 0 & 0 & 1 & 0 & 0\\\\- \\frac{f_{1} t}{m^{2}} & 0 & 0 & 0 & 0 & 1 & 0\\\\- \\frac{f_{2} t}{m^{2}} & 0 & 0 & 0 & 0 & 0 & 1\\end{matrix}\\right]$$"
      ],
      "text/plain": [
       "⎡   1     0  0  0  0  0  0⎤\n",
       "⎢                         ⎥\n",
       "⎢     2                   ⎥\n",
       "⎢-f₀⋅t                    ⎥\n",
       "⎢───────  1  0  0  t  0  0⎥\n",
       "⎢     2                   ⎥\n",
       "⎢  2⋅m                    ⎥\n",
       "⎢                         ⎥\n",
       "⎢     2                   ⎥\n",
       "⎢-f₁⋅t                    ⎥\n",
       "⎢───────  0  1  0  0  t  0⎥\n",
       "⎢     2                   ⎥\n",
       "⎢  2⋅m                    ⎥\n",
       "⎢                         ⎥\n",
       "⎢     2                   ⎥\n",
       "⎢-f₂⋅t                    ⎥\n",
       "⎢───────  0  0  1  0  0  t⎥\n",
       "⎢     2                   ⎥\n",
       "⎢  2⋅m                    ⎥\n",
       "⎢                         ⎥\n",
       "⎢-f₀⋅t                    ⎥\n",
       "⎢──────   0  0  0  1  0  0⎥\n",
       "⎢   2                     ⎥\n",
       "⎢  m                      ⎥\n",
       "⎢                         ⎥\n",
       "⎢-f₁⋅t                    ⎥\n",
       "⎢──────   0  0  0  0  1  0⎥\n",
       "⎢   2                     ⎥\n",
       "⎢  m                      ⎥\n",
       "⎢                         ⎥\n",
       "⎢-f₂⋅t                    ⎥\n",
       "⎢──────   0  0  0  0  0  1⎥\n",
       "⎢   2                     ⎥\n",
       "⎣  m                      ⎦"
      ]
     },
     "execution_count": 4,
     "metadata": {},
     "output_type": "execute_result"
    }
   ],
   "source": [
    "J_model = model.jacobian((m,*p,*v))\n",
    "J_model"
   ]
  },
  {
   "cell_type": "code",
   "execution_count": 5,
   "metadata": {},
   "outputs": [
    {
     "data": {
      "text/latex": [
       "$$\\left[\\begin{matrix}48 o_{1} + 37 o_{2} + 60 o_{3}\\\\14 o_{1} + 82 o_{2} + 41 o_{3}\\\\99 o_{1} + 33 o_{2} + 77 o_{3}\\end{matrix}\\right]$$"
      ],
      "text/plain": [
       "⎡48⋅o₁ + 37⋅o₂ + 60⋅o₃⎤\n",
       "⎢                     ⎥\n",
       "⎢14⋅o₁ + 82⋅o₂ + 41⋅o₃⎥\n",
       "⎢                     ⎥\n",
       "⎣99⋅o₁ + 33⋅o₂ + 77⋅o₃⎦"
      ]
     },
     "execution_count": 5,
     "metadata": {},
     "output_type": "execute_result"
    }
   ],
   "source": [
    "observe = randMatrix(3) @ Matrix(o[1:4])\n",
    "observe"
   ]
  },
  {
   "cell_type": "code",
   "execution_count": 6,
   "metadata": {},
   "outputs": [
    {
     "data": {
      "text/latex": [
       "$$\\left[\\begin{matrix}0 & 48 & 37 & 60 & 0 & 0 & 0\\\\0 & 14 & 82 & 41 & 0 & 0 & 0\\\\0 & 99 & 33 & 77 & 0 & 0 & 0\\end{matrix}\\right]$$"
      ],
      "text/plain": [
       "⎡0  48  37  60  0  0  0⎤\n",
       "⎢                      ⎥\n",
       "⎢0  14  82  41  0  0  0⎥\n",
       "⎢                      ⎥\n",
       "⎣0  99  33  77  0  0  0⎦"
      ]
     },
     "execution_count": 6,
     "metadata": {},
     "output_type": "execute_result"
    }
   ],
   "source": [
    "J_observe = observe.jacobian(o)\n",
    "J_observe"
   ]
  },
  {
   "cell_type": "code",
   "execution_count": 7,
   "metadata": {
    "collapsed": true
   },
   "outputs": [],
   "source": [
    "lambda_model = lambdify((m,*p,*v,*f,t), model)\n",
    "lambda_J_model = lambdify((m,*p,*v,*f,t), J_model)\n",
    "lambda_observe = lambdify(o, observe)\n",
    "lambda_J_observe = lambdify(o, J_observe)"
   ]
  },
  {
   "cell_type": "code",
   "execution_count": 8,
   "metadata": {
    "collapsed": true
   },
   "outputs": [],
   "source": [
    "def ekf(state, covar, control, measure, q=1e-3, r=1e-3):\n",
    "    predict_state = lambda_model(*state[:,0], *control[:,0])\n",
    "    F = lambda_J_model(*state[:,0], *control[:,0])\n",
    "    Q = np.random.randn(*[F.shape[0]]*2) * q**0.5\n",
    "    Q = Q @ Q.T\n",
    "    predict_covar = F @ covar @ F.T + Q\n",
    "    residual_state = measure - lambda_observe(*predict_state[:,0])\n",
    "    H = lambda_J_observe(*predict_state[:,0])\n",
    "    R = np.random.randn(*[H.shape[0]]*2) * r**0.5\n",
    "    R = R @ R.T\n",
    "    PHt = predict_covar @ H.T\n",
    "    residual_covar = H @ PHt + R\n",
    "    try:\n",
    "        kalman_gain = PHt @ np.linalg.inv(residual_covar)\n",
    "    except:\n",
    "        return state, covar\n",
    "    updated_state = predict_state + kalman_gain @ residual_state\n",
    "    updated_covar = (np.identity(F.shape[0]) - (kalman_gain @ H)) @ predict_covar\n",
    "    return updated_state, updated_covar"
   ]
  },
  {
   "cell_type": "code",
   "execution_count": 9,
   "metadata": {},
   "outputs": [
    {
     "data": {
      "image/png": "[encoded data removed]",
      "text/plain": [
       "<matplotlib.figure.Figure at 0x7f4981a3abe0>"
      ]
     },
     "metadata": {},
     "output_type": "display_data"
    },
    {
     "data": {
      "image/png": "[encoded data removed]",
      "text/plain": [
       "<matplotlib.figure.Figure at 0x7f4973912898>"
      ]
     },
     "metadata": {},
     "output_type": "display_data"
    }
   ],
   "source": [
    "state_real = np.random.randn(7)[:,np.newaxis] * 10\n",
    "state_real[0,0] = abs(state_real[0,0])\n",
    "state_esti = np.array([1,0,0,0,0,0,0])[:,np.newaxis]\n",
    "covar_esti = np.identity(state_esti.shape[0]) * 1e3\n",
    "control = np.array([0,0,0,1e-2])[:,np.newaxis]\n",
    "states = []\n",
    "for i in range(1000):\n",
    "    control[:3,0] += np.random.randn(3)\n",
    "    state_real = lambda_model(*state_real[:,0], *control[:,0])\n",
    "    measure = lambda_observe(*state_real[:,0])\n",
    "    measure += np.random.randn(*measure.shape) * 1e-3\n",
    "    state_esti, covar_esti = ekf(state_esti, covar_esti, control, measure)\n",
    "    states.append(np.concatenate([state_real, state_esti], axis=-1))\n",
    "states = np.array(states)\n",
    "plt.figure(figsize=(16,2))\n",
    "plt.subplot(141)\n",
    "plt.title('mass')\n",
    "plt.plot(states[:,0])\n",
    "plt.subplot(142)\n",
    "plt.title('velocity-x')\n",
    "plt.plot(states[:,4])\n",
    "plt.subplot(143)\n",
    "plt.title('velocity-y')\n",
    "plt.plot(states[:,5])\n",
    "plt.subplot(144)\n",
    "plt.title('velocity-z')\n",
    "plt.plot(states[:,6])\n",
    "plt.show()\n",
    "plt.title('covariance')\n",
    "plt.imshow(covar_esti)\n",
    "plt.colorbar()\n",
    "plt.show()"
   ]
  }
 ],
 "metadata": {
  "kernelspec": {
   "display_name": "ml",
   "language": "python",
   "name": "ml"
  },
  "language_info": {
   "codemirror_mode": {
    "name": "ipython",
    "version": 3
   },
   "file_extension": ".py",
   "mimetype": "text/x-python",
   "name": "python",
   "nbconvert_exporter": "python",
   "pygments_lexer": "ipython3",
   "version": "3.6.4"
  }
 },
 "nbformat": 4,
 "nbformat_minor": 2
}
