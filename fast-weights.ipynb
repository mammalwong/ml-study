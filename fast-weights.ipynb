{
 "cells": [
  {
   "cell_type": "code",
   "execution_count": 1,
   "metadata": {},
   "outputs": [
    {
     "name": "stderr",
     "output_type": "stream",
     "text": [
      "Using TensorFlow backend.\n"
     ]
    }
   ],
   "source": [
    "import numpy as np\n",
    "import matplotlib.pyplot as plt\n",
    "import keras\n",
    "import keras.backend as K"
   ]
  },
  {
   "cell_type": "code",
   "execution_count": 2,
   "metadata": {
    "collapsed": true
   },
   "outputs": [],
   "source": [
    "(X_train,Y_train),(X_test,Y_test) = keras.datasets.reuters.load_data()"
   ]
  },
  {
   "cell_type": "code",
   "execution_count": 3,
   "metadata": {},
   "outputs": [
    {
     "data": {
      "image/png": "[encoded data removed]",
      "text/plain": [
       "<matplotlib.figure.Figure at 0x7fb766155d30>"
      ]
     },
     "metadata": {},
     "output_type": "display_data"
    }
   ],
   "source": [
    "data_input_len_quantile_x = np.linspace(0, 1, num=100)\n",
    "data_input_len_quantile_y = np.quantile(\n",
    "    [len(x) for x in X_train] + [len(x) for x in X_test], data_input_len_quantile_x)\n",
    "plt.plot(data_input_len_quantile_x, data_input_len_quantile_y)\n",
    "plt.show()"
   ]
  },
  {
   "cell_type": "code",
   "execution_count": 4,
   "metadata": {},
   "outputs": [
    {
     "data": {
      "text/plain": [
       "((8982, 64), (8982,), (2246, 64), (2246,))"
      ]
     },
     "execution_count": 4,
     "metadata": {},
     "output_type": "execute_result"
    }
   ],
   "source": [
    "X_train = keras.preprocessing.sequence.pad_sequences(X_train, maxlen=64, padding='post', truncating='post')\n",
    "X_test = keras.preprocessing.sequence.pad_sequences(X_test, maxlen=64, padding='post', truncating='post')\n",
    "Y_train = np.array(Y_train)\n",
    "Y_test = np.array(Y_test)\n",
    "X_train.shape, Y_train.shape, X_test.shape, Y_test.shape"
   ]
  },
  {
   "cell_type": "code",
   "execution_count": 5,
   "metadata": {},
   "outputs": [
    {
     "data": {
      "text/plain": [
       "30979"
      ]
     },
     "execution_count": 5,
     "metadata": {},
     "output_type": "execute_result"
    }
   ],
   "source": [
    "data_input_dim = max(np.max(X_train), np.max(X_test)) + 1\n",
    "data_input_dim"
   ]
  },
  {
   "cell_type": "code",
   "execution_count": 6,
   "metadata": {},
   "outputs": [
    {
     "data": {
      "text/plain": [
       "46"
      ]
     },
     "execution_count": 6,
     "metadata": {},
     "output_type": "execute_result"
    }
   ],
   "source": [
    "data_output_dim = max(np.max(Y_train), np.max(Y_test)) + 1\n",
    "data_output_dim"
   ]
  },
  {
   "cell_type": "code",
   "execution_count": 7,
   "metadata": {
    "collapsed": true
   },
   "outputs": [],
   "source": [
    "class FastWeightsCell(keras.layers.Layer):\n",
    "    \n",
    "    def __init__(self,\n",
    "                 units,\n",
    "                 fast_learning_rate=0.5,\n",
    "                 fast_decay_rate=0.95,\n",
    "                 fast_weights_steps=2,\n",
    "                 **kwargs):\n",
    "        self.units = units\n",
    "        self.fast_learning_rate = fast_learning_rate\n",
    "        self.fast_decay_rate = fast_decay_rate\n",
    "        self.fast_weights_steps = fast_weights_steps\n",
    "        self.state_size = units, units**2\n",
    "        super().__init__(**kwargs)\n",
    "    \n",
    "    def build(self, input_shape):\n",
    "        self.kernel = self.add_weight(\n",
    "            shape=(self.units+input_shape[-1], self.units),\n",
    "            initializer='glorot_normal', name='kernel')\n",
    "        super().build(input_shape)\n",
    "    \n",
    "    def call(self, inputs, states):\n",
    "        \n",
    "        def layer_norm(x):\n",
    "            norm = K.sqrt(K.sum(K.square(x),axis=-1))\n",
    "            norm = K.switch(\n",
    "                K.not_equal(norm,K.zeros_like(norm)),\n",
    "                norm, K.ones_like(norm))\n",
    "            return x / K.expand_dims(norm)\n",
    "        \n",
    "        hidden, fast_weights = states\n",
    "        fast_weights = K.reshape(\n",
    "            fast_weights, (-1,self.units,self.units))\n",
    "        \n",
    "        hidden = K.concatenate([inputs, hidden])\n",
    "        hidden = logits_0 = hidden @ self.kernel\n",
    "        hidden = layer_norm(hidden)\n",
    "        hidden = K.tanh(hidden)\n",
    "        for _ in range(self.fast_weights_steps):\n",
    "            hidden = K.expand_dims(hidden,axis=-2) @ fast_weights\n",
    "            hidden = K.reshape(hidden,(-1,self.units))\n",
    "            hidden = hidden + logits_0\n",
    "            hidden = layer_norm(hidden)\n",
    "            hidden = K.tanh(hidden)\n",
    "        \n",
    "        fast_weights = self.fast_decay_rate*fast_weights + \\\n",
    "            self.fast_learning_rate*(\n",
    "                K.expand_dims(hidden,axis=-1) @ \\\n",
    "                K.expand_dims(hidden,axis=-2))\n",
    "        fast_weights = K.reshape(fast_weights, (-1,self.units**2))\n",
    "        \n",
    "        return hidden, [hidden, fast_weights]\n",
    "    \n",
    "    def compute_output_shape(self, input_shape):\n",
    "        return (input_shape[0], self.units)"
   ]
  },
  {
   "cell_type": "code",
   "execution_count": 8,
   "metadata": {},
   "outputs": [
    {
     "name": "stdout",
     "output_type": "stream",
     "text": [
      "_________________________________________________________________\n",
      "Layer (type)                 Output Shape              Param #   \n",
      "=================================================================\n",
      "input_1 (InputLayer)         (None, None)              0         \n",
      "_________________________________________________________________\n",
      "embedding_1 (Embedding)      (None, None, 16)          495664    \n",
      "_________________________________________________________________\n",
      "rnn_1 (RNN)                  (None, 32)                1536      \n",
      "_________________________________________________________________\n",
      "dense_1 (Dense)              (None, 46)                1518      \n",
      "=================================================================\n",
      "Total params: 498,718\n",
      "Trainable params: 498,718\n",
      "Non-trainable params: 0\n",
      "_________________________________________________________________\n"
     ]
    }
   ],
   "source": [
    "X = X_inputs = keras.layers.Input((None,), dtype='int32')\n",
    "X = keras.layers.Embedding(data_input_dim, 16, mask_zero=True)(X)\n",
    "X = keras.layers.RNN(FastWeightsCell(32))(X)\n",
    "X = keras.layers.Dense(data_output_dim, activation='softmax')(X)\n",
    "M = keras.Model(X_inputs, X)\n",
    "M.compile('nadam', 'sparse_categorical_crossentropy', ['acc'])\n",
    "M.summary()"
   ]
  },
  {
   "cell_type": "code",
   "execution_count": 9,
   "metadata": {
    "scrolled": true
   },
   "outputs": [
    {
     "name": "stdout",
     "output_type": "stream",
     "text": [
      "Train on 8982 samples, validate on 2246 samples\n",
      "Epoch 1/50\n",
      "8982/8982 [==============================] - 22s 2ms/step - loss: 3.6940 - acc: 0.1673 - val_loss: 3.6919 - val_acc: 0.1950\n",
      "Epoch 2/50\n",
      "8982/8982 [==============================] - 20s 2ms/step - loss: 3.2863 - acc: 0.2901 - val_loss: 3.4854 - val_acc: 0.2280\n",
      "Epoch 3/50\n",
      "8982/8982 [==============================] - 20s 2ms/step - loss: 2.6535 - acc: 0.3440 - val_loss: 2.5243 - val_acc: 0.3589\n",
      "Epoch 4/50\n",
      "8982/8982 [==============================] - 20s 2ms/step - loss: 2.4812 - acc: 0.3432 - val_loss: 2.4892 - val_acc: 0.3544\n",
      "Epoch 5/50\n",
      "8982/8982 [==============================] - 20s 2ms/step - loss: 2.5888 - acc: 0.3304 - val_loss: 2.3899 - val_acc: 0.3771\n",
      "Epoch 6/50\n",
      "8982/8982 [==============================] - 20s 2ms/step - loss: 2.2923 - acc: 0.3641 - val_loss: 2.3027 - val_acc: 0.3802\n",
      "Epoch 7/50\n",
      "8982/8982 [==============================] - 20s 2ms/step - loss: 2.2535 - acc: 0.3684 - val_loss: 2.5381 - val_acc: 0.3575\n",
      "Epoch 8/50\n",
      "8982/8982 [==============================] - 20s 2ms/step - loss: 2.1084 - acc: 0.3948 - val_loss: 2.2583 - val_acc: 0.4020\n",
      "Epoch 9/50\n",
      "8982/8982 [==============================] - 20s 2ms/step - loss: 2.0122 - acc: 0.4165 - val_loss: 2.2624 - val_acc: 0.4020\n",
      "Epoch 10/50\n",
      "8982/8982 [==============================] - 20s 2ms/step - loss: 1.9010 - acc: 0.4503 - val_loss: 2.3243 - val_acc: 0.3914\n",
      "Epoch 11/50\n",
      "8982/8982 [==============================] - 20s 2ms/step - loss: 1.8674 - acc: 0.4690 - val_loss: 2.3106 - val_acc: 0.4069\n",
      "Epoch 12/50\n",
      "8982/8982 [==============================] - 20s 2ms/step - loss: 1.8244 - acc: 0.4910 - val_loss: 3.3423 - val_acc: 0.2850\n",
      "Epoch 13/50\n",
      "8982/8982 [==============================] - 20s 2ms/step - loss: 1.7551 - acc: 0.5173 - val_loss: 2.5674 - val_acc: 0.3646\n",
      "Epoch 14/50\n",
      "8982/8982 [==============================] - 20s 2ms/step - loss: 1.6220 - acc: 0.5602 - val_loss: 2.8677 - val_acc: 0.3682\n",
      "Epoch 15/50\n",
      "8982/8982 [==============================] - 20s 2ms/step - loss: 1.6039 - acc: 0.5590 - val_loss: 2.8321 - val_acc: 0.3224\n",
      "Epoch 16/50\n",
      "8982/8982 [==============================] - 20s 2ms/step - loss: 1.5139 - acc: 0.5890 - val_loss: 2.5052 - val_acc: 0.4159\n",
      "Epoch 17/50\n",
      "8982/8982 [==============================] - 20s 2ms/step - loss: 1.4955 - acc: 0.5844 - val_loss: 2.5140 - val_acc: 0.4069\n",
      "Epoch 18/50\n",
      "8982/8982 [==============================] - 20s 2ms/step - loss: 1.4020 - acc: 0.6160 - val_loss: 2.6189 - val_acc: 0.3994\n",
      "\n",
      "Epoch 00018: ReduceLROnPlateau reducing learning rate to 0.00020000000949949026.\n",
      "Epoch 19/50\n",
      "8982/8982 [==============================] - 20s 2ms/step - loss: 1.3133 - acc: 0.6550 - val_loss: 2.5568 - val_acc: 0.4243\n",
      "Epoch 20/50\n",
      "8982/8982 [==============================] - 20s 2ms/step - loss: 1.2974 - acc: 0.6611 - val_loss: 2.5738 - val_acc: 0.4252\n",
      "Epoch 21/50\n",
      "8982/8982 [==============================] - 20s 2ms/step - loss: 1.2865 - acc: 0.6652 - val_loss: 2.5827 - val_acc: 0.4256\n",
      "Epoch 22/50\n",
      "8982/8982 [==============================] - 20s 2ms/step - loss: 1.2772 - acc: 0.6689 - val_loss: 2.5806 - val_acc: 0.4301\n",
      "Epoch 23/50\n",
      "8982/8982 [==============================] - 20s 2ms/step - loss: 1.2686 - acc: 0.6679 - val_loss: 2.5943 - val_acc: 0.4301\n",
      "Epoch 24/50\n",
      "8982/8982 [==============================] - 20s 2ms/step - loss: 1.2602 - acc: 0.6748 - val_loss: 2.6071 - val_acc: 0.4274\n",
      "Epoch 25/50\n",
      "8982/8982 [==============================] - 20s 2ms/step - loss: 1.2523 - acc: 0.6794 - val_loss: 2.6106 - val_acc: 0.4292\n",
      "Epoch 26/50\n",
      "8982/8982 [==============================] - 20s 2ms/step - loss: 1.2451 - acc: 0.6808 - val_loss: 2.6231 - val_acc: 0.4310\n",
      "Epoch 27/50\n",
      "8982/8982 [==============================] - 20s 2ms/step - loss: 1.2383 - acc: 0.6838 - val_loss: 2.6481 - val_acc: 0.4230\n",
      "Epoch 28/50\n",
      "8982/8982 [==============================] - 20s 2ms/step - loss: 1.2321 - acc: 0.6868 - val_loss: 2.6487 - val_acc: 0.4265\n",
      "\n",
      "Epoch 00028: ReduceLROnPlateau reducing learning rate to 2.0000000949949027e-05.\n",
      "Epoch 29/50\n",
      "8982/8982 [==============================] - 20s 2ms/step - loss: 1.2249 - acc: 0.6913 - val_loss: 2.6473 - val_acc: 0.4274\n",
      "Epoch 30/50\n",
      "8982/8982 [==============================] - 20s 2ms/step - loss: 1.2241 - acc: 0.6906 - val_loss: 2.6482 - val_acc: 0.4288\n",
      "Epoch 31/50\n",
      "8982/8982 [==============================] - 20s 2ms/step - loss: 1.2234 - acc: 0.6904 - val_loss: 2.6490 - val_acc: 0.4288\n",
      "Epoch 32/50\n",
      "8982/8982 [==============================] - 20s 2ms/step - loss: 1.2228 - acc: 0.6899 - val_loss: 2.6525 - val_acc: 0.4292\n",
      "Epoch 33/50\n",
      "8982/8982 [==============================] - 20s 2ms/step - loss: 1.2221 - acc: 0.6908 - val_loss: 2.6531 - val_acc: 0.4279\n",
      "Epoch 34/50\n",
      "8982/8982 [==============================] - 20s 2ms/step - loss: 1.2215 - acc: 0.6907 - val_loss: 2.6540 - val_acc: 0.4279\n",
      "Epoch 35/50\n",
      "8982/8982 [==============================] - 20s 2ms/step - loss: 1.2208 - acc: 0.6905 - val_loss: 2.6566 - val_acc: 0.4279\n",
      "Epoch 36/50\n",
      "8982/8982 [==============================] - 20s 2ms/step - loss: 1.2201 - acc: 0.6924 - val_loss: 2.6578 - val_acc: 0.4288\n",
      "Epoch 37/50\n",
      "8982/8982 [==============================] - 20s 2ms/step - loss: 1.2195 - acc: 0.6919 - val_loss: 2.6589 - val_acc: 0.4283\n",
      "Epoch 38/50\n",
      "8982/8982 [==============================] - 20s 2ms/step - loss: 1.2188 - acc: 0.6925 - val_loss: 2.6602 - val_acc: 0.4279\n",
      "\n",
      "Epoch 00038: ReduceLROnPlateau reducing learning rate to 2.0000001313746906e-06.\n",
      "Epoch 39/50\n",
      "8982/8982 [==============================] - 20s 2ms/step - loss: 1.2180 - acc: 0.6926 - val_loss: 2.6604 - val_acc: 0.4279\n",
      "Epoch 40/50\n",
      "8982/8982 [==============================] - 20s 2ms/step - loss: 1.2179 - acc: 0.6929 - val_loss: 2.6605 - val_acc: 0.4279\n",
      "Epoch 41/50\n",
      "8982/8982 [==============================] - 20s 2ms/step - loss: 1.2178 - acc: 0.6927 - val_loss: 2.6607 - val_acc: 0.4279\n",
      "Epoch 42/50\n",
      "8982/8982 [==============================] - 20s 2ms/step - loss: 1.2178 - acc: 0.6931 - val_loss: 2.6608 - val_acc: 0.4279\n",
      "Epoch 43/50\n",
      "8982/8982 [==============================] - 20s 2ms/step - loss: 1.2177 - acc: 0.6925 - val_loss: 2.6610 - val_acc: 0.4283\n",
      "Epoch 44/50\n",
      "8982/8982 [==============================] - 20s 2ms/step - loss: 1.2176 - acc: 0.6926 - val_loss: 2.6613 - val_acc: 0.4283\n",
      "Epoch 45/50\n",
      "8982/8982 [==============================] - 20s 2ms/step - loss: 1.2175 - acc: 0.6932 - val_loss: 2.6615 - val_acc: 0.4283\n",
      "Epoch 46/50\n",
      "8982/8982 [==============================] - 20s 2ms/step - loss: 1.2175 - acc: 0.6933 - val_loss: 2.6616 - val_acc: 0.4283\n",
      "Epoch 47/50\n",
      "8982/8982 [==============================] - 20s 2ms/step - loss: 1.2174 - acc: 0.6934 - val_loss: 2.6618 - val_acc: 0.4283\n",
      "Epoch 48/50\n",
      "8982/8982 [==============================] - 20s 2ms/step - loss: 1.2173 - acc: 0.6928 - val_loss: 2.6620 - val_acc: 0.4283\n",
      "\n",
      "Epoch 00048: ReduceLROnPlateau reducing learning rate to 2.000000222324161e-07.\n",
      "Epoch 49/50\n",
      "8982/8982 [==============================] - 20s 2ms/step - loss: 1.2172 - acc: 0.6931 - val_loss: 2.6620 - val_acc: 0.4283\n",
      "Epoch 50/50\n",
      "8982/8982 [==============================] - 20s 2ms/step - loss: 1.2172 - acc: 0.6931 - val_loss: 2.6620 - val_acc: 0.4283\n"
     ]
    },
    {
     "data": {
      "text/plain": [
       "<keras.callbacks.History at 0x7fb7644646d8>"
      ]
     },
     "execution_count": 9,
     "metadata": {},
     "output_type": "execute_result"
    }
   ],
   "source": [
    "M.fit(X_train, Y_train, validation_data=(X_test,Y_test), batch_size=128, epochs=50, callbacks=[\n",
    "    keras.callbacks.ReduceLROnPlateau(verbose=1)\n",
    "])"
   ]
  }
 ],
 "metadata": {
  "kernelspec": {
   "display_name": "ml",
   "language": "python",
   "name": "ml"
  },
  "language_info": {
   "codemirror_mode": {
    "name": "ipython",
    "version": 3
   },
   "file_extension": ".py",
   "mimetype": "text/x-python",
   "name": "python",
   "nbconvert_exporter": "python",
   "pygments_lexer": "ipython3",
   "version": "3.6.4"
  }
 },
 "nbformat": 4,
 "nbformat_minor": 2
}
