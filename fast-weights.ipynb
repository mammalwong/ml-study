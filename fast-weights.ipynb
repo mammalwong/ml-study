{
 "cells": [
  {
   "cell_type": "code",
   "execution_count": 1,
   "metadata": {},
   "outputs": [
    {
     "name": "stderr",
     "output_type": "stream",
     "text": [
      "Using TensorFlow backend.\n"
     ]
    }
   ],
   "source": [
    "import numpy as np\n",
    "import matplotlib.pyplot as plt\n",
    "import keras\n",
    "import keras.backend as K"
   ]
  },
  {
   "cell_type": "code",
   "execution_count": 2,
   "metadata": {
    "collapsed": true
   },
   "outputs": [],
   "source": [
    "(X_train,Y_train),(X_test,Y_test) = keras.datasets.reuters.load_data()"
   ]
  },
  {
   "cell_type": "code",
   "execution_count": 3,
   "metadata": {},
   "outputs": [
    {
     "data": {
      "image/png": "[encoded data removed]",
      "text/plain": [
       "<matplotlib.figure.Figure at 0x7f499ecd4d30>"
      ]
     },
     "metadata": {},
     "output_type": "display_data"
    }
   ],
   "source": [
    "data_input_len_quantile_x = np.linspace(0, 1, num=100)\n",
    "data_input_len_quantile_y = np.quantile(\n",
    "    [len(x) for x in X_train] + [len(x) for x in X_test], data_input_len_quantile_x)\n",
    "plt.plot(data_input_len_quantile_x, data_input_len_quantile_y)\n",
    "plt.show()"
   ]
  },
  {
   "cell_type": "code",
   "execution_count": 4,
   "metadata": {},
   "outputs": [
    {
     "data": {
      "text/plain": [
       "((8982, 64), (8982,), (2246, 64), (2246,))"
      ]
     },
     "execution_count": 4,
     "metadata": {},
     "output_type": "execute_result"
    }
   ],
   "source": [
    "X_train = keras.preprocessing.sequence.pad_sequences(X_train, maxlen=64, padding='post', truncating='post')\n",
    "X_test = keras.preprocessing.sequence.pad_sequences(X_test, maxlen=64, padding='post', truncating='post')\n",
    "Y_train = np.array(Y_train)\n",
    "Y_test = np.array(Y_test)\n",
    "X_train.shape, Y_train.shape, X_test.shape, Y_test.shape"
   ]
  },
  {
   "cell_type": "code",
   "execution_count": 5,
   "metadata": {},
   "outputs": [
    {
     "data": {
      "text/plain": [
       "30979"
      ]
     },
     "execution_count": 5,
     "metadata": {},
     "output_type": "execute_result"
    }
   ],
   "source": [
    "data_input_dim = max(np.max(X_train), np.max(X_test)) + 1\n",
    "data_input_dim"
   ]
  },
  {
   "cell_type": "code",
   "execution_count": 6,
   "metadata": {},
   "outputs": [
    {
     "data": {
      "text/plain": [
       "46"
      ]
     },
     "execution_count": 6,
     "metadata": {},
     "output_type": "execute_result"
    }
   ],
   "source": [
    "data_output_dim = max(np.max(Y_train), np.max(Y_test)) + 1\n",
    "data_output_dim"
   ]
  },
  {
   "cell_type": "code",
   "execution_count": 7,
   "metadata": {
    "collapsed": true
   },
   "outputs": [],
   "source": [
    "class FastWeightsCell(keras.layers.Layer):\n",
    "    \n",
    "    def __init__(self,\n",
    "                 units,\n",
    "                 fast_learning_rate=0.5,\n",
    "                 fast_decay_rate=0.95,\n",
    "                 fast_weights_steps=2,\n",
    "                 **kwargs):\n",
    "        self.units = units\n",
    "        self.fast_learning_rate = fast_learning_rate\n",
    "        self.fast_decay_rate = fast_decay_rate\n",
    "        self.fast_weights_steps = fast_weights_steps\n",
    "        self.state_size = units, units, units**2\n",
    "        super().__init__(**kwargs)\n",
    "    \n",
    "    def build(self, input_shape):\n",
    "        self.kernel_hidden = self.add_weight(\n",
    "            shape=(self.units+input_shape[-1], self.units),\n",
    "            initializer='glorot_normal', name='kernel_hidden')\n",
    "        self.kernel_output = self.add_weight(\n",
    "            shape=(self.units, self.units),\n",
    "            initializer='glorot_normal', name='kernel_output')\n",
    "        self.bias_output = self.add_weight(\n",
    "            shape=(self.units,),\n",
    "            initializer='zeros', name='bias_output')\n",
    "        super().build(input_shape)\n",
    "    \n",
    "    def call(self, inputs, states):\n",
    "        \n",
    "        def layer_norm(x):\n",
    "            norm = K.sqrt(K.sum(K.square(x),axis=-1))\n",
    "            norm = K.switch(\n",
    "                K.not_equal(norm,K.zeros_like(norm)),\n",
    "                norm, K.ones_like(norm))\n",
    "            return x / K.expand_dims(norm)\n",
    "        \n",
    "        _, hidden, fast_weights = states\n",
    "        fast_weights = K.reshape(\n",
    "            fast_weights, (-1,self.units,self.units))\n",
    "        \n",
    "        hidden = K.concatenate([inputs, hidden])\n",
    "        hidden = logits_0 = hidden @ self.kernel_hidden\n",
    "        hidden = layer_norm(hidden)\n",
    "        hidden = K.tanh(hidden)\n",
    "        for _ in range(self.fast_weights_steps):\n",
    "            hidden = K.expand_dims(hidden,axis=-2) @ fast_weights\n",
    "            hidden = K.reshape(hidden,(-1,self.units))\n",
    "            hidden = hidden + logits_0\n",
    "            hidden = layer_norm(hidden)\n",
    "            hidden = K.tanh(hidden)\n",
    "        \n",
    "        fast_weights = self.fast_decay_rate*fast_weights + \\\n",
    "            self.fast_learning_rate*(\n",
    "                K.expand_dims(hidden,axis=-1) @ \\\n",
    "                K.expand_dims(hidden,axis=-2))\n",
    "        fast_weights = K.reshape(fast_weights, (-1,self.units**2))\n",
    "        \n",
    "        output = hidden @ self.kernel_output + self.bias_output\n",
    "        ourput = K.tanh(hidden)\n",
    "        \n",
    "        return output, [output, hidden, fast_weights]\n",
    "    \n",
    "    def compute_output_shape(self, input_shape):\n",
    "        return (input_shape[0], self.units)"
   ]
  },
  {
   "cell_type": "code",
   "execution_count": 8,
   "metadata": {},
   "outputs": [
    {
     "name": "stdout",
     "output_type": "stream",
     "text": [
      "_________________________________________________________________\n",
      "Layer (type)                 Output Shape              Param #   \n",
      "=================================================================\n",
      "input_1 (InputLayer)         (None, None)              0         \n",
      "_________________________________________________________________\n",
      "embedding_1 (Embedding)      (None, None, 16)          495664    \n",
      "_________________________________________________________________\n",
      "rnn_1 (RNN)                  (None, 32)                2592      \n",
      "_________________________________________________________________\n",
      "dense_1 (Dense)              (None, 46)                1518      \n",
      "=================================================================\n",
      "Total params: 499,774\n",
      "Trainable params: 499,774\n",
      "Non-trainable params: 0\n",
      "_________________________________________________________________\n"
     ]
    }
   ],
   "source": [
    "X = X_inputs = keras.layers.Input((None,), dtype='int32')\n",
    "X = keras.layers.Embedding(data_input_dim, 16, mask_zero=True)(X)\n",
    "X = keras.layers.RNN(FastWeightsCell(32))(X)\n",
    "X = keras.layers.Dense(data_output_dim, activation='softmax')(X)\n",
    "M = keras.Model(X_inputs, X)\n",
    "M.compile('nadam', 'sparse_categorical_crossentropy', ['acc'])\n",
    "M.summary()"
   ]
  },
  {
   "cell_type": "code",
   "execution_count": 9,
   "metadata": {
    "scrolled": true
   },
   "outputs": [
    {
     "name": "stdout",
     "output_type": "stream",
     "text": [
      "Train on 8982 samples, validate on 2246 samples\n",
      "Epoch 1/50\n",
      "8982/8982 [==============================] - 23s 3ms/step - loss: 3.4471 - acc: 0.2214 - val_loss: 2.7101 - val_acc: 0.3620\n",
      "Epoch 2/50\n",
      "8982/8982 [==============================] - 21s 2ms/step - loss: 2.4100 - acc: 0.3519 - val_loss: 2.3062 - val_acc: 0.3620\n",
      "Epoch 3/50\n",
      "8982/8982 [==============================] - 21s 2ms/step - loss: 2.2661 - acc: 0.3651 - val_loss: 2.3231 - val_acc: 0.3878\n",
      "Epoch 4/50\n",
      "8982/8982 [==============================] - 21s 2ms/step - loss: 2.1792 - acc: 0.3998 - val_loss: 2.2285 - val_acc: 0.3878\n",
      "Epoch 5/50\n",
      "8982/8982 [==============================] - 21s 2ms/step - loss: 2.0806 - acc: 0.4267 - val_loss: 2.2464 - val_acc: 0.4114\n",
      "Epoch 6/50\n",
      "8982/8982 [==============================] - 21s 2ms/step - loss: 1.9918 - acc: 0.4627 - val_loss: 2.5347 - val_acc: 0.3028\n",
      "Epoch 7/50\n",
      "8982/8982 [==============================] - 21s 2ms/step - loss: 1.8456 - acc: 0.5137 - val_loss: 2.3069 - val_acc: 0.4074\n",
      "Epoch 8/50\n",
      "8982/8982 [==============================] - 21s 2ms/step - loss: 1.7292 - acc: 0.5448 - val_loss: 2.4027 - val_acc: 0.4167\n",
      "Epoch 9/50\n",
      "8982/8982 [==============================] - 21s 2ms/step - loss: 1.6443 - acc: 0.5716 - val_loss: 2.3483 - val_acc: 0.4346\n",
      "Epoch 10/50\n",
      "8982/8982 [==============================] - 21s 2ms/step - loss: 1.5242 - acc: 0.6049 - val_loss: 2.4281 - val_acc: 0.4452\n",
      "Epoch 11/50\n",
      "8982/8982 [==============================] - 21s 2ms/step - loss: 1.5433 - acc: 0.6092 - val_loss: 2.4444 - val_acc: 0.4310\n",
      "Epoch 12/50\n",
      "8982/8982 [==============================] - 21s 2ms/step - loss: 1.8919 - acc: 0.5310 - val_loss: 2.4129 - val_acc: 0.3829\n",
      "Epoch 13/50\n",
      "8982/8982 [==============================] - 21s 2ms/step - loss: 1.7839 - acc: 0.5445 - val_loss: 2.4457 - val_acc: 0.4172\n",
      "Epoch 14/50\n",
      "8982/8982 [==============================] - 21s 2ms/step - loss: 1.4492 - acc: 0.6287 - val_loss: 3.1491 - val_acc: 0.3210\n",
      "\n",
      "Epoch 00014: ReduceLROnPlateau reducing learning rate to 0.00020000000949949026.\n",
      "Epoch 15/50\n",
      "8982/8982 [==============================] - 21s 2ms/step - loss: 1.3468 - acc: 0.6588 - val_loss: 2.6046 - val_acc: 0.4368\n",
      "Epoch 16/50\n",
      "8982/8982 [==============================] - 21s 2ms/step - loss: 1.2548 - acc: 0.6794 - val_loss: 2.6375 - val_acc: 0.4354\n",
      "Epoch 17/50\n",
      "8982/8982 [==============================] - 21s 2ms/step - loss: 1.2351 - acc: 0.6835 - val_loss: 2.6743 - val_acc: 0.4359\n",
      "Epoch 18/50\n",
      "8982/8982 [==============================] - 21s 2ms/step - loss: 1.2142 - acc: 0.6876 - val_loss: 2.7139 - val_acc: 0.4381\n",
      "Epoch 19/50\n",
      "8982/8982 [==============================] - 21s 2ms/step - loss: 1.1982 - acc: 0.6925 - val_loss: 2.7479 - val_acc: 0.4372\n",
      "Epoch 20/50\n",
      "8982/8982 [==============================] - 21s 2ms/step - loss: 1.1816 - acc: 0.6953 - val_loss: 2.8017 - val_acc: 0.4372\n",
      "Epoch 21/50\n",
      "8982/8982 [==============================] - 21s 2ms/step - loss: 1.1665 - acc: 0.6991 - val_loss: 2.8371 - val_acc: 0.4381\n",
      "Epoch 22/50\n",
      "8982/8982 [==============================] - 21s 2ms/step - loss: 1.1528 - acc: 0.7008 - val_loss: 2.8655 - val_acc: 0.4386\n",
      "Epoch 23/50\n",
      "8982/8982 [==============================] - 21s 2ms/step - loss: 1.1392 - acc: 0.7037 - val_loss: 2.8954 - val_acc: 0.4354\n",
      "Epoch 24/50\n",
      "8982/8982 [==============================] - 21s 2ms/step - loss: 1.1262 - acc: 0.7060 - val_loss: 2.9414 - val_acc: 0.4350\n",
      "\n",
      "Epoch 00024: ReduceLROnPlateau reducing learning rate to 2.0000000949949027e-05.\n",
      "Epoch 25/50\n",
      "8982/8982 [==============================] - 21s 2ms/step - loss: 1.1120 - acc: 0.7102 - val_loss: 2.9403 - val_acc: 0.4359\n",
      "Epoch 26/50\n",
      "8982/8982 [==============================] - 21s 2ms/step - loss: 1.1105 - acc: 0.7102 - val_loss: 2.9459 - val_acc: 0.4359\n",
      "Epoch 27/50\n",
      "8982/8982 [==============================] - 21s 2ms/step - loss: 1.1091 - acc: 0.7104 - val_loss: 2.9487 - val_acc: 0.4368\n",
      "Epoch 28/50\n",
      "8982/8982 [==============================] - 21s 2ms/step - loss: 1.1077 - acc: 0.7110 - val_loss: 2.9535 - val_acc: 0.4372\n",
      "Epoch 29/50\n",
      "8982/8982 [==============================] - 21s 2ms/step - loss: 1.1063 - acc: 0.7113 - val_loss: 2.9585 - val_acc: 0.4372\n",
      "Epoch 30/50\n",
      "8982/8982 [==============================] - 21s 2ms/step - loss: 1.1049 - acc: 0.7120 - val_loss: 2.9610 - val_acc: 0.4363\n",
      "Epoch 31/50\n",
      "8982/8982 [==============================] - 21s 2ms/step - loss: 1.1035 - acc: 0.7119 - val_loss: 2.9657 - val_acc: 0.4372\n",
      "Epoch 32/50\n",
      "8982/8982 [==============================] - 21s 2ms/step - loss: 1.1020 - acc: 0.7130 - val_loss: 2.9728 - val_acc: 0.4363\n",
      "Epoch 33/50\n",
      "8982/8982 [==============================] - 21s 2ms/step - loss: 1.1006 - acc: 0.7133 - val_loss: 2.9783 - val_acc: 0.4350\n",
      "Epoch 34/50\n",
      "8982/8982 [==============================] - 21s 2ms/step - loss: 1.0992 - acc: 0.7141 - val_loss: 2.9773 - val_acc: 0.4363\n",
      "\n",
      "Epoch 00034: ReduceLROnPlateau reducing learning rate to 2.0000001313746906e-06.\n",
      "Epoch 35/50\n",
      "8982/8982 [==============================] - 21s 2ms/step - loss: 1.0980 - acc: 0.7141 - val_loss: 2.9785 - val_acc: 0.4359\n",
      "Epoch 36/50\n",
      "8982/8982 [==============================] - 21s 2ms/step - loss: 1.0976 - acc: 0.7142 - val_loss: 2.9796 - val_acc: 0.4359\n",
      "Epoch 37/50\n",
      "8982/8982 [==============================] - 21s 2ms/step - loss: 1.0974 - acc: 0.7145 - val_loss: 2.9807 - val_acc: 0.4359\n",
      "Epoch 38/50\n",
      "8982/8982 [==============================] - 21s 2ms/step - loss: 1.0972 - acc: 0.7147 - val_loss: 2.9814 - val_acc: 0.4359\n",
      "Epoch 39/50\n",
      "8982/8982 [==============================] - 21s 2ms/step - loss: 1.0970 - acc: 0.7147 - val_loss: 2.9821 - val_acc: 0.4354\n",
      "Epoch 40/50\n",
      "8982/8982 [==============================] - 21s 2ms/step - loss: 1.0969 - acc: 0.7147 - val_loss: 2.9828 - val_acc: 0.4354\n",
      "Epoch 41/50\n",
      "8982/8982 [==============================] - 21s 2ms/step - loss: 1.0967 - acc: 0.7149 - val_loss: 2.9835 - val_acc: 0.4359\n",
      "Epoch 42/50\n",
      "8982/8982 [==============================] - 21s 2ms/step - loss: 1.0966 - acc: 0.7149 - val_loss: 2.9841 - val_acc: 0.4363\n",
      "Epoch 43/50\n",
      "8982/8982 [==============================] - 21s 2ms/step - loss: 1.0964 - acc: 0.7149 - val_loss: 2.9847 - val_acc: 0.4363\n",
      "Epoch 44/50\n",
      "8982/8982 [==============================] - 21s 2ms/step - loss: 1.0962 - acc: 0.7151 - val_loss: 2.9853 - val_acc: 0.4363\n",
      "\n",
      "Epoch 00044: ReduceLROnPlateau reducing learning rate to 2.000000222324161e-07.\n",
      "Epoch 45/50\n",
      "8982/8982 [==============================] - 21s 2ms/step - loss: 1.0961 - acc: 0.7150 - val_loss: 2.9854 - val_acc: 0.4363\n",
      "Epoch 46/50\n",
      "8982/8982 [==============================] - 21s 2ms/step - loss: 1.0960 - acc: 0.7151 - val_loss: 2.9854 - val_acc: 0.4363\n",
      "Epoch 47/50\n",
      "8982/8982 [==============================] - 21s 2ms/step - loss: 1.0960 - acc: 0.7151 - val_loss: 2.9855 - val_acc: 0.4363\n",
      "Epoch 48/50\n",
      "8982/8982 [==============================] - 21s 2ms/step - loss: 1.0960 - acc: 0.7151 - val_loss: 2.9855 - val_acc: 0.4363\n",
      "Epoch 49/50\n",
      "8982/8982 [==============================] - 21s 2ms/step - loss: 1.0960 - acc: 0.7151 - val_loss: 2.9856 - val_acc: 0.4363\n",
      "Epoch 50/50\n",
      "8982/8982 [==============================] - 21s 2ms/step - loss: 1.0960 - acc: 0.7151 - val_loss: 2.9856 - val_acc: 0.4363\n"
     ]
    },
    {
     "data": {
      "text/plain": [
       "<keras.callbacks.History at 0x7f499ce6f860>"
      ]
     },
     "execution_count": 9,
     "metadata": {},
     "output_type": "execute_result"
    }
   ],
   "source": [
    "M.fit(X_train, Y_train, validation_data=(X_test,Y_test), batch_size=128, epochs=50, callbacks=[\n",
    "    keras.callbacks.ReduceLROnPlateau(verbose=1)\n",
    "])"
   ]
  }
 ],
 "metadata": {
  "kernelspec": {
   "display_name": "ml",
   "language": "python",
   "name": "ml"
  },
  "language_info": {
   "codemirror_mode": {
    "name": "ipython",
    "version": 3
   },
   "file_extension": ".py",
   "mimetype": "text/x-python",
   "name": "python",
   "nbconvert_exporter": "python",
   "pygments_lexer": "ipython3",
   "version": "3.6.4"
  }
 },
 "nbformat": 4,
 "nbformat_minor": 2
}
