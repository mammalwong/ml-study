{
 "cells": [
  {
   "cell_type": "code",
   "execution_count": 1,
   "metadata": {},
   "outputs": [
    {
     "name": "stderr",
     "output_type": "stream",
     "text": [
      "Using TensorFlow backend.\n"
     ]
    }
   ],
   "source": [
    "import numpy as np\n",
    "import matplotlib.pyplot as plt\n",
    "import keras\n",
    "import keras.backend as K"
   ]
  },
  {
   "cell_type": "code",
   "execution_count": 2,
   "metadata": {
    "collapsed": true
   },
   "outputs": [],
   "source": [
    "(X_train,Y_train),(X_test,Y_test) = keras.datasets.cifar100.load_data()\n",
    "X_train,X_test = X_train/255,X_test/255"
   ]
  },
  {
   "cell_type": "code",
   "execution_count": 3,
   "metadata": {},
   "outputs": [
    {
     "data": {
      "text/plain": [
       "(100, 7, 127)"
      ]
     },
     "execution_count": 3,
     "metadata": {},
     "output_type": "execute_result"
    }
   ],
   "source": [
    "tree_outputs = max(np.max(Y_train), np.max(Y_test)) + 1\n",
    "tree_depth = int(np.ceil(np.log2(tree_outputs)))\n",
    "tree_nodes = 2**tree_depth - 1\n",
    "tree_outputs, tree_depth, tree_nodes"
   ]
  },
  {
   "cell_type": "code",
   "execution_count": 4,
   "metadata": {},
   "outputs": [],
   "source": [
    "def tree_path_and_label(x):\n",
    "    label,path = [],[0]\n",
    "    for i in range(tree_depth):\n",
    "        k = 2**(tree_depth-i-1)\n",
    "        if x >= k:\n",
    "            label.append(1)\n",
    "            path.append(2*path[-1]+2)\n",
    "            x = x - k\n",
    "        else:\n",
    "            label.append(0)\n",
    "            path.append(2*path[-1]+1)\n",
    "    path.pop()\n",
    "    return np.array(path), np.array(label)\n",
    "Y_train_path = np.array([tree_path_and_label(y) for y in Y_train])\n",
    "Y_train_path, Y_train_label = Y_train_path[:,0,:], Y_train_path[:,1,:]\n",
    "Y_test_path = np.array([tree_path_and_label(y) for y in Y_test])\n",
    "Y_test_path, Y_test_label = Y_test_path[:,0,:], Y_test_path[:,1,:]"
   ]
  },
  {
   "cell_type": "code",
   "execution_count": 5,
   "metadata": {},
   "outputs": [
    {
     "name": "stdout",
     "output_type": "stream",
     "text": [
      "__________________________________________________________________________________________________\n",
      "Layer (type)                    Output Shape         Param #     Connected to                     \n",
      "==================================================================================================\n",
      "input_3 (InputLayer)            (None, 32, 32, 3)    0                                            \n",
      "__________________________________________________________________________________________________\n",
      "model_1 (Model)                 (None, 256)          255807      input_3[0][0]                    \n",
      "__________________________________________________________________________________________________\n",
      "input_4 (InputLayer)            (None, 7)            0                                            \n",
      "__________________________________________________________________________________________________\n",
      "repeat_vector_1 (RepeatVector)  (None, 7, 256)       0           model_1[1][0]                    \n",
      "__________________________________________________________________________________________________\n",
      "model_2 (Model)                 (None, 7, 256)       32768       input_4[0][0]                    \n",
      "__________________________________________________________________________________________________\n",
      "lambda_1 (Lambda)               (None, 7)            0           repeat_vector_1[0][0]            \n",
      "                                                                 model_2[1][0]                    \n",
      "__________________________________________________________________________________________________\n",
      "activation_23 (Activation)      (None, 7)            0           lambda_1[0][0]                   \n",
      "__________________________________________________________________________________________________\n",
      "lambda_2 (Lambda)               (None, 1)            0           activation_23[0][0]              \n",
      "__________________________________________________________________________________________________\n",
      "lambda_3 (Lambda)               (None, 1)            0           activation_23[0][0]              \n",
      "__________________________________________________________________________________________________\n",
      "lambda_4 (Lambda)               (None, 1)            0           activation_23[0][0]              \n",
      "__________________________________________________________________________________________________\n",
      "lambda_5 (Lambda)               (None, 1)            0           activation_23[0][0]              \n",
      "__________________________________________________________________________________________________\n",
      "lambda_6 (Lambda)               (None, 1)            0           activation_23[0][0]              \n",
      "__________________________________________________________________________________________________\n",
      "lambda_7 (Lambda)               (None, 1)            0           activation_23[0][0]              \n",
      "__________________________________________________________________________________________________\n",
      "lambda_8 (Lambda)               (None, 1)            0           activation_23[0][0]              \n",
      "==================================================================================================\n",
      "Total params: 288,575\n",
      "Trainable params: 285,561\n",
      "Non-trainable params: 3,014\n",
      "__________________________________________________________________________________________________\n"
     ]
    }
   ],
   "source": [
    "X = X_input = keras.layers.Input(X_train.shape[1:])\n",
    "X = keras.layers.BatchNormalization()(X)\n",
    "for i in range(5):\n",
    "    for _ in range(4):\n",
    "        X = keras.layers.SeparableConv2D(2**(i+3), (3,3), padding='same')(X)\n",
    "        X = keras.layers.BatchNormalization()(X)\n",
    "        X = keras.layers.Activation('relu')(X)\n",
    "    X = keras.layers.MaxPooling2D()(X)\n",
    "X = keras.layers.Flatten()(X)\n",
    "X = keras.layers.Dense(256)(X)\n",
    "X = keras.layers.BatchNormalization()(X)\n",
    "X = keras.layers.Activation('relu')(X)\n",
    "X = keras.layers.Dense(256)(X)\n",
    "X = keras.layers.BatchNormalization()(X)\n",
    "X = keras.layers.Activation('relu')(X)\n",
    "X = keras.layers.Dense(256)(X)\n",
    "M = keras.Model(X_input, X)\n",
    "X_path = X_path_input = keras.layers.Input(Y_train_path.shape[1:])\n",
    "X_path = keras.layers.Embedding(tree_nodes+1, 256)(X_path)\n",
    "T = keras.Model(X_path_input, X_path)\n",
    "X = X_input = keras.layers.Input(X_train.shape[1:])\n",
    "X = M(X)\n",
    "X = keras.layers.RepeatVector(Y_train_path.shape[1])(X)\n",
    "X_path = X_path_input = keras.layers.Input(Y_train_path.shape[1:])\n",
    "X_path = T(X_path)\n",
    "X = keras.layers.Lambda(\n",
    "    lambda x: K.sum(x[0]*x[1], axis=-1),\n",
    "    output_shape=Y_train_label.shape[1:])([X,X_path])\n",
    "X = keras.layers.Activation('sigmoid')(X)\n",
    "X_outputs = []\n",
    "for i in range(Y_train_label.shape[-1]):\n",
    "    X_outputs.append(keras.layers.Lambda(\n",
    "        lambda x,a: x[:,a:a+1],\n",
    "        arguments={'a':i},\n",
    "        output_shape=(1,))(X))\n",
    "G = keras.Model([X_input,X_path_input], X_outputs)\n",
    "G.compile('nadam', 'binary_crossentropy', ['acc'])\n",
    "G.summary()"
   ]
  },
  {
   "cell_type": "code",
   "execution_count": 6,
   "metadata": {
    "scrolled": false
   },
   "outputs": [
    {
     "name": "stdout",
     "output_type": "stream",
     "text": [
      "Train on 50000 samples, validate on 10000 samples\n",
      "Epoch 1/20\n",
      "50000/50000 [==============================] - 64s 1ms/step - loss: 4.2066 - lambda_2_loss: 0.6496 - lambda_3_loss: 0.5646 - lambda_4_loss: 0.6298 - lambda_5_loss: 0.6539 - lambda_6_loss: 0.6077 - lambda_7_loss: 0.5776 - lambda_8_loss: 0.5234 - lambda_2_acc: 0.6412 - lambda_3_acc: 0.6675 - lambda_4_acc: 0.6189 - lambda_5_acc: 0.5820 - lambda_6_acc: 0.6347 - lambda_7_acc: 0.6807 - lambda_8_acc: 0.7216 - val_loss: 4.5630 - val_lambda_2_loss: 0.6760 - val_lambda_3_loss: 0.5772 - val_lambda_4_loss: 0.7106 - val_lambda_5_loss: 0.7116 - val_lambda_6_loss: 0.6735 - val_lambda_7_loss: 0.6279 - val_lambda_8_loss: 0.5862 - val_lambda_2_acc: 0.6204 - val_lambda_3_acc: 0.6782 - val_lambda_4_acc: 0.6180 - val_lambda_5_acc: 0.5910 - val_lambda_6_acc: 0.6639 - val_lambda_7_acc: 0.7085 - val_lambda_8_acc: 0.7416\n",
      "Epoch 2/20\n",
      "50000/50000 [==============================] - 56s 1ms/step - loss: 3.8543 - lambda_2_loss: 0.6404 - lambda_3_loss: 0.5445 - lambda_4_loss: 0.6039 - lambda_5_loss: 0.6216 - lambda_6_loss: 0.5423 - lambda_7_loss: 0.4864 - lambda_8_loss: 0.4151 - lambda_2_acc: 0.6482 - lambda_3_acc: 0.6915 - lambda_4_acc: 0.6503 - lambda_5_acc: 0.6283 - lambda_6_acc: 0.7042 - lambda_7_acc: 0.7574 - lambda_8_acc: 0.8004 - val_loss: 4.4516 - val_lambda_2_loss: 0.6705 - val_lambda_3_loss: 0.6487 - val_lambda_4_loss: 0.6597 - val_lambda_5_loss: 0.6799 - val_lambda_6_loss: 0.6496 - val_lambda_7_loss: 0.6302 - val_lambda_8_loss: 0.5130 - val_lambda_2_acc: 0.6461 - val_lambda_3_acc: 0.6604 - val_lambda_4_acc: 0.6399 - val_lambda_5_acc: 0.6135 - val_lambda_6_acc: 0.6700 - val_lambda_7_acc: 0.7124 - val_lambda_8_acc: 0.7733\n",
      "Epoch 3/20\n",
      "50000/50000 [==============================] - 56s 1ms/step - loss: 3.6542 - lambda_2_loss: 0.6352 - lambda_3_loss: 0.5297 - lambda_4_loss: 0.5865 - lambda_5_loss: 0.5988 - lambda_6_loss: 0.5036 - lambda_7_loss: 0.4379 - lambda_8_loss: 0.3624 - lambda_2_acc: 0.6517 - lambda_3_acc: 0.7041 - lambda_4_acc: 0.6694 - lambda_5_acc: 0.6508 - lambda_6_acc: 0.7331 - lambda_7_acc: 0.7892 - lambda_8_acc: 0.8307 - val_loss: 4.1929 - val_lambda_2_loss: 0.6380 - val_lambda_3_loss: 0.6138 - val_lambda_4_loss: 0.7201 - val_lambda_5_loss: 0.6716 - val_lambda_6_loss: 0.6163 - val_lambda_7_loss: 0.5147 - val_lambda_8_loss: 0.4183 - val_lambda_2_acc: 0.6549 - val_lambda_3_acc: 0.6889 - val_lambda_4_acc: 0.6419 - val_lambda_5_acc: 0.6251 - val_lambda_6_acc: 0.7106 - val_lambda_7_acc: 0.7703 - val_lambda_8_acc: 0.8142\n",
      "Epoch 4/20\n",
      "50000/50000 [==============================] - 56s 1ms/step - loss: 3.5227 - lambda_2_loss: 0.6306 - lambda_3_loss: 0.5187 - lambda_4_loss: 0.5725 - lambda_5_loss: 0.5812 - lambda_6_loss: 0.4785 - lambda_7_loss: 0.4098 - lambda_8_loss: 0.3314 - lambda_2_acc: 0.6550 - lambda_3_acc: 0.7125 - lambda_4_acc: 0.6811 - lambda_5_acc: 0.6701 - lambda_6_acc: 0.7546 - lambda_7_acc: 0.8079 - lambda_8_acc: 0.8497 - val_loss: 4.3762 - val_lambda_2_loss: 0.6546 - val_lambda_3_loss: 0.6107 - val_lambda_4_loss: 0.6712 - val_lambda_5_loss: 0.6888 - val_lambda_6_loss: 0.6371 - val_lambda_7_loss: 0.6087 - val_lambda_8_loss: 0.5051 - val_lambda_2_acc: 0.6532 - val_lambda_3_acc: 0.6772 - val_lambda_4_acc: 0.6402 - val_lambda_5_acc: 0.6371 - val_lambda_6_acc: 0.6911 - val_lambda_7_acc: 0.7409 - val_lambda_8_acc: 0.7941\n",
      "Epoch 5/20\n",
      "50000/50000 [==============================] - 56s 1ms/step - loss: 3.4226 - lambda_2_loss: 0.6262 - lambda_3_loss: 0.5101 - lambda_4_loss: 0.5629 - lambda_5_loss: 0.5652 - lambda_6_loss: 0.4584 - lambda_7_loss: 0.3894 - lambda_8_loss: 0.3103 - lambda_2_acc: 0.6584 - lambda_3_acc: 0.7193 - lambda_4_acc: 0.6906 - lambda_5_acc: 0.6878 - lambda_6_acc: 0.7691 - lambda_7_acc: 0.8183 - lambda_8_acc: 0.8609 - val_loss: 5.5482 - val_lambda_2_loss: 0.7123 - val_lambda_3_loss: 0.6967 - val_lambda_4_loss: 0.8418 - val_lambda_5_loss: 0.8601 - val_lambda_6_loss: 0.9683 - val_lambda_7_loss: 0.8468 - val_lambda_8_loss: 0.6223 - val_lambda_2_acc: 0.6468 - val_lambda_3_acc: 0.6886 - val_lambda_4_acc: 0.6156 - val_lambda_5_acc: 0.6094 - val_lambda_6_acc: 0.6508 - val_lambda_7_acc: 0.7183 - val_lambda_8_acc: 0.7733\n",
      "Epoch 6/20\n",
      "50000/50000 [==============================] - 56s 1ms/step - loss: 3.3336 - lambda_2_loss: 0.6202 - lambda_3_loss: 0.5016 - lambda_4_loss: 0.5526 - lambda_5_loss: 0.5522 - lambda_6_loss: 0.4415 - lambda_7_loss: 0.3711 - lambda_8_loss: 0.2944 - lambda_2_acc: 0.6640 - lambda_3_acc: 0.7270 - lambda_4_acc: 0.6995 - lambda_5_acc: 0.6997 - lambda_6_acc: 0.7798 - lambda_7_acc: 0.8276 - lambda_8_acc: 0.8683 - val_loss: 3.9256 - val_lambda_2_loss: 0.6472 - val_lambda_3_loss: 0.5607 - val_lambda_4_loss: 0.6074 - val_lambda_5_loss: 0.6134 - val_lambda_6_loss: 0.5561 - val_lambda_7_loss: 0.5230 - val_lambda_8_loss: 0.4178 - val_lambda_2_acc: 0.6519 - val_lambda_3_acc: 0.7102 - val_lambda_4_acc: 0.6730 - val_lambda_5_acc: 0.6637 - val_lambda_6_acc: 0.7471 - val_lambda_7_acc: 0.7787 - val_lambda_8_acc: 0.8252\n",
      "Epoch 7/20\n",
      "50000/50000 [==============================] - 56s 1ms/step - loss: 3.2524 - lambda_2_loss: 0.6148 - lambda_3_loss: 0.4933 - lambda_4_loss: 0.5429 - lambda_5_loss: 0.5398 - lambda_6_loss: 0.4257 - lambda_7_loss: 0.3551 - lambda_8_loss: 0.2807 - lambda_2_acc: 0.6673 - lambda_3_acc: 0.7353 - lambda_4_acc: 0.7079 - lambda_5_acc: 0.7080 - lambda_6_acc: 0.7893 - lambda_7_acc: 0.8352 - lambda_8_acc: 0.8759 - val_loss: 3.9325 - val_lambda_2_loss: 0.6466 - val_lambda_3_loss: 0.5403 - val_lambda_4_loss: 0.6238 - val_lambda_5_loss: 0.6487 - val_lambda_6_loss: 0.5525 - val_lambda_7_loss: 0.5234 - val_lambda_8_loss: 0.3972 - val_lambda_2_acc: 0.6610 - val_lambda_3_acc: 0.7154 - val_lambda_4_acc: 0.6611 - val_lambda_5_acc: 0.6673 - val_lambda_6_acc: 0.7376 - val_lambda_7_acc: 0.7763 - val_lambda_8_acc: 0.8266\n",
      "Epoch 8/20\n",
      "50000/50000 [==============================] - 56s 1ms/step - loss: 3.1807 - lambda_2_loss: 0.6082 - lambda_3_loss: 0.4857 - lambda_4_loss: 0.5351 - lambda_5_loss: 0.5264 - lambda_6_loss: 0.4147 - lambda_7_loss: 0.3436 - lambda_8_loss: 0.2671 - lambda_2_acc: 0.6731 - lambda_3_acc: 0.7395 - lambda_4_acc: 0.7145 - lambda_5_acc: 0.7209 - lambda_6_acc: 0.7979 - lambda_7_acc: 0.8423 - lambda_8_acc: 0.8830 - val_loss: 3.5108 - val_lambda_2_loss: 0.6221 - val_lambda_3_loss: 0.5147 - val_lambda_4_loss: 0.5789 - val_lambda_5_loss: 0.5728 - val_lambda_6_loss: 0.4645 - val_lambda_7_loss: 0.4033 - val_lambda_8_loss: 0.3545 - val_lambda_2_acc: 0.6661 - val_lambda_3_acc: 0.7274 - val_lambda_4_acc: 0.6863 - val_lambda_5_acc: 0.6899 - val_lambda_6_acc: 0.7741 - val_lambda_7_acc: 0.8196 - val_lambda_8_acc: 0.8507\n",
      "Epoch 9/20\n",
      "50000/50000 [==============================] - 56s 1ms/step - loss: 3.1184 - lambda_2_loss: 0.6037 - lambda_3_loss: 0.4813 - lambda_4_loss: 0.5268 - lambda_5_loss: 0.5166 - lambda_6_loss: 0.4031 - lambda_7_loss: 0.3281 - lambda_8_loss: 0.2588 - lambda_2_acc: 0.6774 - lambda_3_acc: 0.7420 - lambda_4_acc: 0.7201 - lambda_5_acc: 0.7294 - lambda_6_acc: 0.8027 - lambda_7_acc: 0.8504 - lambda_8_acc: 0.8869 - val_loss: 3.6035 - val_lambda_2_loss: 0.6334 - val_lambda_3_loss: 0.5323 - val_lambda_4_loss: 0.5724 - val_lambda_5_loss: 0.5838 - val_lambda_6_loss: 0.4890 - val_lambda_7_loss: 0.4471 - val_lambda_8_loss: 0.3455 - val_lambda_2_acc: 0.6461 - val_lambda_3_acc: 0.7222 - val_lambda_4_acc: 0.6967 - val_lambda_5_acc: 0.6969 - val_lambda_6_acc: 0.7685 - val_lambda_7_acc: 0.8095 - val_lambda_8_acc: 0.8519\n",
      "Epoch 10/20\n",
      "50000/50000 [==============================] - 56s 1ms/step - loss: 3.0587 - lambda_2_loss: 0.5996 - lambda_3_loss: 0.4731 - lambda_4_loss: 0.5199 - lambda_5_loss: 0.5060 - lambda_6_loss: 0.3932 - lambda_7_loss: 0.3188 - lambda_8_loss: 0.2481 - lambda_2_acc: 0.6788 - lambda_3_acc: 0.7516 - lambda_4_acc: 0.7278 - lambda_5_acc: 0.7341 - lambda_6_acc: 0.8100 - lambda_7_acc: 0.8549 - lambda_8_acc: 0.8909 - val_loss: 3.3546 - val_lambda_2_loss: 0.6193 - val_lambda_3_loss: 0.5181 - val_lambda_4_loss: 0.5458 - val_lambda_5_loss: 0.5417 - val_lambda_6_loss: 0.4421 - val_lambda_7_loss: 0.3758 - val_lambda_8_loss: 0.3118 - val_lambda_2_acc: 0.6650 - val_lambda_3_acc: 0.7280 - val_lambda_4_acc: 0.7135 - val_lambda_5_acc: 0.7112 - val_lambda_6_acc: 0.7831 - val_lambda_7_acc: 0.8293 - val_lambda_8_acc: 0.8632\n"
     ]
    },
    {
     "name": "stdout",
     "output_type": "stream",
     "text": [
      "Epoch 11/20\n",
      "50000/50000 [==============================] - 56s 1ms/step - loss: 2.9984 - lambda_2_loss: 0.5944 - lambda_3_loss: 0.4675 - lambda_4_loss: 0.5114 - lambda_5_loss: 0.4982 - lambda_6_loss: 0.3806 - lambda_7_loss: 0.3066 - lambda_8_loss: 0.2397 - lambda_2_acc: 0.6830 - lambda_3_acc: 0.7564 - lambda_4_acc: 0.7336 - lambda_5_acc: 0.7420 - lambda_6_acc: 0.8187 - lambda_7_acc: 0.8623 - lambda_8_acc: 0.8946 - val_loss: 3.5727 - val_lambda_2_loss: 0.6343 - val_lambda_3_loss: 0.5172 - val_lambda_4_loss: 0.5825 - val_lambda_5_loss: 0.5789 - val_lambda_6_loss: 0.4992 - val_lambda_7_loss: 0.4218 - val_lambda_8_loss: 0.3388 - val_lambda_2_acc: 0.6599 - val_lambda_3_acc: 0.7368 - val_lambda_4_acc: 0.6933 - val_lambda_5_acc: 0.7014 - val_lambda_6_acc: 0.7647 - val_lambda_7_acc: 0.8130 - val_lambda_8_acc: 0.8577\n",
      "Epoch 12/20\n",
      "50000/50000 [==============================] - 56s 1ms/step - loss: 2.9489 - lambda_2_loss: 0.5889 - lambda_3_loss: 0.4633 - lambda_4_loss: 0.5045 - lambda_5_loss: 0.4906 - lambda_6_loss: 0.3706 - lambda_7_loss: 0.2974 - lambda_8_loss: 0.2335 - lambda_2_acc: 0.6868 - lambda_3_acc: 0.7561 - lambda_4_acc: 0.7387 - lambda_5_acc: 0.7474 - lambda_6_acc: 0.8245 - lambda_7_acc: 0.8679 - lambda_8_acc: 0.8996 - val_loss: 3.2808 - val_lambda_2_loss: 0.6038 - val_lambda_3_loss: 0.5060 - val_lambda_4_loss: 0.5432 - val_lambda_5_loss: 0.5381 - val_lambda_6_loss: 0.4307 - val_lambda_7_loss: 0.3656 - val_lambda_8_loss: 0.2934 - val_lambda_2_acc: 0.6742 - val_lambda_3_acc: 0.7335 - val_lambda_4_acc: 0.7115 - val_lambda_5_acc: 0.7223 - val_lambda_6_acc: 0.7940 - val_lambda_7_acc: 0.8339 - val_lambda_8_acc: 0.8753\n",
      "Epoch 13/20\n",
      "50000/50000 [==============================] - 56s 1ms/step - loss: 2.9000 - lambda_2_loss: 0.5860 - lambda_3_loss: 0.4578 - lambda_4_loss: 0.4958 - lambda_5_loss: 0.4830 - lambda_6_loss: 0.3639 - lambda_7_loss: 0.2892 - lambda_8_loss: 0.2243 - lambda_2_acc: 0.6884 - lambda_3_acc: 0.7619 - lambda_4_acc: 0.7447 - lambda_5_acc: 0.7541 - lambda_6_acc: 0.8261 - lambda_7_acc: 0.8711 - lambda_8_acc: 0.9042 - val_loss: 3.4836 - val_lambda_2_loss: 0.6352 - val_lambda_3_loss: 0.5063 - val_lambda_4_loss: 0.5559 - val_lambda_5_loss: 0.5509 - val_lambda_6_loss: 0.4807 - val_lambda_7_loss: 0.4170 - val_lambda_8_loss: 0.3376 - val_lambda_2_acc: 0.6750 - val_lambda_3_acc: 0.7315 - val_lambda_4_acc: 0.7146 - val_lambda_5_acc: 0.7152 - val_lambda_6_acc: 0.7778 - val_lambda_7_acc: 0.8188 - val_lambda_8_acc: 0.8610\n",
      "Epoch 14/20\n",
      "50000/50000 [==============================] - 56s 1ms/step - loss: 2.8485 - lambda_2_loss: 0.5800 - lambda_3_loss: 0.4530 - lambda_4_loss: 0.4891 - lambda_5_loss: 0.4735 - lambda_6_loss: 0.3540 - lambda_7_loss: 0.2810 - lambda_8_loss: 0.2180 - lambda_2_acc: 0.6913 - lambda_3_acc: 0.7657 - lambda_4_acc: 0.7491 - lambda_5_acc: 0.7596 - lambda_6_acc: 0.8344 - lambda_7_acc: 0.8747 - lambda_8_acc: 0.9054 - val_loss: 3.3087 - val_lambda_2_loss: 0.6277 - val_lambda_3_loss: 0.5070 - val_lambda_4_loss: 0.5440 - val_lambda_5_loss: 0.5297 - val_lambda_6_loss: 0.4340 - val_lambda_7_loss: 0.3672 - val_lambda_8_loss: 0.2991 - val_lambda_2_acc: 0.6542 - val_lambda_3_acc: 0.7413 - val_lambda_4_acc: 0.7203 - val_lambda_5_acc: 0.7279 - val_lambda_6_acc: 0.7997 - val_lambda_7_acc: 0.8407 - val_lambda_8_acc: 0.8774\n",
      "Epoch 15/20\n",
      "50000/50000 [==============================] - 56s 1ms/step - loss: 2.7989 - lambda_2_loss: 0.5737 - lambda_3_loss: 0.4481 - lambda_4_loss: 0.4841 - lambda_5_loss: 0.4665 - lambda_6_loss: 0.3450 - lambda_7_loss: 0.2711 - lambda_8_loss: 0.2104 - lambda_2_acc: 0.6960 - lambda_3_acc: 0.7698 - lambda_4_acc: 0.7522 - lambda_5_acc: 0.7655 - lambda_6_acc: 0.8387 - lambda_7_acc: 0.8809 - lambda_8_acc: 0.9089 - val_loss: 3.5182 - val_lambda_2_loss: 0.6295 - val_lambda_3_loss: 0.5174 - val_lambda_4_loss: 0.5673 - val_lambda_5_loss: 0.5596 - val_lambda_6_loss: 0.4803 - val_lambda_7_loss: 0.4228 - val_lambda_8_loss: 0.3413 - val_lambda_2_acc: 0.6691 - val_lambda_3_acc: 0.7282 - val_lambda_4_acc: 0.7033 - val_lambda_5_acc: 0.7076 - val_lambda_6_acc: 0.7749 - val_lambda_7_acc: 0.8188 - val_lambda_8_acc: 0.8572\n",
      "Epoch 16/20\n",
      "50000/50000 [==============================] - 56s 1ms/step - loss: 2.7545 - lambda_2_loss: 0.5710 - lambda_3_loss: 0.4432 - lambda_4_loss: 0.4758 - lambda_5_loss: 0.4598 - lambda_6_loss: 0.3382 - lambda_7_loss: 0.2634 - lambda_8_loss: 0.2032 - lambda_2_acc: 0.6999 - lambda_3_acc: 0.7713 - lambda_4_acc: 0.7572 - lambda_5_acc: 0.7688 - lambda_6_acc: 0.8428 - lambda_7_acc: 0.8847 - lambda_8_acc: 0.9129 - val_loss: 3.6118 - val_lambda_2_loss: 0.6447 - val_lambda_3_loss: 0.5295 - val_lambda_4_loss: 0.5759 - val_lambda_5_loss: 0.6007 - val_lambda_6_loss: 0.4789 - val_lambda_7_loss: 0.4300 - val_lambda_8_loss: 0.3520 - val_lambda_2_acc: 0.6682 - val_lambda_3_acc: 0.7355 - val_lambda_4_acc: 0.7181 - val_lambda_5_acc: 0.7089 - val_lambda_6_acc: 0.7865 - val_lambda_7_acc: 0.8203 - val_lambda_8_acc: 0.8588\n",
      "Epoch 17/20\n",
      "50000/50000 [==============================] - 56s 1ms/step - loss: 2.7188 - lambda_2_loss: 0.5670 - lambda_3_loss: 0.4394 - lambda_4_loss: 0.4723 - lambda_5_loss: 0.4546 - lambda_6_loss: 0.3317 - lambda_7_loss: 0.2572 - lambda_8_loss: 0.1965 - lambda_2_acc: 0.7041 - lambda_3_acc: 0.7738 - lambda_4_acc: 0.7601 - lambda_5_acc: 0.7718 - lambda_6_acc: 0.8461 - lambda_7_acc: 0.8886 - lambda_8_acc: 0.9159 - val_loss: 3.3536 - val_lambda_2_loss: 0.5982 - val_lambda_3_loss: 0.5052 - val_lambda_4_loss: 0.5441 - val_lambda_5_loss: 0.5470 - val_lambda_6_loss: 0.4491 - val_lambda_7_loss: 0.4022 - val_lambda_8_loss: 0.3078 - val_lambda_2_acc: 0.6817 - val_lambda_3_acc: 0.7343 - val_lambda_4_acc: 0.7284 - val_lambda_5_acc: 0.7191 - val_lambda_6_acc: 0.7942 - val_lambda_7_acc: 0.8247 - val_lambda_8_acc: 0.8664\n",
      "Epoch 18/20\n",
      "50000/50000 [==============================] - 56s 1ms/step - loss: 2.6755 - lambda_2_loss: 0.5630 - lambda_3_loss: 0.4362 - lambda_4_loss: 0.4638 - lambda_5_loss: 0.4448 - lambda_6_loss: 0.3260 - lambda_7_loss: 0.2484 - lambda_8_loss: 0.1933 - lambda_2_acc: 0.7032 - lambda_3_acc: 0.7770 - lambda_4_acc: 0.7657 - lambda_5_acc: 0.7778 - lambda_6_acc: 0.8502 - lambda_7_acc: 0.8928 - lambda_8_acc: 0.9170 - val_loss: 3.2978 - val_lambda_2_loss: 0.6184 - val_lambda_3_loss: 0.5049 - val_lambda_4_loss: 0.5296 - val_lambda_5_loss: 0.5240 - val_lambda_6_loss: 0.4422 - val_lambda_7_loss: 0.3779 - val_lambda_8_loss: 0.3009 - val_lambda_2_acc: 0.6677 - val_lambda_3_acc: 0.7474 - val_lambda_4_acc: 0.7307 - val_lambda_5_acc: 0.7355 - val_lambda_6_acc: 0.8026 - val_lambda_7_acc: 0.8432 - val_lambda_8_acc: 0.8788\n",
      "Epoch 19/20\n",
      "50000/50000 [==============================] - 56s 1ms/step - loss: 2.6476 - lambda_2_loss: 0.5616 - lambda_3_loss: 0.4330 - lambda_4_loss: 0.4592 - lambda_5_loss: 0.4401 - lambda_6_loss: 0.3172 - lambda_7_loss: 0.2480 - lambda_8_loss: 0.1884 - lambda_2_acc: 0.7063 - lambda_3_acc: 0.7788 - lambda_4_acc: 0.7690 - lambda_5_acc: 0.7829 - lambda_6_acc: 0.8551 - lambda_7_acc: 0.8931 - lambda_8_acc: 0.9200 - val_loss: 3.6673 - val_lambda_2_loss: 0.6389 - val_lambda_3_loss: 0.5325 - val_lambda_4_loss: 0.5561 - val_lambda_5_loss: 0.5940 - val_lambda_6_loss: 0.5124 - val_lambda_7_loss: 0.4736 - val_lambda_8_loss: 0.3597 - val_lambda_2_acc: 0.6560 - val_lambda_3_acc: 0.7334 - val_lambda_4_acc: 0.7128 - val_lambda_5_acc: 0.7110 - val_lambda_6_acc: 0.7761 - val_lambda_7_acc: 0.8043 - val_lambda_8_acc: 0.8540\n",
      "Epoch 20/20\n",
      "50000/50000 [==============================] - 56s 1ms/step - loss: 2.6084 - lambda_2_loss: 0.5561 - lambda_3_loss: 0.4264 - lambda_4_loss: 0.4568 - lambda_5_loss: 0.4347 - lambda_6_loss: 0.3139 - lambda_7_loss: 0.2369 - lambda_8_loss: 0.1836 - lambda_2_acc: 0.7111 - lambda_3_acc: 0.7843 - lambda_4_acc: 0.7712 - lambda_5_acc: 0.7833 - lambda_6_acc: 0.8570 - lambda_7_acc: 0.8962 - lambda_8_acc: 0.9214 - val_loss: 3.3757 - val_lambda_2_loss: 0.6453 - val_lambda_3_loss: 0.5109 - val_lambda_4_loss: 0.5298 - val_lambda_5_loss: 0.5360 - val_lambda_6_loss: 0.4545 - val_lambda_7_loss: 0.3841 - val_lambda_8_loss: 0.3151 - val_lambda_2_acc: 0.6657 - val_lambda_3_acc: 0.7338 - val_lambda_4_acc: 0.7252 - val_lambda_5_acc: 0.7371 - val_lambda_6_acc: 0.7944 - val_lambda_7_acc: 0.8334 - val_lambda_8_acc: 0.8735\n"
     ]
    }
   ],
   "source": [
    "hist = G.fit(\n",
    "    [X_train, Y_train_path],\n",
    "    np.split(Y_train_label, Y_train_label.shape[-1], axis=-1),\n",
    "    validation_data=([X_test, Y_test_path],\n",
    "        np.split(Y_test_label, Y_test_label.shape[-1], axis=-1)),\n",
    "    batch_size=128, epochs=20)"
   ]
  },
  {
   "cell_type": "code",
   "execution_count": 7,
   "metadata": {},
   "outputs": [
    {
     "data": {
      "image/png": "[encoded data removed]",
      "text/plain": [
       "<matplotlib.figure.Figure at 0x7fe75a7246a0>"
      ]
     },
     "metadata": {},
     "output_type": "display_data"
    }
   ],
   "source": [
    "plt.plot(hist.history['loss'], label='loss')\n",
    "plt.plot(hist.history['val_loss'], label='val_loss')\n",
    "plt.legend()\n",
    "plt.show()"
   ]
  },
  {
   "cell_type": "code",
   "execution_count": 8,
   "metadata": {},
   "outputs": [
    {
     "data": {
      "text/plain": [
       "0.2078"
      ]
     },
     "execution_count": 8,
     "metadata": {},
     "output_type": "execute_result"
    }
   ],
   "source": [
    "def sigmoid(x):\n",
    "    return np.where(x >= 0, \n",
    "        1 / (1 + np.exp(-x)), \n",
    "        np.exp(x) / (1 + np.exp(x)))\n",
    "acc = M.predict(X_test, batch_size=128)\n",
    "tree_embedding = T.get_weights()[0]\n",
    "acc = np.tile(acc[:,np.newaxis,:], (1,Y_test_path.shape[-1],1))\n",
    "acc = acc * tree_embedding[Y_test_path]\n",
    "acc = np.sum(acc, axis=-1)\n",
    "acc = sigmoid(acc)\n",
    "acc = np.where(acc >= 0.5, 1, 0)\n",
    "acc = np.all(acc == Y_test_label, axis=-1)\n",
    "np.sum(acc) / Y_test_label.shape[0]"
   ]
  }
 ],
 "metadata": {
  "kernelspec": {
   "display_name": "ml",
   "language": "python",
   "name": "ml"
  },
  "language_info": {
   "codemirror_mode": {
    "name": "ipython",
    "version": 3
   },
   "file_extension": ".py",
   "mimetype": "text/x-python",
   "name": "python",
   "nbconvert_exporter": "python",
   "pygments_lexer": "ipython3",
   "version": "3.6.4"
  }
 },
 "nbformat": 4,
 "nbformat_minor": 2
}
