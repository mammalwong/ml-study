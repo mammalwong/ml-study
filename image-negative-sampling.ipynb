{
 "cells": [
  {
   "cell_type": "code",
   "execution_count": 1,
   "metadata": {},
   "outputs": [
    {
     "name": "stderr",
     "output_type": "stream",
     "text": [
      "Using TensorFlow backend.\n"
     ]
    }
   ],
   "source": [
    "import numpy as np\n",
    "import scipy.fftpack\n",
    "import keras"
   ]
  },
  {
   "cell_type": "code",
   "execution_count": 2,
   "metadata": {},
   "outputs": [],
   "source": [
    "(train_X, train_Y), (test_X, test_Y) = keras.datasets.mnist.load_data()\n",
    "(neg_X, _), (_, _) = keras.datasets.fashion_mnist.load_data()\n",
    "train_X = train_X[:,:,:,np.newaxis] / 255\n",
    "test_X = test_X[:,:,:,np.newaxis] / 255\n",
    "neg_X = neg_X[:,:,:,np.newaxis] / 255"
   ]
  },
  {
   "cell_type": "code",
   "execution_count": 3,
   "metadata": {
    "collapsed": true
   },
   "outputs": [],
   "source": [
    "X_freq = scipy.fftpack.dct(train_X, norm='ortho', axis=1)\n",
    "X_freq = scipy.fftpack.dct(X_freq, norm='ortho', axis=2)\n",
    "X_freq_mean = np.mean(X_freq, axis=0, keepdims=True)\n",
    "X_freq_std = np.std(X_freq, axis=0, ddof=1, keepdims=True)"
   ]
  },
  {
   "cell_type": "code",
   "execution_count": 4,
   "metadata": {},
   "outputs": [],
   "source": [
    "def generate_neg_samples():\n",
    "    x = X_freq_mean + np.random.randn(*train_X.shape) * X_freq_std\n",
    "    x = scipy.fftpack.idct(x, norm='ortho', axis=2)\n",
    "    x = scipy.fftpack.idct(x, norm='ortho', axis=1)\n",
    "    x = np.clip(x, 0, 1)\n",
    "    return x"
   ]
  },
  {
   "cell_type": "code",
   "execution_count": 5,
   "metadata": {},
   "outputs": [
    {
     "name": "stdout",
     "output_type": "stream",
     "text": [
      "_________________________________________________________________\n",
      "Layer (type)                 Output Shape              Param #   \n",
      "=================================================================\n",
      "input_1 (InputLayer)         (None, 28, 28, 1)         0         \n",
      "_________________________________________________________________\n",
      "batch_normalization_1 (Batch (None, 28, 28, 1)         4         \n",
      "_________________________________________________________________\n",
      "conv2d_1 (Conv2D)            (None, 28, 28, 8)         80        \n",
      "_________________________________________________________________\n",
      "batch_normalization_2 (Batch (None, 28, 28, 8)         32        \n",
      "_________________________________________________________________\n",
      "activation_1 (Activation)    (None, 28, 28, 8)         0         \n",
      "_________________________________________________________________\n",
      "max_pooling2d_1 (MaxPooling2 (None, 14, 14, 8)         0         \n",
      "_________________________________________________________________\n",
      "conv2d_2 (Conv2D)            (None, 14, 14, 8)         584       \n",
      "_________________________________________________________________\n",
      "batch_normalization_3 (Batch (None, 14, 14, 8)         32        \n",
      "_________________________________________________________________\n",
      "activation_2 (Activation)    (None, 14, 14, 8)         0         \n",
      "_________________________________________________________________\n",
      "max_pooling2d_2 (MaxPooling2 (None, 7, 7, 8)           0         \n",
      "_________________________________________________________________\n",
      "conv2d_3 (Conv2D)            (None, 7, 7, 8)           584       \n",
      "_________________________________________________________________\n",
      "batch_normalization_4 (Batch (None, 7, 7, 8)           32        \n",
      "_________________________________________________________________\n",
      "activation_3 (Activation)    (None, 7, 7, 8)           0         \n",
      "_________________________________________________________________\n",
      "flatten_1 (Flatten)          (None, 392)               0         \n",
      "_________________________________________________________________\n",
      "dense_1 (Dense)              (None, 11)                4323      \n",
      "=================================================================\n",
      "Total params: 5,671\n",
      "Trainable params: 5,621\n",
      "Non-trainable params: 50\n",
      "_________________________________________________________________\n"
     ]
    }
   ],
   "source": [
    "X = X_input = keras.layers.Input((28,28,1))\n",
    "X = keras.layers.BatchNormalization()(X)\n",
    "X = keras.layers.Conv2D(8, (3,3), padding='same', kernel_initializer='he_uniform')(X)\n",
    "X = keras.layers.BatchNormalization()(X)\n",
    "X = keras.layers.Activation('relu')(X)\n",
    "X = keras.layers.MaxPooling2D()(X)\n",
    "X = keras.layers.Conv2D(8, (3,3), padding='same', kernel_initializer='he_uniform')(X)\n",
    "X = keras.layers.BatchNormalization()(X)\n",
    "X = keras.layers.Activation('relu')(X)\n",
    "X = keras.layers.MaxPooling2D()(X)\n",
    "X = keras.layers.Conv2D(8, (3,3), padding='same', kernel_initializer='he_uniform')(X)\n",
    "X = keras.layers.BatchNormalization()(X)\n",
    "X = keras.layers.Activation('relu')(X)\n",
    "X = keras.layers.Flatten()(X)\n",
    "X = keras.layers.Dense(11, activation='softmax')(X)\n",
    "M = keras.Model(X_input, X)\n",
    "M_opt = keras.optimizers.Nadam(lr=2e-6)\n",
    "M.compile('nadam', 'sparse_categorical_crossentropy', ['acc'])\n",
    "M.summary()"
   ]
  },
  {
   "cell_type": "code",
   "execution_count": 6,
   "metadata": {
    "collapsed": true
   },
   "outputs": [],
   "source": [
    "def datagen(batch_size):\n",
    "    batch_size = batch_size // 2\n",
    "    while True:\n",
    "        shuf = np.arange(0, train_X.shape[0], 1, dtype=int)\n",
    "        neg = generate_neg_samples()\n",
    "        for i in range(int(np.ceil(train_X.shape[0] / batch_size))):\n",
    "            train_X_ = train_X[shuf[i*batch_size:(i+1)*batch_size]]\n",
    "            train_Y_ = train_Y[shuf[i*batch_size:(i+1)*batch_size]]\n",
    "            yield train_X_, train_Y_\n",
    "            neg_ = neg[i*batch_size:(i+1)*batch_size]\n",
    "            yield neg_, np.full_like(train_Y_, 10, dtype=int)"
   ]
  },
  {
   "cell_type": "code",
   "execution_count": 7,
   "metadata": {},
   "outputs": [
    {
     "name": "stdout",
     "output_type": "stream",
     "text": [
      "Epoch 1/10\n",
      "1874/1874 [==============================] - 22s 12ms/step - loss: 0.1371 - acc: 0.9599 - val_loss: 0.0887 - val_acc: 0.9715\n",
      "Epoch 2/10\n",
      "1874/1874 [==============================] - 16s 9ms/step - loss: 0.0453 - acc: 0.9864 - val_loss: 0.1128 - val_acc: 0.9656\n",
      "Epoch 3/10\n",
      "1874/1874 [==============================] - 20s 11ms/step - loss: 0.0338 - acc: 0.9897 - val_loss: 0.0698 - val_acc: 0.9795\n",
      "Epoch 4/10\n",
      "1874/1874 [==============================] - 17s 9ms/step - loss: 0.0307 - acc: 0.9905 - val_loss: 0.0772 - val_acc: 0.9760\n",
      "Epoch 5/10\n",
      "1874/1874 [==============================] - 20s 11ms/step - loss: 0.0249 - acc: 0.9927 - val_loss: 0.0975 - val_acc: 0.9725\n",
      "Epoch 6/10\n",
      "1874/1874 [==============================] - 17s 9ms/step - loss: 0.0250 - acc: 0.9924 - val_loss: 0.0617 - val_acc: 0.9829\n",
      "Epoch 7/10\n",
      "1874/1874 [==============================] - 20s 11ms/step - loss: 0.0207 - acc: 0.9938 - val_loss: 0.0837 - val_acc: 0.9764\n",
      "Epoch 8/10\n",
      "1874/1874 [==============================] - 17s 9ms/step - loss: 0.0211 - acc: 0.9936 - val_loss: 0.0517 - val_acc: 0.9865\n",
      "Epoch 9/10\n",
      "1874/1874 [==============================] - 20s 11ms/step - loss: 0.0176 - acc: 0.9947 - val_loss: 0.0808 - val_acc: 0.9784\n",
      "Epoch 10/10\n",
      "1874/1874 [==============================] - 17s 9ms/step - loss: 0.0188 - acc: 0.9942 - val_loss: 0.0550 - val_acc: 0.9851\n"
     ]
    },
    {
     "data": {
      "text/plain": [
       "<keras.callbacks.History at 0x7f97af7fddd8>"
      ]
     },
     "execution_count": 7,
     "metadata": {},
     "output_type": "execute_result"
    }
   ],
   "source": [
    "M.fit_generator(datagen(64), (train_X.shape[0] // 64)*2, validation_data=(test_X, test_Y), epochs=10)"
   ]
  },
  {
   "cell_type": "code",
   "execution_count": 19,
   "metadata": {},
   "outputs": [
    {
     "data": {
      "text/plain": [
       "3.3333333333333335e-05"
      ]
     },
     "execution_count": 19,
     "metadata": {},
     "output_type": "execute_result"
    }
   ],
   "source": [
    "pred = np.argmax(M.predict(train_X), axis=-1)\n",
    "np.sum(pred == 10) / train_X.shape[0]"
   ]
  },
  {
   "cell_type": "code",
   "execution_count": 20,
   "metadata": {},
   "outputs": [
    {
     "data": {
      "text/plain": [
       "0.0002"
      ]
     },
     "execution_count": 20,
     "metadata": {},
     "output_type": "execute_result"
    }
   ],
   "source": [
    "pred = np.argmax(M.predict(test_X), axis=-1)\n",
    "np.sum(pred == 10) / test_X.shape[0]"
   ]
  },
  {
   "cell_type": "code",
   "execution_count": 21,
   "metadata": {},
   "outputs": [
    {
     "data": {
      "text/plain": [
       "0.3204"
      ]
     },
     "execution_count": 21,
     "metadata": {},
     "output_type": "execute_result"
    }
   ],
   "source": [
    "pred = np.argmax(M.predict(neg_X), axis=-1)\n",
    "np.sum(pred == 10) / neg_X.shape[0]"
   ]
  }
 ],
 "metadata": {
  "kernelspec": {
   "display_name": "ml",
   "language": "python",
   "name": "ml"
  },
  "language_info": {
   "codemirror_mode": {
    "name": "ipython",
    "version": 3
   },
   "file_extension": ".py",
   "mimetype": "text/x-python",
   "name": "python",
   "nbconvert_exporter": "python",
   "pygments_lexer": "ipython3",
   "version": "3.6.4"
  }
 },
 "nbformat": 4,
 "nbformat_minor": 2
}
