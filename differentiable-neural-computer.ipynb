{
 "cells": [
  {
   "cell_type": "code",
   "execution_count": 1,
   "metadata": {},
   "outputs": [
    {
     "name": "stderr",
     "output_type": "stream",
     "text": [
      "Using TensorFlow backend.\n"
     ]
    }
   ],
   "source": [
    "import numpy as np\n",
    "import matplotlib.pyplot as plt\n",
    "import keras\n",
    "import keras.backend as K\n",
    "import tensorflow as tf"
   ]
  },
  {
   "cell_type": "code",
   "execution_count": 2,
   "metadata": {
    "collapsed": true
   },
   "outputs": [],
   "source": [
    "(X_train,Y_train),(X_test,Y_test) = keras.datasets.reuters.load_data()"
   ]
  },
  {
   "cell_type": "code",
   "execution_count": 3,
   "metadata": {},
   "outputs": [
    {
     "data": {
      "image/png": "[encoded data removed]",
      "text/plain": [
       "<matplotlib.figure.Figure at 0x7fbc47193d30>"
      ]
     },
     "metadata": {},
     "output_type": "display_data"
    }
   ],
   "source": [
    "data_input_len_quantile_x = np.linspace(0, 1, num=100)\n",
    "data_input_len_quantile_y = np.quantile(\n",
    "    [len(x) for x in X_train] + [len(x) for x in X_test], data_input_len_quantile_x)\n",
    "plt.plot(data_input_len_quantile_x, data_input_len_quantile_y)\n",
    "plt.show()"
   ]
  },
  {
   "cell_type": "code",
   "execution_count": 4,
   "metadata": {},
   "outputs": [
    {
     "data": {
      "text/plain": [
       "((8982, 64), (8982,), (2246, 64), (2246,))"
      ]
     },
     "execution_count": 4,
     "metadata": {},
     "output_type": "execute_result"
    }
   ],
   "source": [
    "X_train = keras.preprocessing.sequence.pad_sequences(X_train, maxlen=64, padding='post', truncating='post')\n",
    "X_test = keras.preprocessing.sequence.pad_sequences(X_test, maxlen=64, padding='post', truncating='post')\n",
    "Y_train = np.array(Y_train)\n",
    "Y_test = np.array(Y_test)\n",
    "X_train.shape, Y_train.shape, X_test.shape, Y_test.shape"
   ]
  },
  {
   "cell_type": "code",
   "execution_count": 5,
   "metadata": {},
   "outputs": [
    {
     "data": {
      "text/plain": [
       "30979"
      ]
     },
     "execution_count": 5,
     "metadata": {},
     "output_type": "execute_result"
    }
   ],
   "source": [
    "data_input_dim = max(np.max(X_train), np.max(X_test)) + 1\n",
    "data_input_dim"
   ]
  },
  {
   "cell_type": "code",
   "execution_count": 6,
   "metadata": {},
   "outputs": [
    {
     "data": {
      "text/plain": [
       "46"
      ]
     },
     "execution_count": 6,
     "metadata": {},
     "output_type": "execute_result"
    }
   ],
   "source": [
    "data_output_dim = max(np.max(Y_train), np.max(Y_test)) + 1\n",
    "data_output_dim"
   ]
  },
  {
   "cell_type": "code",
   "execution_count": 7,
   "metadata": {},
   "outputs": [],
   "source": [
    "class DNCCell(keras.layers.Layer):\n",
    "    \n",
    "    def __init__(self,\n",
    "                 output_size,\n",
    "                 word_size,\n",
    "                 memory_size,\n",
    "                 register_size=2,\n",
    "                 read_head_count=3,\n",
    "                 enable_temporal=True,\n",
    "                 enable_final_bias=True,\n",
    "                 bypass_dropout_factor=None,\n",
    "                 **kwargs):\n",
    "        self.output_size = output_size\n",
    "        self.word_size = word_size\n",
    "        self.memory_size = memory_size\n",
    "        self.register_size = register_size\n",
    "        self.read_head_count = read_head_count\n",
    "        self.enable_temporal = enable_temporal\n",
    "        self.enable_final_bias = enable_final_bias\n",
    "        self.bypass_dropout_factor = bypass_dropout_factor\n",
    "        self.state_size = (output_size,)\n",
    "        self.state_size += (register_size * word_size,)\n",
    "        self.state_size += (register_size * word_size,)\n",
    "        self.state_size += (memory_size * word_size,)\n",
    "        self.state_size += (read_head_count * memory_size,)\n",
    "        self.state_size += (read_head_count * word_size,)\n",
    "        self.state_size += (memory_size,)\n",
    "        self.state_size += (memory_size,)\n",
    "        if enable_temporal:\n",
    "            self.state_size += (memory_size,)\n",
    "            self.state_size += (memory_size * memory_size,)\n",
    "        super().__init__(**kwargs)\n",
    "    \n",
    "    def build(self, input_shape):\n",
    "        read_vec_size = self.word_size * self.read_head_count\n",
    "        controller_input_size = input_shape[-1]\n",
    "        controller_input_size += read_vec_size\n",
    "        controller_input_size += self.register_size*self.word_size\n",
    "        controller_kernel_size = self.register_size*self.word_size*4\n",
    "        controller_hidden_size = self.register_size*self.word_size\n",
    "        interface_vec_size = read_vec_size\n",
    "        interface_vec_size += self.word_size * 3\n",
    "        interface_vec_size += self.read_head_count * 2\n",
    "        if self.enable_temporal:\n",
    "            interface_vec_size += self.read_head_count * 3\n",
    "        interface_vec_size += 3\n",
    "        self.kernel_controller_hidden = self.add_weight(\n",
    "            shape=(controller_input_size, controller_kernel_size),\n",
    "            initializer='glorot_normal', name='kernel_controller_hidden')\n",
    "        self.bias_controller_hidden = self.add_weight(\n",
    "            shape=(controller_kernel_size,),\n",
    "            initializer='zeros', name='bias_controller_hidden')\n",
    "        self.kernel_controller_output = self.add_weight(\n",
    "            shape=(controller_hidden_size, self.output_size + interface_vec_size),\n",
    "            initializer='glorot_normal', name='kernel_controller_output')\n",
    "        self.kernel_read_vec_to_output = self.add_weight(\n",
    "            shape=(read_vec_size, self.output_size),\n",
    "            initializer='glorot_normal', name='kernel_read_vec_to_output')\n",
    "        if self.enable_final_bias:\n",
    "            self.bias_final_output = self.add_weight(\n",
    "                shape=(self.output_size,),\n",
    "                initializer='zeros', name='bias_final_output')\n",
    "        super().build(input_shape)\n",
    "    \n",
    "    def call(self, inputs, states):\n",
    "        \n",
    "        def oneplus(x):\n",
    "            return K.softplus(x) + 1.\n",
    "        \n",
    "        def similarity(m, k, b):\n",
    "            dot = K.batch_dot(k, m, axes=2)\n",
    "            m_len = K.sqrt(K.sum(K.square(m), axis=-1))\n",
    "            k_len = K.sqrt(K.sum(K.square(k), axis=-1))\n",
    "            mk_len = K.expand_dims(k_len, axis=-1) @ K.expand_dims(m_len, axis=-2)\n",
    "            mk_len = K.switch(K.not_equal(mk_len, 0.), mk_len, K.ones_like(mk_len))\n",
    "            cos_sim = dot / mk_len\n",
    "            return K.softmax(cos_sim * K.expand_dims(b))\n",
    "        \n",
    "        def batch_invert_permutation(permutations):\n",
    "            # from https://github.com/deepmind/dnc/blob/master/dnc/util.py\n",
    "            perm = tf.cast(permutations, tf.float32)\n",
    "            dim = int(perm.get_shape()[-1])\n",
    "            size = tf.cast(tf.shape(perm)[0], tf.float32)\n",
    "            delta = tf.cast(tf.shape(perm)[-1], tf.float32)\n",
    "            rg = tf.range(0, size * delta, delta, dtype=tf.float32)\n",
    "            rg = tf.expand_dims(rg, 1)\n",
    "            rg = tf.tile(rg, [1, dim])\n",
    "            perm = tf.add(perm, rg)\n",
    "            flat = tf.reshape(perm, [-1])\n",
    "            perm = tf.invert_permutation(tf.cast(flat, tf.int32))\n",
    "            perm = tf.reshape(perm, [-1, dim])\n",
    "            return tf.subtract(perm, tf.cast(rg, tf.int32))\n",
    "\n",
    "        def batch_gather(values, indices):\n",
    "            # from https://github.com/deepmind/dnc/blob/master/dnc/util.py\n",
    "            idx = tf.expand_dims(indices, -1)\n",
    "            size = tf.shape(indices)[0]\n",
    "            rg = tf.range(size, dtype=tf.int32)\n",
    "            rg = tf.expand_dims(rg, -1)\n",
    "            rg = tf.tile(rg, [1, int(indices.get_shape()[-1])])\n",
    "            rg = tf.expand_dims(rg, -1)\n",
    "            gidx = tf.concat([rg, idx], -1)\n",
    "            return tf.gather_nd(values, gidx)\n",
    "        \n",
    "        _, register_s_last, register_h_last, memory_last, \\\n",
    "            read_weights_last, read_vec_last, write_weight_last, \\\n",
    "            usage_last, *temporal_states = states\n",
    "        memory_last = K.reshape(memory_last,\n",
    "                        (-1,self.memory_size,self.word_size))\n",
    "        read_weights_last = K.reshape(read_weights_last,\n",
    "                        (-1,self.read_head_count,self.memory_size))\n",
    "        if not self.enable_temporal:\n",
    "            assert not temporal_states\n",
    "        else:\n",
    "            preced_last, link_last = temporal_states\n",
    "            link_last = K.reshape(link_last,\n",
    "                        (-1,self.memory_size,self.memory_size))\n",
    "        \n",
    "        # feeding controller with current input and last read vecs\n",
    "        output = K.concatenate([inputs, read_vec_last, register_h_last])\n",
    "        output = output @ self.kernel_controller_hidden\n",
    "        output = output + self.bias_controller_hidden\n",
    "        ctr_input_gate = output[:,:self.register_size*self.word_size]\n",
    "        ctr_input_gate = K.sigmoid(ctr_input_gate)\n",
    "        ctr_forget_gate = output[:,\n",
    "            self.register_size*self.word_size:\n",
    "            self.register_size*self.word_size*2]\n",
    "        ctr_forget_gate = K.sigmoid(ctr_forget_gate)\n",
    "        register_s = output[:,\n",
    "            self.register_size*self.word_size*2:\n",
    "            self.register_size*self.word_size*3]\n",
    "        register_s = ctr_input_gate * K.tanh(register_s)\n",
    "        register_s = register_s + ctr_forget_gate*register_s_last\n",
    "        ctr_output_gate = output[:,\n",
    "            self.register_size*self.word_size*3:\n",
    "            self.register_size*self.word_size*4]\n",
    "        ctr_output_gate = K.sigmoid(ctr_output_gate)\n",
    "        register_h = ctr_output_gate * K.tanh(register_s)\n",
    "        output = register_h @ self.kernel_controller_output\n",
    "        \n",
    "        # break down controller output into semi final output and interface vec\n",
    "        interface_vec = output[:,self.output_size:]\n",
    "        output = output[:,:self.output_size]\n",
    "        if self.bypass_dropout_factor is not None:\n",
    "            output = K.dropout(output, self.bypass_dropout_factor)\n",
    "        \n",
    "        # break down interface vec\n",
    "        read_keys = interface_vec[:,:self.word_size*self.read_head_count]\n",
    "        read_keys = K.reshape(read_keys, (-1,self.read_head_count,self.word_size))\n",
    "        read_stre = interface_vec[:,\n",
    "            self.word_size*self.read_head_count:\n",
    "            (self.word_size+1)*self.read_head_count]\n",
    "        read_stre = oneplus(read_stre)\n",
    "        write_key = interface_vec[:,\n",
    "            (self.word_size+1)*self.read_head_count:\n",
    "            (self.word_size+1)*self.read_head_count+self.word_size]\n",
    "        write_stre = interface_vec[:,\n",
    "            (self.word_size+1)*self.read_head_count+self.word_size:\n",
    "            (self.word_size+1)*self.read_head_count+self.word_size+1]\n",
    "        write_stre = oneplus(write_stre)\n",
    "        erase_vec = interface_vec[:,\n",
    "            (self.word_size+1)*self.read_head_count+self.word_size+1:\n",
    "            (self.word_size+1)*self.read_head_count+self.word_size*2+1]\n",
    "        erase_vec = K.sigmoid(erase_vec)\n",
    "        write_vec = interface_vec[:,\n",
    "            (self.word_size+1)*self.read_head_count+self.word_size*2+1:\n",
    "            (self.word_size+1)*self.read_head_count+self.word_size*3+1]\n",
    "        free_gates = interface_vec[:,\n",
    "            (self.word_size+1)*self.read_head_count+self.word_size*3+1:\n",
    "            (self.word_size+2)*self.read_head_count+self.word_size*3+1]\n",
    "        free_gates = K.sigmoid(free_gates)\n",
    "        alloc_gate = interface_vec[:,\n",
    "            (self.word_size+2)*self.read_head_count+self.word_size*3+1:\n",
    "            (self.word_size+2)*self.read_head_count+self.word_size*3+2]\n",
    "        alloc_gate = K.sigmoid(alloc_gate)\n",
    "        write_gate = interface_vec[:,\n",
    "            (self.word_size+2)*self.read_head_count+self.word_size*3+2:\n",
    "            (self.word_size+2)*self.read_head_count+self.word_size*3+3]\n",
    "        write_gate = K.sigmoid(write_gate)\n",
    "        if self.enable_temporal:\n",
    "            read_modes = interface_vec[:,\n",
    "                (self.word_size+2)*self.read_head_count+self.word_size*3+3:\n",
    "                (self.word_size+5)*self.read_head_count+self.word_size*3+3]\n",
    "            read_modes = K.reshape(read_modes, (-1,self.read_head_count,3))\n",
    "            read_modes = K.softmax(read_modes, axis=-1)\n",
    "        \n",
    "        # compute allocation vector\n",
    "        retention = K.prod(1.-(K.expand_dims(free_gates)*read_weights_last), axis=-2)\n",
    "        usage = ((usage_last+write_weight_last)-usage_last*write_weight_last)*retention\n",
    "        # quickfix for tf.cumprod grad bug\n",
    "        # https://github.com/tensorflow/tensorflow/issues/3862\n",
    "        usage_qfixed = 1e-6 + (1-1e-6) * usage\n",
    "        usage_asc,usage_perm = tf.nn.top_k(1. - usage_qfixed, k=self.memory_size)\n",
    "        usage_asc = 1. - usage_asc\n",
    "        alloc_asc = (1. - usage_asc) * tf.cumprod(usage_asc, axis=-1, exclusive=True)\n",
    "        alloc_perm = batch_invert_permutation(usage_perm)\n",
    "        alloc = batch_gather(alloc_asc, alloc_perm)\n",
    "        \n",
    "        # compute write weight\n",
    "        write_sim = K.reshape(\n",
    "            similarity(memory_last,K.expand_dims(write_key, axis=-2),write_stre),\n",
    "            (-1,self.memory_size))\n",
    "        write_weight = write_gate*(alloc_gate*alloc + (1.-alloc_gate)*write_sim)\n",
    "        \n",
    "        # compute precedence and temporal links\n",
    "        if self.enable_temporal:\n",
    "            preced = (1.-K.sum(\n",
    "                write_weight,axis=-1,keepdims=True))*preced_last + write_weight\n",
    "            write_weight_rep_h =  K.repeat_elements(K.expand_dims(\n",
    "                write_weight,axis=-1),self.memory_size,axis=-1)\n",
    "            write_weight_rep_v =  K.repeat_elements(K.expand_dims(\n",
    "                write_weight,axis=-2),self.memory_size,axis=-2)\n",
    "            link = (1.-(write_weight_rep_h+write_weight_rep_v))*link_last + \\\n",
    "                write_weight_rep_h * K.repeat_elements(K.expand_dims(\n",
    "                    preced_last,axis=-2),self.memory_size,axis=-2)\n",
    "            link_forward = read_weights_last @ link\n",
    "            link_backward = K.permute_dimensions(link @ K.permute_dimensions(\n",
    "                read_weights_last,(0,2,1)),(0,2,1))\n",
    "        \n",
    "        # compute read weights and read vectors\n",
    "        read_sims = similarity(memory_last,read_keys,read_stre)\n",
    "        if not self.enable_temporal:\n",
    "            read_weights = read_sims\n",
    "        else:\n",
    "            read_weights = read_modes[:,:,0:1] * read_sims + \\\n",
    "                            read_modes[:,:,1:2] * link_forward + \\\n",
    "                            read_modes[:,:,2:3] * link_backward\n",
    "        read_vecs = read_weights @ memory_last\n",
    "        read_vec = K.reshape(read_vecs, (-1,self.read_head_count*self.word_size))\n",
    "        \n",
    "        # update memory\n",
    "        m_keep = K.expand_dims(write_weight,axis=-1) @ K.expand_dims(erase_vec,axis=-2)\n",
    "        m_new = K.expand_dims(write_weight,axis=-1) @ K.expand_dims(write_vec,axis=-2)\n",
    "        memory = memory_last*(1.-m_keep) + m_new\n",
    "        \n",
    "        # compute final output from controller output and current read vecs\n",
    "        output = output + read_vec @ self.kernel_read_vec_to_output\n",
    "        if self.enable_final_bias:\n",
    "            output = output + self.bias_final_output\n",
    "        \n",
    "        return output, [\n",
    "            output,\n",
    "            register_s,\n",
    "            register_h,\n",
    "            K.reshape(memory, (-1,self.memory_size*self.word_size)),\n",
    "            K.reshape(read_weights, (-1,self.read_head_count*self.memory_size)),\n",
    "            read_vec,\n",
    "            write_weight,\n",
    "            usage, *([\n",
    "                preced,\n",
    "                K.reshape(link, (-1,self.memory_size*self.memory_size))\n",
    "            ] if self.enable_temporal else [])]\n",
    "    \n",
    "    def compute_output_shape(self, input_shape):\n",
    "        return (input_shape[0], self.output_size)"
   ]
  },
  {
   "cell_type": "code",
   "execution_count": 8,
   "metadata": {},
   "outputs": [
    {
     "name": "stdout",
     "output_type": "stream",
     "text": [
      "__________________________________________________________________________________________________\n",
      "Layer (type)                    Output Shape         Param #     Connected to                     \n",
      "==================================================================================================\n",
      "input_1 (InputLayer)            (None, None)         0                                            \n",
      "__________________________________________________________________________________________________\n",
      "embedding_1 (Embedding)         (None, None, 32)     991328      input_1[0][0]                    \n",
      "__________________________________________________________________________________________________\n",
      "rnn_1 (RNN)                     [(None, None, 32), ( 2704        embedding_1[0][0]                \n",
      "__________________________________________________________________________________________________\n",
      "lambda_1 (Lambda)               (None, 32)           0           embedding_1[0][0]                \n",
      "__________________________________________________________________________________________________\n",
      "rnn_2 (RNN)                     [(None, None, 32), ( 2704        rnn_1[0][0]                      \n",
      "__________________________________________________________________________________________________\n",
      "add_1 (Add)                     (None, 32)           0           lambda_1[0][0]                   \n",
      "                                                                 rnn_1[0][1]                      \n",
      "                                                                 rnn_2[0][1]                      \n",
      "__________________________________________________________________________________________________\n",
      "dense_1 (Dense)                 (None, 46)           1518        add_1[0][0]                      \n",
      "==================================================================================================\n",
      "Total params: 998,254\n",
      "Trainable params: 998,254\n",
      "Non-trainable params: 0\n",
      "__________________________________________________________________________________________________\n"
     ]
    }
   ],
   "source": [
    "X = X_inputs = keras.layers.Input((None,), dtype='int32')\n",
    "X = keras.layers.Embedding(data_input_dim, 32, mask_zero=True)(X)\n",
    "X_skip = keras.layers.Lambda(lambda x: K.mean(x, axis=-2))(X)\n",
    "X_skips = [X_skip]\n",
    "for _ in range(2):\n",
    "    X,X_skip,*_ = keras.layers.RNN(DNCCell(32, 4, 16,\n",
    "        bypass_dropout_factor=0.5), return_sequences=True, return_state=True)(X)\n",
    "    X_skips.append(X_skip)\n",
    "X = keras.layers.Add()(X_skips)\n",
    "X = keras.layers.Dense(data_output_dim, activation='softmax')(X)\n",
    "M = keras.Model(X_inputs, X)\n",
    "M.compile('nadam', 'sparse_categorical_crossentropy', ['acc'])\n",
    "M.summary()"
   ]
  },
  {
   "cell_type": "code",
   "execution_count": 9,
   "metadata": {
    "scrolled": false
   },
   "outputs": [
    {
     "name": "stdout",
     "output_type": "stream",
     "text": [
      "Train on 8982 samples, validate on 2246 samples\n",
      "Epoch 1/10\n",
      "8982/8982 [==============================] - 111s 12ms/step - loss: 2.4798 - acc: 0.3967 - val_loss: 1.8506 - val_acc: 0.5098\n",
      "Epoch 2/10\n",
      "8982/8982 [==============================] - 107s 12ms/step - loss: 1.7300 - acc: 0.5194 - val_loss: 1.7602 - val_acc: 0.5223\n",
      "Epoch 3/10\n",
      "8982/8982 [==============================] - 109s 12ms/step - loss: 1.5485 - acc: 0.5658 - val_loss: 1.7219 - val_acc: 0.5557\n",
      "Epoch 4/10\n",
      "8982/8982 [==============================] - 108s 12ms/step - loss: 1.4257 - acc: 0.6004 - val_loss: 1.7204 - val_acc: 0.5681\n",
      "Epoch 5/10\n",
      "8982/8982 [==============================] - 106s 12ms/step - loss: 1.3334 - acc: 0.6219 - val_loss: 1.7289 - val_acc: 0.5552\n",
      "Epoch 6/10\n",
      "8982/8982 [==============================] - 108s 12ms/step - loss: 1.2596 - acc: 0.6454 - val_loss: 1.7506 - val_acc: 0.5953\n",
      "Epoch 7/10\n",
      "8982/8982 [==============================] - 107s 12ms/step - loss: 1.1708 - acc: 0.6752 - val_loss: 1.6900 - val_acc: 0.6184\n",
      "Epoch 8/10\n",
      "8982/8982 [==============================] - 108s 12ms/step - loss: 1.0804 - acc: 0.7089 - val_loss: 1.7038 - val_acc: 0.6082\n",
      "Epoch 9/10\n",
      "8982/8982 [==============================] - 106s 12ms/step - loss: 0.9840 - acc: 0.7393 - val_loss: 1.7926 - val_acc: 0.6006\n",
      "Epoch 10/10\n",
      "8982/8982 [==============================] - 108s 12ms/step - loss: 0.9045 - acc: 0.7620 - val_loss: 1.7341 - val_acc: 0.6322\n"
     ]
    },
    {
     "data": {
      "text/plain": [
       "<keras.callbacks.History at 0x7fbc446db080>"
      ]
     },
     "execution_count": 9,
     "metadata": {},
     "output_type": "execute_result"
    }
   ],
   "source": [
    "M.fit(X_train, Y_train, validation_data=(X_test,Y_test), batch_size=128, epochs=10, callbacks=[\n",
    "    keras.callbacks.ReduceLROnPlateau('loss', patience=3, verbose=1)\n",
    "])"
   ]
  }
 ],
 "metadata": {
  "kernelspec": {
   "display_name": "ml",
   "language": "python",
   "name": "ml"
  },
  "language_info": {
   "codemirror_mode": {
    "name": "ipython",
    "version": 3
   },
   "file_extension": ".py",
   "mimetype": "text/x-python",
   "name": "python",
   "nbconvert_exporter": "python",
   "pygments_lexer": "ipython3",
   "version": "3.6.4"
  }
 },
 "nbformat": 4,
 "nbformat_minor": 2
}
