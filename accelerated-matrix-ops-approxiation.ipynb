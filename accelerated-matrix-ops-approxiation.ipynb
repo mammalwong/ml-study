{
 "cells": [
  {
   "cell_type": "code",
   "execution_count": 78,
   "metadata": {},
   "outputs": [],
   "source": [
    "import keras\n",
    "import numpy as np\n",
    "import matplotlib.pyplot as plt\n",
    "from sympy import *\n",
    "init_printing()"
   ]
  },
  {
   "cell_type": "markdown",
   "metadata": {},
   "source": [
    "### toy data for create matrices for testing"
   ]
  },
  {
   "cell_type": "code",
   "execution_count": 103,
   "metadata": {},
   "outputs": [
    {
     "data": {
      "image/png": "[encoded data removed]",
      "text/latex": [
       "$$\\left ( 60000, \\quad 28, \\quad 28\\right )$$"
      ],
      "text/plain": [
       "(60000, 28, 28)"
      ]
     },
     "execution_count": 103,
     "metadata": {},
     "output_type": "execute_result"
    }
   ],
   "source": [
    "(dataset, _), (_, _) = keras.datasets.mnist.load_data()\n",
    "dataset = dataset / 255.\n",
    "dataset.shape"
   ]
  },
  {
   "cell_type": "code",
   "execution_count": 104,
   "metadata": {
    "collapsed": true
   },
   "outputs": [],
   "source": [
    "x,n = symbols('x,n', real=True)"
   ]
  },
  {
   "cell_type": "markdown",
   "metadata": {},
   "source": [
    "### unitary discrete cosine transform type 4 matrix creation procedure"
   ]
  },
  {
   "cell_type": "code",
   "execution_count": 105,
   "metadata": {
    "collapsed": true
   },
   "outputs": [],
   "source": [
    "def dct(N, evalf=False):\n",
    "    m = Matrix(N, N, lambda n,k: cos((pi/N)*(n+Rational(1,2))*(k+Rational(1,2))))\n",
    "    m = sqrt(Rational(2,N)) * m\n",
    "    if evalf:\n",
    "        m = m.evalf()\n",
    "    return m\n",
    "def dctf(N):\n",
    "    return dct(N, evalf=True)"
   ]
  },
  {
   "cell_type": "markdown",
   "metadata": {},
   "source": [
    "### creates 3 toy matrix, $M_1,M_2,M_3$ and plot $M_1 M_2 M_3$"
   ]
  },
  {
   "cell_type": "code",
   "execution_count": 111,
   "metadata": {},
   "outputs": [
    {
     "data": {
      "image/png": "[encoded data removed]",
      "text/plain": [
       "<matplotlib.figure.Figure at 0x7f0cc2799160>"
      ]
     },
     "metadata": {},
     "output_type": "display_data"
    }
   ],
   "source": [
    "M1 = Matrix(dataset[0])\n",
    "M2 = Matrix(dataset[1])\n",
    "M3 = Matrix(dataset[2])\n",
    "M = M1 @ M2 @ M3\n",
    "plt.imshow(np.array(M).astype(np.float))\n",
    "plt.colorbar()\n",
    "plt.show()"
   ]
  },
  {
   "cell_type": "markdown",
   "metadata": {},
   "source": [
    "### apply $DCT2D(M)$ to toy matrices into frequency matrices, $M_1^F,M_2^F,M_3^F$"
   ]
  },
  {
   "cell_type": "code",
   "execution_count": 112,
   "metadata": {},
   "outputs": [],
   "source": [
    "M1F = dctf(28) @ M1 @ dctf(28)\n",
    "M2F = dctf(28) @ M2 @ dctf(28)\n",
    "M3F = dctf(28) @ M3 @ dctf(28)"
   ]
  },
  {
   "cell_type": "markdown",
   "metadata": {},
   "source": [
    "### plot $IDCT2D(M_1^F M_2^F M_3^F)$"
   ]
  },
  {
   "cell_type": "code",
   "execution_count": 113,
   "metadata": {},
   "outputs": [
    {
     "data": {
      "image/png": "[encoded data removed]",
      "text/plain": [
       "<matplotlib.figure.Figure at 0x7f0cc281ef28>"
      ]
     },
     "metadata": {},
     "output_type": "display_data"
    }
   ],
   "source": [
    "T = np.array(dctf(28) @ (M1F @ M2F @ M3F) @ dctf(28))\n",
    "plt.imshow(np.array(T).astype(np.float))\n",
    "plt.colorbar()\n",
    "plt.show()"
   ]
  },
  {
   "cell_type": "markdown",
   "metadata": {},
   "source": [
    "### drop most of the insignificant frequences ($f < 0.2$)\n",
    "- produce frequency matrices with a lot of $0$ as $M_1^{F'},M_2^{F'},M_3^{F'}$\n",
    "- plot $IDCT2D(M_1^{F'} M_2^{F'} M_3^{F'})$"
   ]
  },
  {
   "cell_type": "code",
   "execution_count": 123,
   "metadata": {},
   "outputs": [
    {
     "data": {
      "image/png": "[encoded data removed]",
      "text/plain": [
       "<matplotlib.figure.Figure at 0x7f0cda5a98d0>"
      ]
     },
     "metadata": {},
     "output_type": "display_data"
    }
   ],
   "source": [
    "M1F_dropped = M1F.applyfunc(lambda x: x if abs(x) > 0.2 else 0)\n",
    "M2F_dropped = M2F.applyfunc(lambda x: x if abs(x) > 0.2 else 0)\n",
    "M3F_dropped = M3F.applyfunc(lambda x: x if abs(x) > 0.2 else 0)\n",
    "T = np.array(dctf(28) @ (M1F_dropped @ M2F_dropped @ M3F_dropped) @ dctf(28))\n",
    "plt.imshow(np.array(T).astype(np.float))\n",
    "plt.colorbar()\n",
    "plt.show()"
   ]
  },
  {
   "cell_type": "markdown",
   "metadata": {},
   "source": [
    "### show the removed frequece in $M_1^{F'}$\n",
    "- $1$ means the fequency is keeped\n",
    "- $0$ means the fequency is dropped"
   ]
  },
  {
   "cell_type": "code",
   "execution_count": 127,
   "metadata": {},
   "outputs": [
    {
     "data": {
      "text/latex": [
       "$$\\left[\\begin{array}{cccccccccccccccccccccccccccc}1 & 1 & 1 & 1 & 1 & 0 & 0 & 0 & 0 & 1 & 0 & 1 & 1 & 1 & 1 & 0 & 0 & 0 & 0 & 0 & 0 & 0 & 0 & 0 & 0 & 0 & 0 & 0\\\\1 & 1 & 1 & 1 & 1 & 1 & 1 & 1 & 0 & 1 & 1 & 0 & 0 & 0 & 0 & 0 & 0 & 0 & 0 & 0 & 0 & 0 & 0 & 0 & 0 & 0 & 0 & 0\\\\1 & 1 & 0 & 1 & 1 & 0 & 1 & 0 & 0 & 0 & 0 & 1 & 1 & 1 & 1 & 1 & 0 & 0 & 0 & 0 & 0 & 0 & 0 & 0 & 0 & 0 & 0 & 0\\\\1 & 1 & 1 & 1 & 1 & 1 & 1 & 0 & 0 & 0 & 1 & 1 & 0 & 1 & 1 & 0 & 0 & 0 & 0 & 0 & 0 & 0 & 0 & 0 & 0 & 0 & 0 & 0\\\\1 & 1 & 1 & 1 & 1 & 0 & 1 & 1 & 1 & 0 & 0 & 0 & 1 & 0 & 0 & 1 & 0 & 0 & 0 & 0 & 0 & 0 & 0 & 0 & 0 & 0 & 0 & 0\\\\1 & 0 & 1 & 1 & 1 & 0 & 1 & 1 & 1 & 0 & 1 & 0 & 0 & 1 & 0 & 1 & 0 & 0 & 0 & 0 & 0 & 0 & 0 & 0 & 0 & 0 & 0 & 0\\\\1 & 0 & 1 & 0 & 1 & 1 & 1 & 1 & 1 & 1 & 0 & 0 & 0 & 0 & 0 & 0 & 0 & 0 & 0 & 0 & 0 & 0 & 0 & 0 & 0 & 1 & 0 & 0\\\\1 & 1 & 1 & 0 & 1 & 0 & 1 & 1 & 1 & 1 & 1 & 0 & 0 & 0 & 0 & 0 & 0 & 0 & 0 & 0 & 0 & 0 & 0 & 0 & 0 & 0 & 0 & 0\\\\0 & 1 & 1 & 1 & 0 & 1 & 1 & 1 & 0 & 1 & 0 & 0 & 0 & 0 & 0 & 0 & 0 & 0 & 0 & 0 & 0 & 0 & 0 & 0 & 0 & 0 & 0 & 0\\\\0 & 0 & 1 & 1 & 1 & 1 & 1 & 1 & 1 & 1 & 1 & 0 & 0 & 0 & 0 & 0 & 0 & 0 & 0 & 0 & 0 & 0 & 0 & 0 & 0 & 0 & 0 & 0\\\\1 & 0 & 1 & 1 & 1 & 0 & 1 & 0 & 0 & 1 & 0 & 1 & 0 & 0 & 0 & 0 & 0 & 0 & 0 & 0 & 0 & 0 & 0 & 0 & 0 & 0 & 0 & 0\\\\0 & 1 & 1 & 0 & 1 & 1 & 1 & 1 & 1 & 0 & 1 & 0 & 0 & 0 & 0 & 0 & 0 & 0 & 0 & 0 & 0 & 0 & 0 & 0 & 0 & 0 & 0 & 0\\\\1 & 1 & 1 & 1 & 1 & 1 & 0 & 1 & 0 & 0 & 0 & 1 & 0 & 0 & 0 & 0 & 0 & 0 & 0 & 0 & 0 & 0 & 0 & 0 & 0 & 0 & 0 & 0\\\\0 & 1 & 1 & 0 & 0 & 1 & 0 & 0 & 0 & 0 & 0 & 0 & 0 & 0 & 0 & 0 & 0 & 0 & 0 & 0 & 0 & 0 & 0 & 0 & 0 & 0 & 0 & 0\\\\1 & 0 & 1 & 0 & 0 & 0 & 1 & 0 & 1 & 0 & 0 & 0 & 0 & 0 & 0 & 0 & 0 & 0 & 0 & 0 & 0 & 0 & 0 & 0 & 0 & 0 & 0 & 0\\\\0 & 0 & 0 & 1 & 1 & 0 & 0 & 0 & 0 & 1 & 0 & 0 & 1 & 0 & 1 & 0 & 0 & 0 & 0 & 0 & 0 & 0 & 0 & 0 & 0 & 0 & 0 & 0\\\\1 & 0 & 0 & 0 & 0 & 0 & 0 & 0 & 1 & 0 & 0 & 0 & 0 & 0 & 0 & 0 & 0 & 0 & 0 & 0 & 0 & 0 & 0 & 0 & 0 & 0 & 0 & 0\\\\0 & 1 & 1 & 1 & 0 & 1 & 0 & 0 & 0 & 0 & 0 & 0 & 0 & 0 & 0 & 0 & 0 & 0 & 0 & 0 & 0 & 0 & 0 & 0 & 0 & 0 & 0 & 0\\\\1 & 0 & 0 & 0 & 0 & 0 & 0 & 0 & 0 & 1 & 1 & 0 & 0 & 0 & 0 & 0 & 0 & 0 & 0 & 0 & 0 & 0 & 0 & 0 & 0 & 0 & 0 & 0\\\\0 & 1 & 0 & 0 & 0 & 0 & 0 & 0 & 0 & 0 & 0 & 0 & 0 & 0 & 0 & 0 & 0 & 0 & 0 & 0 & 0 & 0 & 0 & 0 & 0 & 0 & 0 & 0\\\\0 & 0 & 0 & 0 & 0 & 0 & 0 & 0 & 0 & 0 & 0 & 0 & 0 & 0 & 0 & 0 & 0 & 0 & 0 & 0 & 0 & 0 & 0 & 0 & 0 & 0 & 0 & 0\\\\0 & 0 & 0 & 0 & 0 & 0 & 0 & 0 & 0 & 0 & 0 & 0 & 0 & 0 & 0 & 0 & 0 & 0 & 0 & 0 & 0 & 0 & 0 & 0 & 0 & 0 & 0 & 0\\\\0 & 0 & 0 & 0 & 0 & 0 & 0 & 0 & 0 & 0 & 0 & 0 & 0 & 0 & 0 & 0 & 0 & 0 & 0 & 0 & 0 & 0 & 0 & 0 & 0 & 0 & 0 & 0\\\\0 & 0 & 0 & 0 & 0 & 0 & 0 & 0 & 0 & 0 & 0 & 0 & 0 & 0 & 0 & 0 & 0 & 0 & 0 & 0 & 0 & 0 & 0 & 0 & 0 & 0 & 0 & 0\\\\0 & 0 & 0 & 0 & 0 & 0 & 0 & 0 & 0 & 0 & 0 & 0 & 0 & 0 & 0 & 0 & 0 & 0 & 0 & 0 & 0 & 0 & 0 & 0 & 0 & 0 & 0 & 0\\\\0 & 0 & 0 & 0 & 0 & 0 & 0 & 0 & 0 & 0 & 0 & 0 & 0 & 0 & 0 & 0 & 0 & 0 & 0 & 0 & 0 & 0 & 0 & 0 & 0 & 0 & 0 & 0\\\\0 & 0 & 0 & 1 & 0 & 0 & 0 & 0 & 0 & 0 & 0 & 0 & 0 & 0 & 0 & 0 & 0 & 0 & 0 & 0 & 0 & 0 & 0 & 0 & 0 & 0 & 0 & 0\\\\0 & 0 & 0 & 0 & 0 & 0 & 0 & 0 & 0 & 0 & 0 & 0 & 0 & 0 & 0 & 0 & 0 & 0 & 0 & 0 & 0 & 0 & 0 & 0 & 0 & 0 & 0 & 0\\end{array}\\right]$$"
      ],
      "text/plain": [
       "⎡1  1  1  1  1  0  0  0  0  1  0  1  1  1  1  0  0  0  0  0  0  0  0  0  0  0 \n",
       "⎢                                                                             \n",
       "⎢1  1  1  1  1  1  1  1  0  1  1  0  0  0  0  0  0  0  0  0  0  0  0  0  0  0 \n",
       "⎢                                                                             \n",
       "⎢1  1  0  1  1  0  1  0  0  0  0  1  1  1  1  1  0  0  0  0  0  0  0  0  0  0 \n",
       "⎢                                                                             \n",
       "⎢1  1  1  1  1  1  1  0  0  0  1  1  0  1  1  0  0  0  0  0  0  0  0  0  0  0 \n",
       "⎢                                                                             \n",
       "⎢1  1  1  1  1  0  1  1  1  0  0  0  1  0  0  1  0  0  0  0  0  0  0  0  0  0 \n",
       "⎢                                                                             \n",
       "⎢1  0  1  1  1  0  1  1  1  0  1  0  0  1  0  1  0  0  0  0  0  0  0  0  0  0 \n",
       "⎢                                                                             \n",
       "⎢1  0  1  0  1  1  1  1  1  1  0  0  0  0  0  0  0  0  0  0  0  0  0  0  0  1 \n",
       "⎢                                                                             \n",
       "⎢1  1  1  0  1  0  1  1  1  1  1  0  0  0  0  0  0  0  0  0  0  0  0  0  0  0 \n",
       "⎢                                                                             \n",
       "⎢0  1  1  1  0  1  1  1  0  1  0  0  0  0  0  0  0  0  0  0  0  0  0  0  0  0 \n",
       "⎢                                                                             \n",
       "⎢0  0  1  1  1  1  1  1  1  1  1  0  0  0  0  0  0  0  0  0  0  0  0  0  0  0 \n",
       "⎢                                                                             \n",
       "⎢1  0  1  1  1  0  1  0  0  1  0  1  0  0  0  0  0  0  0  0  0  0  0  0  0  0 \n",
       "⎢                                                                             \n",
       "⎢0  1  1  0  1  1  1  1  1  0  1  0  0  0  0  0  0  0  0  0  0  0  0  0  0  0 \n",
       "⎢                                                                             \n",
       "⎢1  1  1  1  1  1  0  1  0  0  0  1  0  0  0  0  0  0  0  0  0  0  0  0  0  0 \n",
       "⎢                                                                             \n",
       "⎢0  1  1  0  0  1  0  0  0  0  0  0  0  0  0  0  0  0  0  0  0  0  0  0  0  0 \n",
       "⎢                                                                             \n",
       "⎢1  0  1  0  0  0  1  0  1  0  0  0  0  0  0  0  0  0  0  0  0  0  0  0  0  0 \n",
       "⎢                                                                             \n",
       "⎢0  0  0  1  1  0  0  0  0  1  0  0  1  0  1  0  0  0  0  0  0  0  0  0  0  0 \n",
       "⎢                                                                             \n",
       "⎢1  0  0  0  0  0  0  0  1  0  0  0  0  0  0  0  0  0  0  0  0  0  0  0  0  0 \n",
       "⎢                                                                             \n",
       "⎢0  1  1  1  0  1  0  0  0  0  0  0  0  0  0  0  0  0  0  0  0  0  0  0  0  0 \n",
       "⎢                                                                             \n",
       "⎢1  0  0  0  0  0  0  0  0  1  1  0  0  0  0  0  0  0  0  0  0  0  0  0  0  0 \n",
       "⎢                                                                             \n",
       "⎢0  1  0  0  0  0  0  0  0  0  0  0  0  0  0  0  0  0  0  0  0  0  0  0  0  0 \n",
       "⎢                                                                             \n",
       "⎢0  0  0  0  0  0  0  0  0  0  0  0  0  0  0  0  0  0  0  0  0  0  0  0  0  0 \n",
       "⎢                                                                             \n",
       "⎢0  0  0  0  0  0  0  0  0  0  0  0  0  0  0  0  0  0  0  0  0  0  0  0  0  0 \n",
       "⎢                                                                             \n",
       "⎢0  0  0  0  0  0  0  0  0  0  0  0  0  0  0  0  0  0  0  0  0  0  0  0  0  0 \n",
       "⎢                                                                             \n",
       "⎢0  0  0  0  0  0  0  0  0  0  0  0  0  0  0  0  0  0  0  0  0  0  0  0  0  0 \n",
       "⎢                                                                             \n",
       "⎢0  0  0  0  0  0  0  0  0  0  0  0  0  0  0  0  0  0  0  0  0  0  0  0  0  0 \n",
       "⎢                                                                             \n",
       "⎢0  0  0  0  0  0  0  0  0  0  0  0  0  0  0  0  0  0  0  0  0  0  0  0  0  0 \n",
       "⎢                                                                             \n",
       "⎢0  0  0  1  0  0  0  0  0  0  0  0  0  0  0  0  0  0  0  0  0  0  0  0  0  0 \n",
       "⎢                                                                             \n",
       "⎣0  0  0  0  0  0  0  0  0  0  0  0  0  0  0  0  0  0  0  0  0  0  0  0  0  0 \n",
       "\n",
       " 0  0⎤\n",
       "     ⎥\n",
       " 0  0⎥\n",
       "     ⎥\n",
       " 0  0⎥\n",
       "     ⎥\n",
       " 0  0⎥\n",
       "     ⎥\n",
       " 0  0⎥\n",
       "     ⎥\n",
       " 0  0⎥\n",
       "     ⎥\n",
       " 0  0⎥\n",
       "     ⎥\n",
       " 0  0⎥\n",
       "     ⎥\n",
       " 0  0⎥\n",
       "     ⎥\n",
       " 0  0⎥\n",
       "     ⎥\n",
       " 0  0⎥\n",
       "     ⎥\n",
       " 0  0⎥\n",
       "     ⎥\n",
       " 0  0⎥\n",
       "     ⎥\n",
       " 0  0⎥\n",
       "     ⎥\n",
       " 0  0⎥\n",
       "     ⎥\n",
       " 0  0⎥\n",
       "     ⎥\n",
       " 0  0⎥\n",
       "     ⎥\n",
       " 0  0⎥\n",
       "     ⎥\n",
       " 0  0⎥\n",
       "     ⎥\n",
       " 0  0⎥\n",
       "     ⎥\n",
       " 0  0⎥\n",
       "     ⎥\n",
       " 0  0⎥\n",
       "     ⎥\n",
       " 0  0⎥\n",
       "     ⎥\n",
       " 0  0⎥\n",
       "     ⎥\n",
       " 0  0⎥\n",
       "     ⎥\n",
       " 0  0⎥\n",
       "     ⎥\n",
       " 0  0⎥\n",
       "     ⎥\n",
       " 0  0⎦"
      ]
     },
     "execution_count": 127,
     "metadata": {},
     "output_type": "execute_result"
    }
   ],
   "source": [
    "M1F_dropped.applyfunc(lambda x: 1 if x != 0 else 0)"
   ]
  },
  {
   "cell_type": "markdown",
   "metadata": {},
   "source": [
    "We could use this technique to set most of the matrix elements to 0 and skip the computation steps of them to accelerate computation time with cost of error"
   ]
  }
 ],
 "metadata": {
  "kernelspec": {
   "display_name": "ml",
   "language": "python",
   "name": "ml"
  },
  "language_info": {
   "codemirror_mode": {
    "name": "ipython",
    "version": 3
   },
   "file_extension": ".py",
   "mimetype": "text/x-python",
   "name": "python",
   "nbconvert_exporter": "python",
   "pygments_lexer": "ipython3",
   "version": "3.6.4"
  }
 },
 "nbformat": 4,
 "nbformat_minor": 2
}
