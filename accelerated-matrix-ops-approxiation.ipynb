{
 "cells": [
  {
   "cell_type": "code",
   "execution_count": 1,
   "metadata": {},
   "outputs": [
    {
     "name": "stderr",
     "output_type": "stream",
     "text": [
      "Using TensorFlow backend.\n"
     ]
    }
   ],
   "source": [
    "import keras\n",
    "import numpy as np\n",
    "import matplotlib.pyplot as plt\n",
    "from sympy import *\n",
    "init_printing()"
   ]
  },
  {
   "cell_type": "markdown",
   "metadata": {},
   "source": [
    "### toy data for creating matrices to testing"
   ]
  },
  {
   "cell_type": "code",
   "execution_count": 2,
   "metadata": {},
   "outputs": [
    {
     "data": {
      "image/png": "[encoded data removed]",
      "text/latex": [
       "$$\\left ( 60000, \\quad 28, \\quad 28\\right )$$"
      ],
      "text/plain": [
       "(60000, 28, 28)"
      ]
     },
     "execution_count": 2,
     "metadata": {},
     "output_type": "execute_result"
    }
   ],
   "source": [
    "(dataset, _), (_, _) = keras.datasets.mnist.load_data()\n",
    "dataset = dataset / 255.\n",
    "dataset.shape"
   ]
  },
  {
   "cell_type": "markdown",
   "metadata": {},
   "source": [
    "### unitary discrete cosine transform type 4 matrix creation procedure"
   ]
  },
  {
   "cell_type": "code",
   "execution_count": 3,
   "metadata": {
    "collapsed": true
   },
   "outputs": [],
   "source": [
    "def dct(N, evalf=False):\n",
    "    m = Matrix(N, N, lambda n,k: cos((pi/N)*(n+Rational(1,2))*(k+Rational(1,2))))\n",
    "    m = sqrt(Rational(2,N)) * m\n",
    "    if evalf:\n",
    "        m = m.evalf()\n",
    "    return m\n",
    "def dctf(N):\n",
    "    return dct(N, evalf=True)"
   ]
  },
  {
   "cell_type": "markdown",
   "metadata": {},
   "source": [
    "### creates 3 toy matrices, $M_1,M_2,M_3$ and plot $M_1 M_2 M_3$"
   ]
  },
  {
   "cell_type": "code",
   "execution_count": 4,
   "metadata": {},
   "outputs": [
    {
     "name": "stdout",
     "output_type": "stream",
     "text": [
      "shape of M1 (20, 28)\n",
      "shape of M2 (28, 14)\n",
      "shape of M3 (14, 28)\n"
     ]
    },
    {
     "data": {
      "image/png": "[encoded data removed]",
      "text/plain": [
       "<matplotlib.figure.Figure at 0x7f58b2772fd0>"
      ]
     },
     "metadata": {},
     "output_type": "display_data"
    }
   ],
   "source": [
    "M1 = Matrix(dataset[5,:20,:]); print('shape of M1', M1.shape)\n",
    "M2 = Matrix(dataset[9,:,:14]); print('shape of M2', M2.shape)\n",
    "M3 = Matrix(dataset[3,:14,:]); print('shape of M3', M3.shape)\n",
    "M = M1 @ M2 @ M3\n",
    "plt.imshow(np.array(M).astype(np.float))\n",
    "plt.colorbar()\n",
    "plt.show()"
   ]
  },
  {
   "cell_type": "markdown",
   "metadata": {},
   "source": [
    "### apply $DCT_{2D}(M)$ to toy matrices into frequency matrices, $M_1^F,M_2^F,M_3^F$"
   ]
  },
  {
   "cell_type": "code",
   "execution_count": 5,
   "metadata": {},
   "outputs": [
    {
     "name": "stdout",
     "output_type": "stream",
     "text": [
      "shape of M1F (20, 28)\n",
      "shape of M1F (28, 14)\n",
      "shape of M1F (14, 28)\n"
     ]
    }
   ],
   "source": [
    "M1F = dctf(M1.shape[0]) @ M1 @ dctf(M1.shape[1]); print('shape of M1F', M1F.shape)\n",
    "M2F = dctf(M2.shape[0]) @ M2 @ dctf(M2.shape[1]); print('shape of M1F', M2F.shape)\n",
    "M3F = dctf(M3.shape[0]) @ M3 @ dctf(M3.shape[1]); print('shape of M1F', M3F.shape)"
   ]
  },
  {
   "cell_type": "markdown",
   "metadata": {},
   "source": [
    "### plot $DCT_{2D}^{-1}(M_1^F M_2^F M_3^F)$"
   ]
  },
  {
   "cell_type": "code",
   "execution_count": 6,
   "metadata": {},
   "outputs": [
    {
     "data": {
      "image/png": "[encoded data removed]",
      "text/plain": [
       "<matplotlib.figure.Figure at 0x7f58b2772ac8>"
      ]
     },
     "metadata": {},
     "output_type": "display_data"
    }
   ],
   "source": [
    "T = dctf(M1.shape[0]) @ (M1F @ M2F @ M3F) @ dctf(M3.shape[1])\n",
    "plt.imshow(np.array(T).astype(np.float))\n",
    "plt.colorbar()\n",
    "plt.show()"
   ]
  },
  {
   "cell_type": "markdown",
   "metadata": {},
   "source": [
    "### drop most of the insignificant frequences ($|f| < 0.2$)\n",
    "- produce frequency matrices with a lot of $0$ as $M_1^{F'},M_2^{F'},M_3^{F'}$\n",
    "- plot $DCT_{2D}^{-1}(M_1^{F'} M_2^{F'} M_3^{F'})$"
   ]
  },
  {
   "cell_type": "code",
   "execution_count": 7,
   "metadata": {},
   "outputs": [
    {
     "data": {
      "image/png": "[encoded data removed]",
      "text/plain": [
       "<matplotlib.figure.Figure at 0x7f58b2625160>"
      ]
     },
     "metadata": {},
     "output_type": "display_data"
    }
   ],
   "source": [
    "M1F_dropped = M1F.applyfunc(lambda x: x if abs(x) > 0.2 else 0)\n",
    "M2F_dropped = M2F.applyfunc(lambda x: x if abs(x) > 0.2 else 0)\n",
    "M3F_dropped = M3F.applyfunc(lambda x: x if abs(x) > 0.2 else 0)\n",
    "T = dctf(M1.shape[0]) @ (M1F_dropped @ M2F_dropped @ M3F_dropped) @ dctf(M3.shape[1])\n",
    "plt.imshow(np.array(T).astype(np.float))\n",
    "plt.colorbar()\n",
    "plt.show()"
   ]
  },
  {
   "cell_type": "markdown",
   "metadata": {},
   "source": [
    "### show the removed frequece in $M_1^{F'}$\n",
    "- $1$ means the fequency is keeped\n",
    "- $0$ means the fequency is dropped"
   ]
  },
  {
   "cell_type": "code",
   "execution_count": 8,
   "metadata": {},
   "outputs": [
    {
     "data": {
      "text/latex": [
       "$$\\left[\\begin{array}{cccccccccccccccccccccccccccc}1 & 1 & 1 & 1 & 1 & 1 & 1 & 1 & 1 & 1 & 1 & 1 & 0 & 1 & 1 & 0 & 0 & 0 & 0 & 1 & 0 & 0 & 0 & 0 & 0 & 0 & 0 & 0\\\\1 & 1 & 1 & 1 & 1 & 1 & 1 & 1 & 1 & 1 & 1 & 1 & 0 & 1 & 1 & 0 & 0 & 1 & 0 & 1 & 0 & 0 & 0 & 0 & 0 & 0 & 0 & 0\\\\1 & 1 & 0 & 1 & 1 & 0 & 1 & 1 & 1 & 1 & 1 & 0 & 0 & 1 & 0 & 0 & 0 & 0 & 0 & 0 & 0 & 0 & 0 & 0 & 0 & 0 & 0 & 0\\\\1 & 1 & 1 & 1 & 1 & 1 & 1 & 1 & 1 & 1 & 1 & 0 & 0 & 1 & 0 & 0 & 0 & 0 & 0 & 0 & 0 & 0 & 0 & 0 & 0 & 0 & 0 & 0\\\\1 & 1 & 1 & 1 & 1 & 1 & 1 & 1 & 0 & 1 & 0 & 1 & 1 & 0 & 1 & 0 & 0 & 0 & 0 & 0 & 0 & 0 & 0 & 0 & 0 & 0 & 0 & 0\\\\1 & 1 & 1 & 1 & 0 & 1 & 1 & 1 & 0 & 1 & 0 & 1 & 0 & 0 & 0 & 0 & 0 & 0 & 0 & 0 & 0 & 0 & 0 & 0 & 0 & 0 & 0 & 0\\\\0 & 0 & 1 & 1 & 1 & 0 & 1 & 1 & 0 & 1 & 1 & 0 & 0 & 0 & 0 & 0 & 0 & 0 & 0 & 0 & 0 & 0 & 0 & 0 & 0 & 0 & 0 & 0\\\\1 & 1 & 1 & 0 & 0 & 1 & 1 & 1 & 1 & 1 & 1 & 0 & 0 & 0 & 0 & 0 & 0 & 0 & 0 & 0 & 0 & 0 & 0 & 0 & 0 & 0 & 0 & 0\\\\1 & 0 & 1 & 1 & 1 & 1 & 1 & 1 & 1 & 0 & 1 & 0 & 0 & 0 & 0 & 0 & 0 & 0 & 0 & 0 & 0 & 0 & 0 & 0 & 0 & 0 & 0 & 0\\\\1 & 1 & 1 & 0 & 1 & 1 & 1 & 1 & 0 & 1 & 1 & 1 & 0 & 0 & 0 & 0 & 0 & 0 & 0 & 0 & 0 & 0 & 0 & 0 & 0 & 0 & 0 & 0\\\\1 & 1 & 1 & 0 & 1 & 1 & 1 & 1 & 1 & 1 & 1 & 1 & 0 & 0 & 0 & 0 & 0 & 0 & 0 & 0 & 0 & 0 & 0 & 0 & 0 & 0 & 0 & 0\\\\0 & 1 & 0 & 1 & 1 & 0 & 1 & 0 & 1 & 1 & 1 & 1 & 0 & 0 & 0 & 0 & 0 & 0 & 0 & 0 & 0 & 0 & 0 & 0 & 0 & 0 & 0 & 0\\\\1 & 0 & 0 & 1 & 0 & 0 & 0 & 0 & 0 & 1 & 0 & 0 & 0 & 1 & 0 & 0 & 0 & 0 & 0 & 0 & 0 & 0 & 0 & 0 & 0 & 0 & 0 & 0\\\\1 & 0 & 1 & 0 & 0 & 0 & 0 & 0 & 0 & 1 & 0 & 0 & 0 & 0 & 0 & 0 & 0 & 1 & 0 & 0 & 0 & 0 & 0 & 0 & 0 & 0 & 0 & 0\\\\0 & 0 & 0 & 1 & 0 & 0 & 0 & 0 & 0 & 1 & 0 & 0 & 0 & 0 & 0 & 0 & 0 & 0 & 0 & 0 & 0 & 0 & 0 & 0 & 0 & 0 & 0 & 0\\\\0 & 0 & 0 & 0 & 0 & 0 & 0 & 0 & 0 & 0 & 0 & 0 & 0 & 0 & 0 & 0 & 0 & 0 & 0 & 0 & 0 & 0 & 0 & 0 & 0 & 0 & 0 & 0\\\\0 & 0 & 0 & 0 & 0 & 0 & 0 & 0 & 0 & 0 & 0 & 0 & 0 & 0 & 0 & 0 & 0 & 0 & 0 & 0 & 0 & 0 & 0 & 0 & 0 & 0 & 0 & 0\\\\1 & 0 & 1 & 0 & 0 & 0 & 0 & 0 & 1 & 0 & 0 & 1 & 0 & 0 & 0 & 0 & 0 & 0 & 0 & 0 & 0 & 0 & 0 & 0 & 0 & 0 & 0 & 0\\\\1 & 0 & 1 & 0 & 0 & 0 & 0 & 0 & 0 & 0 & 0 & 0 & 0 & 0 & 0 & 0 & 0 & 0 & 0 & 0 & 0 & 0 & 0 & 0 & 0 & 0 & 0 & 0\\\\1 & 0 & 1 & 0 & 0 & 0 & 0 & 0 & 1 & 0 & 0 & 0 & 0 & 0 & 0 & 0 & 0 & 0 & 0 & 0 & 0 & 0 & 0 & 0 & 0 & 0 & 0 & 0\\end{array}\\right]$$"
      ],
      "text/plain": [
       "⎡1  1  1  1  1  1  1  1  1  1  1  1  0  1  1  0  0  0  0  1  0  0  0  0  0  0 \n",
       "⎢                                                                             \n",
       "⎢1  1  1  1  1  1  1  1  1  1  1  1  0  1  1  0  0  1  0  1  0  0  0  0  0  0 \n",
       "⎢                                                                             \n",
       "⎢1  1  0  1  1  0  1  1  1  1  1  0  0  1  0  0  0  0  0  0  0  0  0  0  0  0 \n",
       "⎢                                                                             \n",
       "⎢1  1  1  1  1  1  1  1  1  1  1  0  0  1  0  0  0  0  0  0  0  0  0  0  0  0 \n",
       "⎢                                                                             \n",
       "⎢1  1  1  1  1  1  1  1  0  1  0  1  1  0  1  0  0  0  0  0  0  0  0  0  0  0 \n",
       "⎢                                                                             \n",
       "⎢1  1  1  1  0  1  1  1  0  1  0  1  0  0  0  0  0  0  0  0  0  0  0  0  0  0 \n",
       "⎢                                                                             \n",
       "⎢0  0  1  1  1  0  1  1  0  1  1  0  0  0  0  0  0  0  0  0  0  0  0  0  0  0 \n",
       "⎢                                                                             \n",
       "⎢1  1  1  0  0  1  1  1  1  1  1  0  0  0  0  0  0  0  0  0  0  0  0  0  0  0 \n",
       "⎢                                                                             \n",
       "⎢1  0  1  1  1  1  1  1  1  0  1  0  0  0  0  0  0  0  0  0  0  0  0  0  0  0 \n",
       "⎢                                                                             \n",
       "⎢1  1  1  0  1  1  1  1  0  1  1  1  0  0  0  0  0  0  0  0  0  0  0  0  0  0 \n",
       "⎢                                                                             \n",
       "⎢1  1  1  0  1  1  1  1  1  1  1  1  0  0  0  0  0  0  0  0  0  0  0  0  0  0 \n",
       "⎢                                                                             \n",
       "⎢0  1  0  1  1  0  1  0  1  1  1  1  0  0  0  0  0  0  0  0  0  0  0  0  0  0 \n",
       "⎢                                                                             \n",
       "⎢1  0  0  1  0  0  0  0  0  1  0  0  0  1  0  0  0  0  0  0  0  0  0  0  0  0 \n",
       "⎢                                                                             \n",
       "⎢1  0  1  0  0  0  0  0  0  1  0  0  0  0  0  0  0  1  0  0  0  0  0  0  0  0 \n",
       "⎢                                                                             \n",
       "⎢0  0  0  1  0  0  0  0  0  1  0  0  0  0  0  0  0  0  0  0  0  0  0  0  0  0 \n",
       "⎢                                                                             \n",
       "⎢0  0  0  0  0  0  0  0  0  0  0  0  0  0  0  0  0  0  0  0  0  0  0  0  0  0 \n",
       "⎢                                                                             \n",
       "⎢0  0  0  0  0  0  0  0  0  0  0  0  0  0  0  0  0  0  0  0  0  0  0  0  0  0 \n",
       "⎢                                                                             \n",
       "⎢1  0  1  0  0  0  0  0  1  0  0  1  0  0  0  0  0  0  0  0  0  0  0  0  0  0 \n",
       "⎢                                                                             \n",
       "⎢1  0  1  0  0  0  0  0  0  0  0  0  0  0  0  0  0  0  0  0  0  0  0  0  0  0 \n",
       "⎢                                                                             \n",
       "⎣1  0  1  0  0  0  0  0  1  0  0  0  0  0  0  0  0  0  0  0  0  0  0  0  0  0 \n",
       "\n",
       " 0  0⎤\n",
       "     ⎥\n",
       " 0  0⎥\n",
       "     ⎥\n",
       " 0  0⎥\n",
       "     ⎥\n",
       " 0  0⎥\n",
       "     ⎥\n",
       " 0  0⎥\n",
       "     ⎥\n",
       " 0  0⎥\n",
       "     ⎥\n",
       " 0  0⎥\n",
       "     ⎥\n",
       " 0  0⎥\n",
       "     ⎥\n",
       " 0  0⎥\n",
       "     ⎥\n",
       " 0  0⎥\n",
       "     ⎥\n",
       " 0  0⎥\n",
       "     ⎥\n",
       " 0  0⎥\n",
       "     ⎥\n",
       " 0  0⎥\n",
       "     ⎥\n",
       " 0  0⎥\n",
       "     ⎥\n",
       " 0  0⎥\n",
       "     ⎥\n",
       " 0  0⎥\n",
       "     ⎥\n",
       " 0  0⎥\n",
       "     ⎥\n",
       " 0  0⎥\n",
       "     ⎥\n",
       " 0  0⎥\n",
       "     ⎥\n",
       " 0  0⎦"
      ]
     },
     "execution_count": 8,
     "metadata": {},
     "output_type": "execute_result"
    }
   ],
   "source": [
    "M1F_dropped.applyfunc(lambda x: 1 if x != 0 else 0)"
   ]
  },
  {
   "cell_type": "markdown",
   "metadata": {},
   "source": [
    "We could use this technique to set most of the matrix elements to 0 and skip the computation steps of them to accelerate computation time with cost of error"
   ]
  },
  {
   "cell_type": "markdown",
   "metadata": {},
   "source": [
    "### vector multiplication\n",
    "- we can apply $DCT_{1D}(V)$ on the vector to mitigate applying heavy $DCT_{2D}^{-1}(M)$ on matrices\n",
    "- create toy vector $V$ and its frequecy vector $DCT_{1D}(V) = V^F$\n",
    "- plot $M_1 M_2 M_3 V$\n",
    "- plot $DCT_{1D}^{-1}(M_1^{F} M_2^{F} M_3^{F} V^{F})$\n",
    "- plot $DCT_{1D}^{-1}(M_1^{F'} M_2^{F'} M_3^{F'} V^{F})$"
   ]
  },
  {
   "cell_type": "code",
   "execution_count": 9,
   "metadata": {},
   "outputs": [
    {
     "name": "stdout",
     "output_type": "stream",
     "text": [
      "shape of V (28, 1)\n"
     ]
    },
    {
     "data": {
      "image/png": "[encoded data removed]",
      "text/plain": [
       "<matplotlib.figure.Figure at 0x7f58970f6a58>"
      ]
     },
     "metadata": {},
     "output_type": "display_data"
    }
   ],
   "source": [
    "V = Matrix(dataset[12,:,14:15]); print('shape of V', V.shape)\n",
    "VF = dctf(V.shape[0]) @ V\n",
    "M = M1 @ M2 @ M3 @ V\n",
    "S = dctf(M1.shape[0]) @ (M1F @ M2F @ M3F @ VF)\n",
    "T = dctf(M1.shape[0]) @ (M1F_dropped @ M2F_dropped @ M3F_dropped @ VF)\n",
    "for i, (v, title) in enumerate(zip([M, S, T], ['truth', 'freq.', 'freq. dropped'])):\n",
    "    plt.subplot(1,3,i+1)\n",
    "    plt.title(title)\n",
    "    plt.imshow(np.array(v).astype(np.float))\n",
    "    plt.colorbar()\n",
    "plt.show()"
   ]
  }
 ],
 "metadata": {
  "kernelspec": {
   "display_name": "ml",
   "language": "python",
   "name": "ml"
  },
  "language_info": {
   "codemirror_mode": {
    "name": "ipython",
    "version": 3
   },
   "file_extension": ".py",
   "mimetype": "text/x-python",
   "name": "python",
   "nbconvert_exporter": "python",
   "pygments_lexer": "ipython3",
   "version": "3.6.4"
  }
 },
 "nbformat": 4,
 "nbformat_minor": 2
}
