{
 "cells": [
  {
   "cell_type": "code",
   "execution_count": 1,
   "metadata": {
    "collapsed": true
   },
   "outputs": [],
   "source": [
    "from sympy import *\n",
    "from sympy.core.decorators import _sympifyit\n",
    "import matplotlib.pyplot as plt\n",
    "init_printing()"
   ]
  },
  {
   "cell_type": "code",
   "execution_count": 2,
   "metadata": {},
   "outputs": [],
   "source": [
    "nilpotent_types = {}\n",
    "def nilpotent(name):\n",
    "    if name not in nilpotent_types:\n",
    "        class NilpotentUnit(AtomicExpr):\n",
    "\n",
    "            is_commutative = True\n",
    "            is_imaginary = False\n",
    "            is_finite = True\n",
    "            is_number = True\n",
    "            is_algebraic = True\n",
    "            is_transcendental = False\n",
    "\n",
    "            __slots__ = ['__name']\n",
    "\n",
    "            def __new__(cls):\n",
    "                return AtomicExpr.__new__(cls)\n",
    "\n",
    "            def _latex(self, printer):\n",
    "                return f\"\\\\epsilon_{{{name}}}\"\n",
    "\n",
    "            def _eval_evalf(self, prec):\n",
    "                return self\n",
    "\n",
    "            def _eval_power(self, expt):\n",
    "                if isinstance(expt, Number):\n",
    "                    if isinstance(expt, Integer):\n",
    "                        if expt == 0:\n",
    "                            return S.One\n",
    "                        if expt == 1:\n",
    "                            return\n",
    "                    return S.Zero\n",
    "                return\n",
    "        nilpotent_types[name] = NilpotentUnit\n",
    "    return nilpotent_types[name]"
   ]
  },
  {
   "cell_type": "code",
   "execution_count": 3,
   "metadata": {},
   "outputs": [],
   "source": [
    "i,j,k,l = Symbol('i', real=True), Symbol('j', real=True), Symbol('k', real=True), Symbol('l', real=True)\n",
    "x,y,a,b = Symbol('x', real=True), Symbol('y', real=True), Symbol('a', real=True), Symbol('b', real=True)\n",
    "ex,ey,ea,eb = nilpotent('x')(), nilpotent('y')(), nilpotent('a')(), nilpotent('b')()\n",
    "dx,dy,da,db = Symbol('\\\\partial_x'), Symbol('\\\\partial_y'), Symbol('\\\\partial_a'), Symbol('\\\\partial_b')"
   ]
  },
  {
   "cell_type": "code",
   "execution_count": 4,
   "metadata": {},
   "outputs": [
    {
     "data": {
      "image/png": "[encoded data removed]",
      "text/latex": [
       "$$\\frac{3 x^{4}}{2 y^{3}}$$"
      ],
      "text/plain": [
       "   4\n",
       "3⋅x \n",
       "────\n",
       "   3\n",
       "2⋅y "
      ]
     },
     "execution_count": 4,
     "metadata": {},
     "output_type": "execute_result"
    }
   ],
   "source": [
    "f = (3*x**4) / (2*y**3)\n",
    "f"
   ]
  },
  {
   "cell_type": "code",
   "execution_count": 5,
   "metadata": {},
   "outputs": [
    {
     "data": {
      "image/png": "[encoded data removed]",
      "text/latex": [
       "$$- 864 \\epsilon_{x} \\epsilon_{y} \\epsilon_{a} \\epsilon_{b} - 216 \\epsilon_{x} \\epsilon_{a} \\epsilon_{b} - 576 \\epsilon_{y} \\epsilon_{a} \\epsilon_{b} - 144 \\epsilon_{a} \\epsilon_{b} - 216 \\epsilon_{x} \\epsilon_{y} \\epsilon_{a} - 72 \\epsilon_{x} \\epsilon_{a} - 144 \\epsilon_{y} \\epsilon_{a} - 48 \\epsilon_{a} - 576 \\epsilon_{x} \\epsilon_{y} \\epsilon_{b} - 144 \\epsilon_{x} \\epsilon_{b} - 288 \\epsilon_{y} \\epsilon_{b} - 72 \\epsilon_{b} - 144 \\epsilon_{x} \\epsilon_{y} - 48 \\epsilon_{x} - 72 \\epsilon_{y} - 24$$"
      ],
      "text/plain": [
       "-864⋅NilpotentUnit()⋅NilpotentUnit()⋅NilpotentUnit()⋅NilpotentUnit() - 216⋅Nil\n",
       "potentUnit()⋅NilpotentUnit()⋅NilpotentUnit() - 576⋅NilpotentUnit()⋅NilpotentUn\n",
       "it()⋅NilpotentUnit() - 144⋅NilpotentUnit()⋅NilpotentUnit() - 216⋅NilpotentUnit\n",
       "()⋅NilpotentUnit()⋅NilpotentUnit() - 72⋅NilpotentUnit()⋅NilpotentUnit() - 144⋅\n",
       "NilpotentUnit()⋅NilpotentUnit() - 48⋅NilpotentUnit() - 576⋅NilpotentUnit()⋅Nil\n",
       "potentUnit()⋅NilpotentUnit() - 144⋅NilpotentUnit()⋅NilpotentUnit() - 288⋅Nilpo\n",
       "tentUnit()⋅NilpotentUnit() - 72⋅NilpotentUnit() - 144⋅NilpotentUnit()⋅Nilpoten\n",
       "tUnit() - 48⋅NilpotentUnit() - 72⋅NilpotentUnit() - 24"
      ]
     },
     "execution_count": 5,
     "metadata": {},
     "output_type": "execute_result"
    }
   ],
   "source": [
    "test = f.subs({x:2+ex+ea, y:-1+ey+eb}).expand()\n",
    "test = test * (-1-3*ey-3*eb-12*ey*eb)\n",
    "test = test.cancel()\n",
    "test = test / (-1-3*ey-3*eb-12*ey*eb)\n",
    "test = test.cancel()\n",
    "test"
   ]
  },
  {
   "cell_type": "code",
   "execution_count": 6,
   "metadata": {},
   "outputs": [
    {
     "data": {
      "image/png": "[encoded data removed]",
      "text/latex": [
       "$$\\left ( -24, \\quad -48, \\quad -72, \\quad -72, \\quad -288, \\quad -144, \\quad -864\\right )$$"
      ],
      "text/plain": [
       "(-24, -48, -72, -72, -288, -144, -864)"
      ]
     },
     "execution_count": 6,
     "metadata": {},
     "output_type": "execute_result"
    }
   ],
   "source": [
    "p = {x:2, y:-1}\n",
    "f.subs(p), \\\n",
    "f.diff(x).subs(p), \\\n",
    "f.diff(x,2).subs(p), \\\n",
    "f.diff(y).subs(p), \\\n",
    "f.diff(y,2).subs(p), \\\n",
    "f.diff(x).diff(y).subs(p), \\\n",
    "f.diff(x,2).diff(y,2).subs(p), \\"
   ]
  }
 ],
 "metadata": {
  "kernelspec": {
   "display_name": "ml",
   "language": "python",
   "name": "ml"
  },
  "language_info": {
   "codemirror_mode": {
    "name": "ipython",
    "version": 3
   },
   "file_extension": ".py",
   "mimetype": "text/x-python",
   "name": "python",
   "nbconvert_exporter": "python",
   "pygments_lexer": "ipython3",
   "version": "3.6.4"
  }
 },
 "nbformat": 4,
 "nbformat_minor": 2
}
